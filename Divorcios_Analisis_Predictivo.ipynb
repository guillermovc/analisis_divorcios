{
  "cells": [
    {
      "cell_type": "code",
      "source": [
        "!pip install auto-sklearn\n",
        "import sklearn.datasets\n",
        "\n",
        "import autosklearn.regression"
      ],
      "metadata": {
        "colab": {
          "base_uri": "https://localhost:8080/"
        },
        "id": "pyKEKhMJ6KnE",
        "outputId": "ee3ba401-5cd3-42c8-bfd9-f331924298b6"
      },
      "id": "pyKEKhMJ6KnE",
      "execution_count": 2,
      "outputs": [
        {
          "output_type": "stream",
          "name": "stdout",
          "text": [
            "Requirement already satisfied: auto-sklearn in /usr/local/lib/python3.7/dist-packages (0.14.2)\n",
            "Requirement already satisfied: setuptools in /usr/local/lib/python3.7/dist-packages (from auto-sklearn) (57.4.0)\n",
            "Requirement already satisfied: distributed<2021.07,>=2.2.0 in /usr/local/lib/python3.7/dist-packages (from auto-sklearn) (2021.6.2)\n",
            "Requirement already satisfied: pynisher>=0.6.3 in /usr/local/lib/python3.7/dist-packages (from auto-sklearn) (0.6.4)\n",
            "Requirement already satisfied: pyyaml in /usr/local/lib/python3.7/dist-packages (from auto-sklearn) (3.13)\n",
            "Requirement already satisfied: dask<2021.07 in /usr/local/lib/python3.7/dist-packages (from auto-sklearn) (2021.6.2)\n",
            "Requirement already satisfied: scipy>=1.7.0 in /usr/local/lib/python3.7/dist-packages (from auto-sklearn) (1.7.3)\n",
            "Requirement already satisfied: numpy>=1.9.0 in /usr/local/lib/python3.7/dist-packages (from auto-sklearn) (1.19.5)\n",
            "Requirement already satisfied: joblib in /usr/local/lib/python3.7/dist-packages (from auto-sklearn) (1.1.0)\n",
            "Requirement already satisfied: threadpoolctl in /usr/local/lib/python3.7/dist-packages (from auto-sklearn) (3.0.0)\n",
            "Requirement already satisfied: smac>=0.14 in /usr/local/lib/python3.7/dist-packages (from auto-sklearn) (1.1.1)\n",
            "Requirement already satisfied: liac-arff in /usr/local/lib/python3.7/dist-packages (from auto-sklearn) (2.5.0)\n",
            "Requirement already satisfied: typing-extensions in /usr/local/lib/python3.7/dist-packages (from auto-sklearn) (3.10.0.2)\n",
            "Requirement already satisfied: ConfigSpace<0.5,>=0.4.14 in /usr/local/lib/python3.7/dist-packages (from auto-sklearn) (0.4.20)\n",
            "Requirement already satisfied: pandas>=1.0 in /usr/local/lib/python3.7/dist-packages (from auto-sklearn) (1.1.5)\n",
            "Requirement already satisfied: pyrfr<0.9,>=0.8.1 in /usr/local/lib/python3.7/dist-packages (from auto-sklearn) (0.8.2)\n",
            "Requirement already satisfied: scikit-learn<0.25.0,>=0.24.0 in /usr/local/lib/python3.7/dist-packages (from auto-sklearn) (0.24.2)\n",
            "Requirement already satisfied: cython in /usr/local/lib/python3.7/dist-packages (from ConfigSpace<0.5,>=0.4.14->auto-sklearn) (0.29.24)\n",
            "Requirement already satisfied: pyparsing in /usr/local/lib/python3.7/dist-packages (from ConfigSpace<0.5,>=0.4.14->auto-sklearn) (3.0.6)\n",
            "Requirement already satisfied: toolz>=0.8.2 in /usr/local/lib/python3.7/dist-packages (from dask<2021.07->auto-sklearn) (0.11.2)\n",
            "Requirement already satisfied: fsspec>=0.6.0 in /usr/local/lib/python3.7/dist-packages (from dask<2021.07->auto-sklearn) (2021.11.1)\n",
            "Requirement already satisfied: partd>=0.3.10 in /usr/local/lib/python3.7/dist-packages (from dask<2021.07->auto-sklearn) (1.2.0)\n",
            "Requirement already satisfied: cloudpickle>=1.1.1 in /usr/local/lib/python3.7/dist-packages (from dask<2021.07->auto-sklearn) (2.0.0)\n",
            "Requirement already satisfied: click>=6.6 in /usr/local/lib/python3.7/dist-packages (from distributed<2021.07,>=2.2.0->auto-sklearn) (7.1.2)\n",
            "Requirement already satisfied: sortedcontainers!=2.0.0,!=2.0.1 in /usr/local/lib/python3.7/dist-packages (from distributed<2021.07,>=2.2.0->auto-sklearn) (2.4.0)\n",
            "Requirement already satisfied: tblib>=1.6.0 in /usr/local/lib/python3.7/dist-packages (from distributed<2021.07,>=2.2.0->auto-sklearn) (1.7.0)\n",
            "Requirement already satisfied: tornado>=5 in /usr/local/lib/python3.7/dist-packages (from distributed<2021.07,>=2.2.0->auto-sklearn) (5.1.1)\n",
            "Requirement already satisfied: zict>=0.1.3 in /usr/local/lib/python3.7/dist-packages (from distributed<2021.07,>=2.2.0->auto-sklearn) (2.0.0)\n",
            "Requirement already satisfied: psutil>=5.0 in /usr/local/lib/python3.7/dist-packages (from distributed<2021.07,>=2.2.0->auto-sklearn) (5.4.8)\n",
            "Requirement already satisfied: msgpack>=0.6.0 in /usr/local/lib/python3.7/dist-packages (from distributed<2021.07,>=2.2.0->auto-sklearn) (1.0.3)\n",
            "Requirement already satisfied: pytz>=2017.2 in /usr/local/lib/python3.7/dist-packages (from pandas>=1.0->auto-sklearn) (2018.9)\n",
            "Requirement already satisfied: python-dateutil>=2.7.3 in /usr/local/lib/python3.7/dist-packages (from pandas>=1.0->auto-sklearn) (2.8.2)\n",
            "Requirement already satisfied: locket in /usr/local/lib/python3.7/dist-packages (from partd>=0.3.10->dask<2021.07->auto-sklearn) (0.2.1)\n",
            "Requirement already satisfied: six>=1.5 in /usr/local/lib/python3.7/dist-packages (from python-dateutil>=2.7.3->pandas>=1.0->auto-sklearn) (1.15.0)\n",
            "Requirement already satisfied: emcee>=3.0.0 in /usr/local/lib/python3.7/dist-packages (from smac>=0.14->auto-sklearn) (3.1.1)\n",
            "Requirement already satisfied: heapdict in /usr/local/lib/python3.7/dist-packages (from zict>=0.1.3->distributed<2021.07,>=2.2.0->auto-sklearn) (1.0.1)\n"
          ]
        }
      ]
    },
    {
      "cell_type": "code",
      "execution_count": 3,
      "id": "ba8bdb5d",
      "metadata": {
        "id": "ba8bdb5d"
      },
      "outputs": [],
      "source": [
        "# Importar librerías necesaias\n",
        "import numpy as np\n",
        "import pandas as pd\n",
        "import matplotlib.pyplot as plt\n",
        "from datetime import datetime\n",
        "from sklearn.preprocessing import LabelEncoder"
      ]
    },
    {
      "cell_type": "code",
      "execution_count": 4,
      "id": "0575bff5",
      "metadata": {
        "id": "0575bff5"
      },
      "outputs": [],
      "source": [
        "# Función para convertir fechas numéricas a un formato correcto\n",
        "custom_date_parser = lambda x: datetime.strptime(x, \"%d/%m/%Y\")\n",
        "divorcios = pd.read_csv(\"divorcios.csv\", parse_dates=['fecha_divorcio', 'fecha_matrimonio'], date_parser=custom_date_parser)"
      ]
    },
    {
      "cell_type": "code",
      "execution_count": 5,
      "id": "70e3a0fe",
      "metadata": {
        "colab": {
          "base_uri": "https://localhost:8080/",
          "height": 278
        },
        "id": "70e3a0fe",
        "outputId": "000d7bab-1f08-472a-8e68-cfbca7c7551f"
      },
      "outputs": [
        {
          "output_type": "execute_result",
          "data": {
            "text/html": [
              "<div>\n",
              "<style scoped>\n",
              "    .dataframe tbody tr th:only-of-type {\n",
              "        vertical-align: middle;\n",
              "    }\n",
              "\n",
              "    .dataframe tbody tr th {\n",
              "        vertical-align: top;\n",
              "    }\n",
              "\n",
              "    .dataframe thead th {\n",
              "        text-align: right;\n",
              "    }\n",
              "</style>\n",
              "<table border=\"1\" class=\"dataframe\">\n",
              "  <thead>\n",
              "    <tr style=\"text-align: right;\">\n",
              "      <th></th>\n",
              "      <th>fecha_divorcio</th>\n",
              "      <th>tipo_divorcio</th>\n",
              "      <th>nacionalidad_h</th>\n",
              "      <th>fecha_nacimiento_h</th>\n",
              "      <th>lugar_nacimiento_h</th>\n",
              "      <th>municipio_nacimiento_h</th>\n",
              "      <th>estado_nacimiento_h</th>\n",
              "      <th>pais_nacimiento_h</th>\n",
              "      <th>edad_h</th>\n",
              "      <th>municipio_residencia_h</th>\n",
              "      <th>estado_residencia_h</th>\n",
              "      <th>pais_residencia_h</th>\n",
              "      <th>ingreso_mensual_h</th>\n",
              "      <th>ocupacion_h</th>\n",
              "      <th>lugar_residencia_h</th>\n",
              "      <th>nacionalidad_m</th>\n",
              "      <th>fecha_nacimiento_m</th>\n",
              "      <th>lugar_nacimiento_m</th>\n",
              "      <th>municipio_nacimiento_m</th>\n",
              "      <th>estado_nacimiento_m</th>\n",
              "      <th>pais_nacimiento_m</th>\n",
              "      <th>edad_m</th>\n",
              "      <th>lugar_residencia_m</th>\n",
              "      <th>municipio_residencia_m</th>\n",
              "      <th>estado_residencia_m</th>\n",
              "      <th>pais_residencia_m</th>\n",
              "      <th>ocupacion_m</th>\n",
              "      <th>ingreso_mensual_m</th>\n",
              "      <th>fecha_matrimonio</th>\n",
              "      <th>municipio_certificado</th>\n",
              "      <th>estado_certificado</th>\n",
              "      <th>nivel_educacion_h</th>\n",
              "      <th>estatus_empleo_h</th>\n",
              "      <th>nivel_educacion_m</th>\n",
              "      <th>estatus_empleo_m</th>\n",
              "      <th>duracion_matrimonio</th>\n",
              "      <th>duracion_matrimonio_meses</th>\n",
              "      <th>numero_hijos</th>\n",
              "      <th>custodia</th>\n",
              "    </tr>\n",
              "  </thead>\n",
              "  <tbody>\n",
              "    <tr>\n",
              "      <th>0</th>\n",
              "      <td>2006-06-09</td>\n",
              "      <td>Necesario</td>\n",
              "      <td>MEXICANA</td>\n",
              "      <td>18/12/1975</td>\n",
              "      <td>XALAPA - ENRIQUEZ</td>\n",
              "      <td>XALAPA</td>\n",
              "      <td>VERACRUZ</td>\n",
              "      <td>MEXICO</td>\n",
              "      <td>30.0</td>\n",
              "      <td>XALAPA</td>\n",
              "      <td>VERACRUZ</td>\n",
              "      <td>MEXICO</td>\n",
              "      <td>2000.0</td>\n",
              "      <td>PINTOR</td>\n",
              "      <td>XALAPA-ENRIQUEZ</td>\n",
              "      <td>MEXICANA</td>\n",
              "      <td>08/01/1983</td>\n",
              "      <td>PUEBLA</td>\n",
              "      <td>PUEBLA</td>\n",
              "      <td>PUEBLA</td>\n",
              "      <td>MEXICO</td>\n",
              "      <td>22.0</td>\n",
              "      <td>XALAPA-ENRIQUEZ</td>\n",
              "      <td>XALAPA</td>\n",
              "      <td>VERACRUZ</td>\n",
              "      <td>MEXICO</td>\n",
              "      <td>EMPLEADA</td>\n",
              "      <td>1800.0</td>\n",
              "      <td>2000-06-26</td>\n",
              "      <td>XALAPA</td>\n",
              "      <td>VERACRUZ</td>\n",
              "      <td>SECUNDARIA</td>\n",
              "      <td>OBRERO</td>\n",
              "      <td>SECUNDARIA</td>\n",
              "      <td>EMPLEADO</td>\n",
              "      <td>5.0</td>\n",
              "      <td>NaN</td>\n",
              "      <td>1.0</td>\n",
              "      <td>NaN</td>\n",
              "    </tr>\n",
              "    <tr>\n",
              "      <th>1</th>\n",
              "      <td>2000-02-01</td>\n",
              "      <td>Voluntario</td>\n",
              "      <td>MEXICANA</td>\n",
              "      <td>NaN</td>\n",
              "      <td>NaN</td>\n",
              "      <td>NaN</td>\n",
              "      <td>NaN</td>\n",
              "      <td>NaN</td>\n",
              "      <td>47.0</td>\n",
              "      <td>NaN</td>\n",
              "      <td>NaN</td>\n",
              "      <td>NaN</td>\n",
              "      <td>NaN</td>\n",
              "      <td>NaN</td>\n",
              "      <td>NaN</td>\n",
              "      <td>MEXICANA</td>\n",
              "      <td>NaN</td>\n",
              "      <td>NaN</td>\n",
              "      <td>NaN</td>\n",
              "      <td>NaN</td>\n",
              "      <td>NaN</td>\n",
              "      <td>41.0</td>\n",
              "      <td>NaN</td>\n",
              "      <td>NaN</td>\n",
              "      <td>NaN</td>\n",
              "      <td>NaN</td>\n",
              "      <td>NaN</td>\n",
              "      <td>NaN</td>\n",
              "      <td>1977-02-17</td>\n",
              "      <td>XALAPA</td>\n",
              "      <td>VERACRUZ</td>\n",
              "      <td>PREPARATORIA</td>\n",
              "      <td>ESTABLECIMIENTO</td>\n",
              "      <td>PREPARATORIA</td>\n",
              "      <td>EMPLEADO</td>\n",
              "      <td>NaN</td>\n",
              "      <td>NaN</td>\n",
              "      <td>NaN</td>\n",
              "      <td>NaN</td>\n",
              "    </tr>\n",
              "    <tr>\n",
              "      <th>2</th>\n",
              "      <td>2005-02-01</td>\n",
              "      <td>Necesario</td>\n",
              "      <td>MEXICANA</td>\n",
              "      <td>22/02/1955</td>\n",
              "      <td>XALAPA - ENRIQUEZ</td>\n",
              "      <td>XALAPA</td>\n",
              "      <td>VERACRUZ</td>\n",
              "      <td>MEXICO</td>\n",
              "      <td>49.0</td>\n",
              "      <td>NaN</td>\n",
              "      <td>NaN</td>\n",
              "      <td>NaN</td>\n",
              "      <td>NaN</td>\n",
              "      <td>MEDICO</td>\n",
              "      <td>NaN</td>\n",
              "      <td>MEXICANA</td>\n",
              "      <td>21/03/1947</td>\n",
              "      <td>XALAPA-ENRIQUEZ</td>\n",
              "      <td>XALAPA</td>\n",
              "      <td>VERACRUZ</td>\n",
              "      <td>MEXICO</td>\n",
              "      <td>57.0</td>\n",
              "      <td>XALAPA-ENRIQUEZ</td>\n",
              "      <td>XALAPA</td>\n",
              "      <td>VERACRUZ</td>\n",
              "      <td>MEXICO</td>\n",
              "      <td>JUBILADA</td>\n",
              "      <td>NaN</td>\n",
              "      <td>1975-12-18</td>\n",
              "      <td>XALAPA</td>\n",
              "      <td>VERACRUZ</td>\n",
              "      <td>PREPARATORIA</td>\n",
              "      <td>OBRERO</td>\n",
              "      <td>NaN</td>\n",
              "      <td>TRABAJADOR POR CUENTA PROPIA EN VIA PUBLICA</td>\n",
              "      <td>NaN</td>\n",
              "      <td>NaN</td>\n",
              "      <td>NaN</td>\n",
              "      <td>NaN</td>\n",
              "    </tr>\n",
              "    <tr>\n",
              "      <th>3</th>\n",
              "      <td>2006-02-01</td>\n",
              "      <td>Necesario</td>\n",
              "      <td>MEXICANA</td>\n",
              "      <td>20/01/1964</td>\n",
              "      <td>XALAPA - ENRIQUEZ</td>\n",
              "      <td>XALAPA</td>\n",
              "      <td>VERACRUZ</td>\n",
              "      <td>MEXICO</td>\n",
              "      <td>42.0</td>\n",
              "      <td>XALAPA</td>\n",
              "      <td>VERACRUZ</td>\n",
              "      <td>MEXICO</td>\n",
              "      <td>6000.0</td>\n",
              "      <td>EMPLEADO</td>\n",
              "      <td>XALAPA-ENRIQUEZ</td>\n",
              "      <td>MEXICANA</td>\n",
              "      <td>NaN</td>\n",
              "      <td>XALAPA-ENRIQUEZ</td>\n",
              "      <td>XALAPA</td>\n",
              "      <td>VERACRUZ</td>\n",
              "      <td>MEXICO</td>\n",
              "      <td>NaN</td>\n",
              "      <td>XALAPA-ENRIQUEZ</td>\n",
              "      <td>XALAPA</td>\n",
              "      <td>VERACRUZ</td>\n",
              "      <td>MEXICO</td>\n",
              "      <td>COMERCIANTE</td>\n",
              "      <td>5000.0</td>\n",
              "      <td>1987-12-03</td>\n",
              "      <td>XALAPA</td>\n",
              "      <td>VERACRUZ</td>\n",
              "      <td>PROFESIONAL</td>\n",
              "      <td>EMPLEADO</td>\n",
              "      <td>PREPARATORIA</td>\n",
              "      <td>EMPLEADO</td>\n",
              "      <td>18.0</td>\n",
              "      <td>NaN</td>\n",
              "      <td>2.0</td>\n",
              "      <td>MADRE</td>\n",
              "    </tr>\n",
              "    <tr>\n",
              "      <th>4</th>\n",
              "      <td>2006-02-01</td>\n",
              "      <td>Necesario</td>\n",
              "      <td>MEXICANA</td>\n",
              "      <td>30/10/1975</td>\n",
              "      <td>XALAPA - ENRIQUEZ</td>\n",
              "      <td>XALAPA</td>\n",
              "      <td>VERACRUZ</td>\n",
              "      <td>MEXICO</td>\n",
              "      <td>30.0</td>\n",
              "      <td>COATEPEC</td>\n",
              "      <td>VERACRUZ</td>\n",
              "      <td>MEXICO</td>\n",
              "      <td>18000.0</td>\n",
              "      <td>MEDICO</td>\n",
              "      <td>COATEPEC</td>\n",
              "      <td>MEXICANA</td>\n",
              "      <td>13/10/1978</td>\n",
              "      <td>XALAPA-ENRIQUEZ</td>\n",
              "      <td>XALAPA</td>\n",
              "      <td>VERACRUZ</td>\n",
              "      <td>MEXICO</td>\n",
              "      <td>27.0</td>\n",
              "      <td>COATEPEC</td>\n",
              "      <td>COATEPEC</td>\n",
              "      <td>VERACRUZ</td>\n",
              "      <td>MEXICO</td>\n",
              "      <td>AMA DE CASA</td>\n",
              "      <td>NaN</td>\n",
              "      <td>1998-11-14</td>\n",
              "      <td>XALAPA</td>\n",
              "      <td>VERACRUZ</td>\n",
              "      <td>PROFESIONAL</td>\n",
              "      <td>EMPLEADO</td>\n",
              "      <td>PREPARATORIA</td>\n",
              "      <td>NO TRABAJA</td>\n",
              "      <td>7.0</td>\n",
              "      <td>NaN</td>\n",
              "      <td>2.0</td>\n",
              "      <td>MADRE</td>\n",
              "    </tr>\n",
              "  </tbody>\n",
              "</table>\n",
              "</div>"
            ],
            "text/plain": [
              "  fecha_divorcio tipo_divorcio  ... numero_hijos custodia\n",
              "0     2006-06-09     Necesario  ...          1.0      NaN\n",
              "1     2000-02-01    Voluntario  ...          NaN      NaN\n",
              "2     2005-02-01     Necesario  ...          NaN      NaN\n",
              "3     2006-02-01     Necesario  ...          2.0    MADRE\n",
              "4     2006-02-01     Necesario  ...          2.0    MADRE\n",
              "\n",
              "[5 rows x 39 columns]"
            ]
          },
          "metadata": {},
          "execution_count": 5
        }
      ],
      "source": [
        "divorcios.head()"
      ]
    },
    {
      "cell_type": "code",
      "source": [
        "from pprint import pprint\n",
        "pprint(list(divorcios.columns))"
      ],
      "metadata": {
        "colab": {
          "base_uri": "https://localhost:8080/"
        },
        "id": "ikxfjQ51VVTf",
        "outputId": "83b33a8a-1e99-4025-e45a-998e21cff19c"
      },
      "id": "ikxfjQ51VVTf",
      "execution_count": 195,
      "outputs": [
        {
          "output_type": "stream",
          "name": "stdout",
          "text": [
            "['fecha_divorcio',\n",
            " 'tipo_divorcio',\n",
            " 'edad_h',\n",
            " 'ocupacion_h',\n",
            " 'edad_m',\n",
            " 'ocupacion_m',\n",
            " 'fecha_matrimonio',\n",
            " 'nivel_educacion_h',\n",
            " 'estatus_empleo_h',\n",
            " 'nivel_educacion_m',\n",
            " 'estatus_empleo_m',\n",
            " 'duracion_matrimonio',\n",
            " 'numero_hijos',\n",
            " 'viven_juntos',\n",
            " 'diferencia_edades']\n"
          ]
        }
      ]
    },
    {
      "cell_type": "code",
      "execution_count": 6,
      "id": "d1e52de0",
      "metadata": {
        "colab": {
          "base_uri": "https://localhost:8080/"
        },
        "id": "d1e52de0",
        "outputId": "0fcbbbc6-1801-4875-c457-41bcf54d189d"
      },
      "outputs": [
        {
          "output_type": "stream",
          "name": "stdout",
          "text": [
            "(4923, 39)\n"
          ]
        }
      ],
      "source": [
        "print(divorcios.shape)"
      ]
    },
    {
      "cell_type": "markdown",
      "id": "b10b8020",
      "metadata": {
        "id": "b10b8020"
      },
      "source": [
        "## Limpieza de datos"
      ]
    },
    {
      "cell_type": "markdown",
      "id": "ed047742",
      "metadata": {
        "id": "ed047742"
      },
      "source": [
        "Antes de comenzar a hacer cualquier tipo de análisis exploratorio, es necesario limpiar los datos. Así evitaremos tener algún tipo de sesgo o comportamiento extraño en las métricas y gráficos que realicemos.\n",
        "\n",
        "Comencemos eliminando algunas filas y columnas."
      ]
    },
    {
      "cell_type": "markdown",
      "id": "573fc8c1",
      "metadata": {
        "id": "573fc8c1"
      },
      "source": [
        "### Nacionalidad de la pareja"
      ]
    },
    {
      "cell_type": "markdown",
      "id": "6c84c9c5",
      "metadata": {
        "id": "6c84c9c5"
      },
      "source": [
        "Observemos qué nacionalidad predomina más entre las parejas de nuestro set de datos"
      ]
    },
    {
      "cell_type": "code",
      "execution_count": 7,
      "id": "a76622d4",
      "metadata": {
        "colab": {
          "base_uri": "https://localhost:8080/",
          "height": 677
        },
        "id": "a76622d4",
        "outputId": "759a68d1-0ff5-43a2-8827-f025af549ecf"
      },
      "outputs": [
        {
          "output_type": "execute_result",
          "data": {
            "text/html": [
              "<div>\n",
              "<style scoped>\n",
              "    .dataframe tbody tr th:only-of-type {\n",
              "        vertical-align: middle;\n",
              "    }\n",
              "\n",
              "    .dataframe tbody tr th {\n",
              "        vertical-align: top;\n",
              "    }\n",
              "\n",
              "    .dataframe thead th {\n",
              "        text-align: right;\n",
              "    }\n",
              "</style>\n",
              "<table border=\"1\" class=\"dataframe\">\n",
              "  <thead>\n",
              "    <tr style=\"text-align: right;\">\n",
              "      <th></th>\n",
              "      <th>nacionalidad_h</th>\n",
              "      <th>nacionalidad_m</th>\n",
              "    </tr>\n",
              "    <tr>\n",
              "      <th>nacionalidad_h</th>\n",
              "      <th></th>\n",
              "      <th></th>\n",
              "    </tr>\n",
              "  </thead>\n",
              "  <tbody>\n",
              "    <tr>\n",
              "      <th>ALEMANA</th>\n",
              "      <td>2</td>\n",
              "      <td>2</td>\n",
              "    </tr>\n",
              "    <tr>\n",
              "      <th>ARGENTINA</th>\n",
              "      <td>4</td>\n",
              "      <td>4</td>\n",
              "    </tr>\n",
              "    <tr>\n",
              "      <th>AUSTRALIANA</th>\n",
              "      <td>1</td>\n",
              "      <td>1</td>\n",
              "    </tr>\n",
              "    <tr>\n",
              "      <th>AUSTRIACA</th>\n",
              "      <td>1</td>\n",
              "      <td>1</td>\n",
              "    </tr>\n",
              "    <tr>\n",
              "      <th>CANADIENSE</th>\n",
              "      <td>2</td>\n",
              "      <td>2</td>\n",
              "    </tr>\n",
              "    <tr>\n",
              "      <th>CHILENA</th>\n",
              "      <td>1</td>\n",
              "      <td>1</td>\n",
              "    </tr>\n",
              "    <tr>\n",
              "      <th>CHINA</th>\n",
              "      <td>1</td>\n",
              "      <td>1</td>\n",
              "    </tr>\n",
              "    <tr>\n",
              "      <th>COLOMBIANA</th>\n",
              "      <td>1</td>\n",
              "      <td>1</td>\n",
              "    </tr>\n",
              "    <tr>\n",
              "      <th>COSTARRICENSE</th>\n",
              "      <td>1</td>\n",
              "      <td>1</td>\n",
              "    </tr>\n",
              "    <tr>\n",
              "      <th>CUBANA</th>\n",
              "      <td>8</td>\n",
              "      <td>8</td>\n",
              "    </tr>\n",
              "    <tr>\n",
              "      <th>ESPA√ëOLA</th>\n",
              "      <td>6</td>\n",
              "      <td>6</td>\n",
              "    </tr>\n",
              "    <tr>\n",
              "      <th>ESTADOUNIDENSE</th>\n",
              "      <td>7</td>\n",
              "      <td>7</td>\n",
              "    </tr>\n",
              "    <tr>\n",
              "      <th>FRANCESA</th>\n",
              "      <td>2</td>\n",
              "      <td>2</td>\n",
              "    </tr>\n",
              "    <tr>\n",
              "      <th>ITALIANA</th>\n",
              "      <td>1</td>\n",
              "      <td>1</td>\n",
              "    </tr>\n",
              "    <tr>\n",
              "      <th>JAPONESA</th>\n",
              "      <td>1</td>\n",
              "      <td>1</td>\n",
              "    </tr>\n",
              "    <tr>\n",
              "      <th>MEXICANA</th>\n",
              "      <td>4879</td>\n",
              "      <td>4876</td>\n",
              "    </tr>\n",
              "    <tr>\n",
              "      <th>NICARAGUENSE</th>\n",
              "      <td>1</td>\n",
              "      <td>1</td>\n",
              "    </tr>\n",
              "    <tr>\n",
              "      <th>POLACA</th>\n",
              "      <td>1</td>\n",
              "      <td>1</td>\n",
              "    </tr>\n",
              "    <tr>\n",
              "      <th>VENEZOLANA</th>\n",
              "      <td>2</td>\n",
              "      <td>2</td>\n",
              "    </tr>\n",
              "  </tbody>\n",
              "</table>\n",
              "</div>"
            ],
            "text/plain": [
              "                nacionalidad_h  nacionalidad_m\n",
              "nacionalidad_h                                \n",
              "ALEMANA                      2               2\n",
              "ARGENTINA                    4               4\n",
              "AUSTRALIANA                  1               1\n",
              "AUSTRIACA                    1               1\n",
              "CANADIENSE                   2               2\n",
              "CHILENA                      1               1\n",
              "CHINA                        1               1\n",
              "COLOMBIANA                   1               1\n",
              "COSTARRICENSE                1               1\n",
              "CUBANA                       8               8\n",
              "ESPA√ëOLA                    6               6\n",
              "ESTADOUNIDENSE               7               7\n",
              "FRANCESA                     2               2\n",
              "ITALIANA                     1               1\n",
              "JAPONESA                     1               1\n",
              "MEXICANA                  4879            4876\n",
              "NICARAGUENSE                 1               1\n",
              "POLACA                       1               1\n",
              "VENEZOLANA                   2               2"
            ]
          },
          "metadata": {},
          "execution_count": 7
        }
      ],
      "source": [
        "divorcios.groupby(\"nacionalidad_h\")[[\"nacionalidad_h\", \"nacionalidad_m\"]].count()"
      ]
    },
    {
      "cell_type": "code",
      "execution_count": 8,
      "id": "f3ad3463",
      "metadata": {
        "colab": {
          "base_uri": "https://localhost:8080/"
        },
        "id": "f3ad3463",
        "outputId": "091cdd5b-f862-40dd-e208-5a193d069542"
      },
      "outputs": [
        {
          "output_type": "stream",
          "name": "stdout",
          "text": [
            "Proporcion de mexicanos en el total 0.9912637139374239\n"
          ]
        }
      ],
      "source": [
        "num_mexicanos_h = divorcios.groupby(\"nacionalidad_h\")[\"nacionalidad_h\"].count().max()\n",
        "total = divorcios.groupby(\"nacionalidad_h\")[\"nacionalidad_h\"].count().sum()\n",
        "print(\"Proporcion de mexicanos en el total\", num_mexicanos_h/total)"
      ]
    },
    {
      "cell_type": "markdown",
      "id": "adab24dd",
      "metadata": {
        "id": "adab24dd"
      },
      "source": [
        "Podemos observar que la gran mayoria de los matrimonios tienen integrantes mexicanos, un 99%. Por lo que podríamos prescindir de esta característica y estar seguros que solo se analizarán matrimonios entre mexicanos."
      ]
    },
    {
      "cell_type": "code",
      "execution_count": 9,
      "id": "3378162d",
      "metadata": {
        "colab": {
          "base_uri": "https://localhost:8080/",
          "height": 112
        },
        "id": "3378162d",
        "outputId": "c66c9416-bdf5-46a3-e4e1-dac2c27c3029"
      },
      "outputs": [
        {
          "output_type": "execute_result",
          "data": {
            "text/html": [
              "<div>\n",
              "<style scoped>\n",
              "    .dataframe tbody tr th:only-of-type {\n",
              "        vertical-align: middle;\n",
              "    }\n",
              "\n",
              "    .dataframe tbody tr th {\n",
              "        vertical-align: top;\n",
              "    }\n",
              "\n",
              "    .dataframe thead th {\n",
              "        text-align: right;\n",
              "    }\n",
              "</style>\n",
              "<table border=\"1\" class=\"dataframe\">\n",
              "  <thead>\n",
              "    <tr style=\"text-align: right;\">\n",
              "      <th></th>\n",
              "      <th>nacionalidad_h</th>\n",
              "      <th>nacionalidad_m</th>\n",
              "    </tr>\n",
              "    <tr>\n",
              "      <th>nacionalidad_h</th>\n",
              "      <th></th>\n",
              "      <th></th>\n",
              "    </tr>\n",
              "  </thead>\n",
              "  <tbody>\n",
              "    <tr>\n",
              "      <th>MEXICANA</th>\n",
              "      <td>4848</td>\n",
              "      <td>4848</td>\n",
              "    </tr>\n",
              "  </tbody>\n",
              "</table>\n",
              "</div>"
            ],
            "text/plain": [
              "                nacionalidad_h  nacionalidad_m\n",
              "nacionalidad_h                                \n",
              "MEXICANA                  4848            4848"
            ]
          },
          "metadata": {},
          "execution_count": 9
        }
      ],
      "source": [
        "divorcios = divorcios[divorcios[\"nacionalidad_h\"] == \"MEXICANA\"]\n",
        "divorcios = divorcios[divorcios[\"nacionalidad_m\"] == \"MEXICANA\"]\n",
        "divorcios.groupby(\"nacionalidad_h\")[[\"nacionalidad_h\", \"nacionalidad_m\"]].count()"
      ]
    },
    {
      "cell_type": "markdown",
      "id": "ddcf510c",
      "metadata": {
        "id": "ddcf510c"
      },
      "source": [
        "Dado que ahora solo contamos con matrimonios mexicanos, no tiene caso conservar estas columnas."
      ]
    },
    {
      "cell_type": "code",
      "execution_count": 10,
      "id": "87643092",
      "metadata": {
        "id": "87643092"
      },
      "outputs": [],
      "source": [
        "columnas_a_eliminar = [\"nacionalidad_h\", \"nacionalidad_m\"]\n",
        "divorcios = divorcios.drop(columns=columnas_a_eliminar, axis=1)"
      ]
    },
    {
      "cell_type": "markdown",
      "id": "b9ae8d32",
      "metadata": {
        "id": "b9ae8d32"
      },
      "source": [
        "Algo similar pasa con las columnas que indican el lugar de nacimiento (que se deriva en Municipio, Estado y Pais)\n",
        "Pero tal vez nos interese agregar alguna columna que nos diga si la pareja vivia en la misma ciudad."
      ]
    },
    {
      "cell_type": "code",
      "execution_count": 11,
      "id": "d7cb29c6",
      "metadata": {
        "colab": {
          "base_uri": "https://localhost:8080/",
          "height": 206
        },
        "id": "d7cb29c6",
        "outputId": "75f51d8d-5765-4bc1-d37c-68fd7895cc33"
      },
      "outputs": [
        {
          "output_type": "execute_result",
          "data": {
            "text/html": [
              "<div>\n",
              "<style scoped>\n",
              "    .dataframe tbody tr th:only-of-type {\n",
              "        vertical-align: middle;\n",
              "    }\n",
              "\n",
              "    .dataframe tbody tr th {\n",
              "        vertical-align: top;\n",
              "    }\n",
              "\n",
              "    .dataframe thead th {\n",
              "        text-align: right;\n",
              "    }\n",
              "</style>\n",
              "<table border=\"1\" class=\"dataframe\">\n",
              "  <thead>\n",
              "    <tr style=\"text-align: right;\">\n",
              "      <th></th>\n",
              "      <th>lugar_residencia_h</th>\n",
              "      <th>lugar_residencia_m</th>\n",
              "    </tr>\n",
              "  </thead>\n",
              "  <tbody>\n",
              "    <tr>\n",
              "      <th>1</th>\n",
              "      <td>NaN</td>\n",
              "      <td>NaN</td>\n",
              "    </tr>\n",
              "    <tr>\n",
              "      <th>2</th>\n",
              "      <td>NaN</td>\n",
              "      <td>XALAPA-ENRIQUEZ</td>\n",
              "    </tr>\n",
              "    <tr>\n",
              "      <th>6</th>\n",
              "      <td>XALAPA-ENRIQUEZ</td>\n",
              "      <td>PIEDRA DE AGUA</td>\n",
              "    </tr>\n",
              "    <tr>\n",
              "      <th>8</th>\n",
              "      <td>CIUDAD VALLES</td>\n",
              "      <td>XALAPA-ENRIQUEZ</td>\n",
              "    </tr>\n",
              "    <tr>\n",
              "      <th>16</th>\n",
              "      <td>NaN</td>\n",
              "      <td>NaN</td>\n",
              "    </tr>\n",
              "  </tbody>\n",
              "</table>\n",
              "</div>"
            ],
            "text/plain": [
              "   lugar_residencia_h lugar_residencia_m\n",
              "1                 NaN                NaN\n",
              "2                 NaN    XALAPA-ENRIQUEZ\n",
              "6     XALAPA-ENRIQUEZ     PIEDRA DE AGUA\n",
              "8       CIUDAD VALLES    XALAPA-ENRIQUEZ\n",
              "16                NaN                NaN"
            ]
          },
          "metadata": {},
          "execution_count": 11
        }
      ],
      "source": [
        "divorcios[divorcios[\"lugar_residencia_h\"] != divorcios[\"lugar_residencia_m\"]][[\"lugar_residencia_h\", \"lugar_residencia_m\"]].head()"
      ]
    },
    {
      "cell_type": "code",
      "execution_count": 12,
      "id": "7893b654",
      "metadata": {
        "colab": {
          "base_uri": "https://localhost:8080/"
        },
        "id": "7893b654",
        "outputId": "0d928415-fd00-46f8-f222-e53935fc8e13"
      },
      "outputs": [
        {
          "output_type": "stream",
          "name": "stdout",
          "text": [
            "307\n",
            "0    False\n",
            "1     True\n",
            "2    False\n",
            "3    False\n",
            "4    False\n",
            "Name: lugar_residencia_m, dtype: bool\n"
          ]
        }
      ],
      "source": [
        "print(divorcios[\"lugar_residencia_h\"].isnull().sum())\n",
        "print(divorcios[\"lugar_residencia_m\"].isnull().head())"
      ]
    },
    {
      "cell_type": "markdown",
      "id": "e28a1e0f",
      "metadata": {
        "id": "e28a1e0f"
      },
      "source": [
        "Eliminar las filas que tienen valores faltantes en las columnas anteriores, conllevaría a deshacernos de 600 muestras, asi que, para fines prácticos, cuando se tenga algún valor faltante en una de estas dos columnas, asumiremos que la pareja vive en la misma ciudad."
      ]
    },
    {
      "cell_type": "markdown",
      "id": "793c2f11",
      "metadata": {
        "id": "793c2f11"
      },
      "source": [
        "### Creando la nueva columna: viven_juntos\n",
        "Esto permite reducir la dimensionalidad de nuestros datos y agrega un valor, ya que esta característica podría ser crucial en un matrimonio."
      ]
    },
    {
      "cell_type": "code",
      "execution_count": 13,
      "id": "ae4a567b",
      "metadata": {
        "id": "ae4a567b"
      },
      "outputs": [],
      "source": [
        "def establecer_viven_juntos(df):\n",
        "    contador = 0\n",
        "    if df[\"lugar_residencia_h\"] == [\"lugar_residencia_h\"]:\n",
        "        return 1   # True\n",
        "    if pd.isnull(df[\"lugar_residencia_h\"]) or pd.isnull(df[\"lugar_residencia_m\"]):\n",
        "        return 1\n",
        "    else:\n",
        "        return 0\n",
        "\n",
        "divorcios[\"viven_juntos\"] = divorcios.apply(establecer_viven_juntos, axis=1)"
      ]
    },
    {
      "cell_type": "markdown",
      "id": "cbb89af3",
      "metadata": {
        "id": "cbb89af3"
      },
      "source": [
        "Ahora podemos añadir estas dos columnas (además de todas las referentes a lugares) a la lista de columnas que eliminaremos."
      ]
    },
    {
      "cell_type": "code",
      "execution_count": 14,
      "id": "d3f969b9",
      "metadata": {
        "colab": {
          "base_uri": "https://localhost:8080/"
        },
        "id": "d3f969b9",
        "outputId": "4f760c29-d0ee-4745-c830-18380b1c1922"
      },
      "outputs": [
        {
          "output_type": "execute_result",
          "data": {
            "text/plain": [
              "Index(['fecha_divorcio', 'tipo_divorcio', 'fecha_nacimiento_h',\n",
              "       'lugar_nacimiento_h', 'municipio_nacimiento_h', 'estado_nacimiento_h',\n",
              "       'pais_nacimiento_h', 'edad_h', 'municipio_residencia_h',\n",
              "       'estado_residencia_h', 'pais_residencia_h', 'ingreso_mensual_h',\n",
              "       'ocupacion_h', 'lugar_residencia_h', 'fecha_nacimiento_m',\n",
              "       'lugar_nacimiento_m', 'municipio_nacimiento_m', 'estado_nacimiento_m',\n",
              "       'pais_nacimiento_m', 'edad_m', 'lugar_residencia_m',\n",
              "       'municipio_residencia_m', 'estado_residencia_m', 'pais_residencia_m',\n",
              "       'ocupacion_m', 'ingreso_mensual_m', 'fecha_matrimonio',\n",
              "       'municipio_certificado', 'estado_certificado', 'nivel_educacion_h',\n",
              "       'estatus_empleo_h', 'nivel_educacion_m', 'estatus_empleo_m',\n",
              "       'duracion_matrimonio', 'duracion_matrimonio_meses', 'numero_hijos',\n",
              "       'custodia', 'viven_juntos'],\n",
              "      dtype='object')"
            ]
          },
          "metadata": {},
          "execution_count": 14
        }
      ],
      "source": [
        "divorcios.columns"
      ]
    },
    {
      "cell_type": "code",
      "execution_count": 15,
      "id": "f927ca3b",
      "metadata": {
        "id": "f927ca3b"
      },
      "outputs": [],
      "source": [
        "columnas_a_eliminar = [\"lugar_residencia_h\", \"lugar_residencia_m\", \"lugar_nacimiento_h\", \"lugar_nacimiento_m\",\n",
        "                       \"municipio_nacimiento_h\", \"municipio_nacimiento_m\", \"estado_nacimiento_h\", \"estado_nacimiento_m\",\n",
        "                       \"pais_nacimiento_h\", \"pais_nacimiento_m\", \"municipio_residencia_h\", \"municipio_residencia_m\",\n",
        "                       \"estado_residencia_h\", \"estado_residencia_m\", \"pais_residencia_h\", \"pais_residencia_m\"]\n",
        "divorcios = divorcios.drop(columns=columnas_a_eliminar, axis=1)"
      ]
    },
    {
      "cell_type": "code",
      "execution_count": 16,
      "id": "4344a3e0",
      "metadata": {
        "colab": {
          "base_uri": "https://localhost:8080/",
          "height": 278
        },
        "id": "4344a3e0",
        "outputId": "f623ed13-d89a-4b7b-f491-751416561eba"
      },
      "outputs": [
        {
          "output_type": "execute_result",
          "data": {
            "text/html": [
              "<div>\n",
              "<style scoped>\n",
              "    .dataframe tbody tr th:only-of-type {\n",
              "        vertical-align: middle;\n",
              "    }\n",
              "\n",
              "    .dataframe tbody tr th {\n",
              "        vertical-align: top;\n",
              "    }\n",
              "\n",
              "    .dataframe thead th {\n",
              "        text-align: right;\n",
              "    }\n",
              "</style>\n",
              "<table border=\"1\" class=\"dataframe\">\n",
              "  <thead>\n",
              "    <tr style=\"text-align: right;\">\n",
              "      <th></th>\n",
              "      <th>fecha_divorcio</th>\n",
              "      <th>tipo_divorcio</th>\n",
              "      <th>fecha_nacimiento_h</th>\n",
              "      <th>edad_h</th>\n",
              "      <th>ingreso_mensual_h</th>\n",
              "      <th>ocupacion_h</th>\n",
              "      <th>fecha_nacimiento_m</th>\n",
              "      <th>edad_m</th>\n",
              "      <th>ocupacion_m</th>\n",
              "      <th>ingreso_mensual_m</th>\n",
              "      <th>fecha_matrimonio</th>\n",
              "      <th>municipio_certificado</th>\n",
              "      <th>estado_certificado</th>\n",
              "      <th>nivel_educacion_h</th>\n",
              "      <th>estatus_empleo_h</th>\n",
              "      <th>nivel_educacion_m</th>\n",
              "      <th>estatus_empleo_m</th>\n",
              "      <th>duracion_matrimonio</th>\n",
              "      <th>duracion_matrimonio_meses</th>\n",
              "      <th>numero_hijos</th>\n",
              "      <th>custodia</th>\n",
              "      <th>viven_juntos</th>\n",
              "    </tr>\n",
              "  </thead>\n",
              "  <tbody>\n",
              "    <tr>\n",
              "      <th>0</th>\n",
              "      <td>2006-06-09</td>\n",
              "      <td>Necesario</td>\n",
              "      <td>18/12/1975</td>\n",
              "      <td>30.0</td>\n",
              "      <td>2000.0</td>\n",
              "      <td>PINTOR</td>\n",
              "      <td>08/01/1983</td>\n",
              "      <td>22.0</td>\n",
              "      <td>EMPLEADA</td>\n",
              "      <td>1800.0</td>\n",
              "      <td>2000-06-26</td>\n",
              "      <td>XALAPA</td>\n",
              "      <td>VERACRUZ</td>\n",
              "      <td>SECUNDARIA</td>\n",
              "      <td>OBRERO</td>\n",
              "      <td>SECUNDARIA</td>\n",
              "      <td>EMPLEADO</td>\n",
              "      <td>5.0</td>\n",
              "      <td>NaN</td>\n",
              "      <td>1.0</td>\n",
              "      <td>NaN</td>\n",
              "      <td>0</td>\n",
              "    </tr>\n",
              "    <tr>\n",
              "      <th>1</th>\n",
              "      <td>2000-02-01</td>\n",
              "      <td>Voluntario</td>\n",
              "      <td>NaN</td>\n",
              "      <td>47.0</td>\n",
              "      <td>NaN</td>\n",
              "      <td>NaN</td>\n",
              "      <td>NaN</td>\n",
              "      <td>41.0</td>\n",
              "      <td>NaN</td>\n",
              "      <td>NaN</td>\n",
              "      <td>1977-02-17</td>\n",
              "      <td>XALAPA</td>\n",
              "      <td>VERACRUZ</td>\n",
              "      <td>PREPARATORIA</td>\n",
              "      <td>ESTABLECIMIENTO</td>\n",
              "      <td>PREPARATORIA</td>\n",
              "      <td>EMPLEADO</td>\n",
              "      <td>NaN</td>\n",
              "      <td>NaN</td>\n",
              "      <td>NaN</td>\n",
              "      <td>NaN</td>\n",
              "      <td>1</td>\n",
              "    </tr>\n",
              "    <tr>\n",
              "      <th>2</th>\n",
              "      <td>2005-02-01</td>\n",
              "      <td>Necesario</td>\n",
              "      <td>22/02/1955</td>\n",
              "      <td>49.0</td>\n",
              "      <td>NaN</td>\n",
              "      <td>MEDICO</td>\n",
              "      <td>21/03/1947</td>\n",
              "      <td>57.0</td>\n",
              "      <td>JUBILADA</td>\n",
              "      <td>NaN</td>\n",
              "      <td>1975-12-18</td>\n",
              "      <td>XALAPA</td>\n",
              "      <td>VERACRUZ</td>\n",
              "      <td>PREPARATORIA</td>\n",
              "      <td>OBRERO</td>\n",
              "      <td>NaN</td>\n",
              "      <td>TRABAJADOR POR CUENTA PROPIA EN VIA PUBLICA</td>\n",
              "      <td>NaN</td>\n",
              "      <td>NaN</td>\n",
              "      <td>NaN</td>\n",
              "      <td>NaN</td>\n",
              "      <td>1</td>\n",
              "    </tr>\n",
              "    <tr>\n",
              "      <th>3</th>\n",
              "      <td>2006-02-01</td>\n",
              "      <td>Necesario</td>\n",
              "      <td>20/01/1964</td>\n",
              "      <td>42.0</td>\n",
              "      <td>6000.0</td>\n",
              "      <td>EMPLEADO</td>\n",
              "      <td>NaN</td>\n",
              "      <td>NaN</td>\n",
              "      <td>COMERCIANTE</td>\n",
              "      <td>5000.0</td>\n",
              "      <td>1987-12-03</td>\n",
              "      <td>XALAPA</td>\n",
              "      <td>VERACRUZ</td>\n",
              "      <td>PROFESIONAL</td>\n",
              "      <td>EMPLEADO</td>\n",
              "      <td>PREPARATORIA</td>\n",
              "      <td>EMPLEADO</td>\n",
              "      <td>18.0</td>\n",
              "      <td>NaN</td>\n",
              "      <td>2.0</td>\n",
              "      <td>MADRE</td>\n",
              "      <td>0</td>\n",
              "    </tr>\n",
              "    <tr>\n",
              "      <th>4</th>\n",
              "      <td>2006-02-01</td>\n",
              "      <td>Necesario</td>\n",
              "      <td>30/10/1975</td>\n",
              "      <td>30.0</td>\n",
              "      <td>18000.0</td>\n",
              "      <td>MEDICO</td>\n",
              "      <td>13/10/1978</td>\n",
              "      <td>27.0</td>\n",
              "      <td>AMA DE CASA</td>\n",
              "      <td>NaN</td>\n",
              "      <td>1998-11-14</td>\n",
              "      <td>XALAPA</td>\n",
              "      <td>VERACRUZ</td>\n",
              "      <td>PROFESIONAL</td>\n",
              "      <td>EMPLEADO</td>\n",
              "      <td>PREPARATORIA</td>\n",
              "      <td>NO TRABAJA</td>\n",
              "      <td>7.0</td>\n",
              "      <td>NaN</td>\n",
              "      <td>2.0</td>\n",
              "      <td>MADRE</td>\n",
              "      <td>0</td>\n",
              "    </tr>\n",
              "  </tbody>\n",
              "</table>\n",
              "</div>"
            ],
            "text/plain": [
              "  fecha_divorcio tipo_divorcio  ... custodia  viven_juntos\n",
              "0     2006-06-09     Necesario  ...      NaN             0\n",
              "1     2000-02-01    Voluntario  ...      NaN             1\n",
              "2     2005-02-01     Necesario  ...      NaN             1\n",
              "3     2006-02-01     Necesario  ...    MADRE             0\n",
              "4     2006-02-01     Necesario  ...    MADRE             0\n",
              "\n",
              "[5 rows x 22 columns]"
            ]
          },
          "metadata": {},
          "execution_count": 16
        }
      ],
      "source": [
        "divorcios.head()"
      ]
    },
    {
      "cell_type": "markdown",
      "id": "22f859bb",
      "metadata": {
        "id": "22f859bb"
      },
      "source": [
        "### Eliminando columnas de fecha de nacimiento de las parejas\n",
        "Al analizar la distribución de los meses, dias y años de los divorciados, se observó que no existe alguno predominante en los divorcos. Asi que no tiene caso conservar estas columnas, ya que no nos dicen nada."
      ]
    },
    {
      "cell_type": "code",
      "execution_count": 17,
      "id": "308776eb",
      "metadata": {
        "id": "308776eb"
      },
      "outputs": [],
      "source": [
        "columnas_a_eliminar = [\"fecha_nacimiento_m\", \"fecha_nacimiento_h\"]\n",
        "divorcios = divorcios.drop(columns=columnas_a_eliminar, axis=1)"
      ]
    },
    {
      "cell_type": "markdown",
      "id": "2d602b45",
      "metadata": {
        "id": "2d602b45"
      },
      "source": [
        "### Eliminando columnas referentes a la ubicación donde fue expedido el certificado de divorcio\n",
        "Realmente conocer esto no nos interesa demasiado, ya que este análisis se basa más en analizar las causas de los divorcios."
      ]
    },
    {
      "cell_type": "code",
      "execution_count": 18,
      "id": "387dd64e",
      "metadata": {
        "id": "387dd64e"
      },
      "outputs": [],
      "source": [
        "columnas_a_eliminar = [\"municipio_certificado\", \"estado_certificado\"]\n",
        "divorcios = divorcios.drop(columns=columnas_a_eliminar, axis=1)"
      ]
    },
    {
      "cell_type": "code",
      "execution_count": 19,
      "id": "c06a4d1c",
      "metadata": {
        "colab": {
          "base_uri": "https://localhost:8080/"
        },
        "id": "c06a4d1c",
        "outputId": "bfd93e7c-2f81-4eb3-9b93-853fb7dc3f81"
      },
      "outputs": [
        {
          "output_type": "execute_result",
          "data": {
            "text/plain": [
              "Index(['fecha_divorcio', 'tipo_divorcio', 'edad_h', 'ingreso_mensual_h',\n",
              "       'ocupacion_h', 'edad_m', 'ocupacion_m', 'ingreso_mensual_m',\n",
              "       'fecha_matrimonio', 'nivel_educacion_h', 'estatus_empleo_h',\n",
              "       'nivel_educacion_m', 'estatus_empleo_m', 'duracion_matrimonio',\n",
              "       'duracion_matrimonio_meses', 'numero_hijos', 'custodia',\n",
              "       'viven_juntos'],\n",
              "      dtype='object')"
            ]
          },
          "metadata": {},
          "execution_count": 19
        }
      ],
      "source": [
        "divorcios.columns"
      ]
    },
    {
      "cell_type": "markdown",
      "id": "d8fa971f",
      "metadata": {
        "id": "d8fa971f"
      },
      "source": [
        "## Manejando los valores faltantes"
      ]
    },
    {
      "cell_type": "markdown",
      "id": "6ad8d06c",
      "metadata": {
        "id": "6ad8d06c"
      },
      "source": [
        "Es importante que nuestro set de datos no contenga valores, faltantes, ya que estos pueden afectar el análisis y las métricas que obtengamos."
      ]
    },
    {
      "cell_type": "code",
      "execution_count": 20,
      "id": "7032eb09",
      "metadata": {
        "colab": {
          "base_uri": "https://localhost:8080/",
          "height": 465
        },
        "id": "7032eb09",
        "outputId": "a2a67b0b-526f-41cf-982e-0f46f0abe5d3"
      },
      "outputs": [
        {
          "output_type": "display_data",
          "data": {
            "image/png": "[encoded data removed]",
            "text/plain": [
              "<Figure size 864x504 with 1 Axes>"
            ]
          },
          "metadata": {
            "needs_background": "light"
          }
        }
      ],
      "source": [
        "def plot_na(df):\n",
        "    na_info = df.isna().sum()\n",
        "    categorias = na_info.index\n",
        "    valores = na_info.array\n",
        "    plt.figure(figsize=(12, 7))\n",
        "    plt.barh(categorias, valores, align='center')\n",
        "    plt.title('Valores faltantes para cada categoría', fontsize=16)\n",
        "    plt.ylabel('Categoria', fontsize=14)\n",
        "    plt.xlabel('Cantidad de faltantes', fontsize=14)\n",
        "    for index, data in enumerate(valores):\n",
        "        if data != 0:\n",
        "            plt.text(x = data+10, y = index-0.10, s=f'{data}')\n",
        "    plt.show()\n",
        "\n",
        "plot_na(divorcios)"
      ]
    },
    {
      "cell_type": "markdown",
      "id": "41deab6d",
      "metadata": {
        "id": "41deab6d"
      },
      "source": [
        "### Nos desharemos de las siguientes categorias:\n",
        "- Custodia\n",
        "- Ingreso mensual del hombre\n",
        "- Ingreso mensual de la mujer\n",
        "\n",
        "Debido a que estos tienen demasiados valores faltantes y podrían afectar nuestras predicciones y análisis."
      ]
    },
    {
      "cell_type": "code",
      "execution_count": 21,
      "id": "70695cb3",
      "metadata": {
        "id": "70695cb3"
      },
      "outputs": [],
      "source": [
        "columnas_a_eliminar = [\"custodia\", \"ingreso_mensual_m\", \"ingreso_mensual_h\"]\n",
        "divorcios = divorcios.drop(columns=columnas_a_eliminar, axis=1)"
      ]
    },
    {
      "cell_type": "markdown",
      "id": "cae6af8e",
      "metadata": {
        "id": "cae6af8e"
      },
      "source": [
        "### Duración del matrimonio\n",
        "Primero cabe señalar que podriamos eliminar la duración del matrimonio en meses, y dejar solo la que indica la duración en años. Para lidiar los valores faltantes en la columna anterior, utilizaremos la diferencia entre las fechas de matrimonio y la de divorcio."
      ]
    },
    {
      "cell_type": "code",
      "execution_count": 22,
      "id": "dbaf4840",
      "metadata": {
        "id": "dbaf4840"
      },
      "outputs": [],
      "source": [
        "divorcios = divorcios.drop(columns=[\"duracion_matrimonio_meses\"], axis=1)\n",
        "divorcios[\"duracion_matrimonio\"] = np.floor((pd.to_datetime(divorcios['fecha_divorcio']) - \n",
        "                                             pd.to_datetime(divorcios['fecha_matrimonio'])).dt.days / 365.25)"
      ]
    },
    {
      "cell_type": "code",
      "execution_count": 23,
      "id": "42e3508a",
      "metadata": {
        "colab": {
          "base_uri": "https://localhost:8080/",
          "height": 278
        },
        "id": "42e3508a",
        "outputId": "8e87f1f2-852d-4620-9cb5-d73a645c0a13"
      },
      "outputs": [
        {
          "output_type": "execute_result",
          "data": {
            "text/html": [
              "<div>\n",
              "<style scoped>\n",
              "    .dataframe tbody tr th:only-of-type {\n",
              "        vertical-align: middle;\n",
              "    }\n",
              "\n",
              "    .dataframe tbody tr th {\n",
              "        vertical-align: top;\n",
              "    }\n",
              "\n",
              "    .dataframe thead th {\n",
              "        text-align: right;\n",
              "    }\n",
              "</style>\n",
              "<table border=\"1\" class=\"dataframe\">\n",
              "  <thead>\n",
              "    <tr style=\"text-align: right;\">\n",
              "      <th></th>\n",
              "      <th>fecha_divorcio</th>\n",
              "      <th>tipo_divorcio</th>\n",
              "      <th>edad_h</th>\n",
              "      <th>ocupacion_h</th>\n",
              "      <th>edad_m</th>\n",
              "      <th>ocupacion_m</th>\n",
              "      <th>fecha_matrimonio</th>\n",
              "      <th>nivel_educacion_h</th>\n",
              "      <th>estatus_empleo_h</th>\n",
              "      <th>nivel_educacion_m</th>\n",
              "      <th>estatus_empleo_m</th>\n",
              "      <th>duracion_matrimonio</th>\n",
              "      <th>numero_hijos</th>\n",
              "      <th>viven_juntos</th>\n",
              "    </tr>\n",
              "  </thead>\n",
              "  <tbody>\n",
              "    <tr>\n",
              "      <th>0</th>\n",
              "      <td>2006-06-09</td>\n",
              "      <td>Necesario</td>\n",
              "      <td>30.0</td>\n",
              "      <td>PINTOR</td>\n",
              "      <td>22.0</td>\n",
              "      <td>EMPLEADA</td>\n",
              "      <td>2000-06-26</td>\n",
              "      <td>SECUNDARIA</td>\n",
              "      <td>OBRERO</td>\n",
              "      <td>SECUNDARIA</td>\n",
              "      <td>EMPLEADO</td>\n",
              "      <td>5.0</td>\n",
              "      <td>1.0</td>\n",
              "      <td>0</td>\n",
              "    </tr>\n",
              "    <tr>\n",
              "      <th>1</th>\n",
              "      <td>2000-02-01</td>\n",
              "      <td>Voluntario</td>\n",
              "      <td>47.0</td>\n",
              "      <td>NaN</td>\n",
              "      <td>41.0</td>\n",
              "      <td>NaN</td>\n",
              "      <td>1977-02-17</td>\n",
              "      <td>PREPARATORIA</td>\n",
              "      <td>ESTABLECIMIENTO</td>\n",
              "      <td>PREPARATORIA</td>\n",
              "      <td>EMPLEADO</td>\n",
              "      <td>22.0</td>\n",
              "      <td>NaN</td>\n",
              "      <td>1</td>\n",
              "    </tr>\n",
              "    <tr>\n",
              "      <th>2</th>\n",
              "      <td>2005-02-01</td>\n",
              "      <td>Necesario</td>\n",
              "      <td>49.0</td>\n",
              "      <td>MEDICO</td>\n",
              "      <td>57.0</td>\n",
              "      <td>JUBILADA</td>\n",
              "      <td>1975-12-18</td>\n",
              "      <td>PREPARATORIA</td>\n",
              "      <td>OBRERO</td>\n",
              "      <td>NaN</td>\n",
              "      <td>TRABAJADOR POR CUENTA PROPIA EN VIA PUBLICA</td>\n",
              "      <td>29.0</td>\n",
              "      <td>NaN</td>\n",
              "      <td>1</td>\n",
              "    </tr>\n",
              "    <tr>\n",
              "      <th>3</th>\n",
              "      <td>2006-02-01</td>\n",
              "      <td>Necesario</td>\n",
              "      <td>42.0</td>\n",
              "      <td>EMPLEADO</td>\n",
              "      <td>NaN</td>\n",
              "      <td>COMERCIANTE</td>\n",
              "      <td>1987-12-03</td>\n",
              "      <td>PROFESIONAL</td>\n",
              "      <td>EMPLEADO</td>\n",
              "      <td>PREPARATORIA</td>\n",
              "      <td>EMPLEADO</td>\n",
              "      <td>18.0</td>\n",
              "      <td>2.0</td>\n",
              "      <td>0</td>\n",
              "    </tr>\n",
              "    <tr>\n",
              "      <th>4</th>\n",
              "      <td>2006-02-01</td>\n",
              "      <td>Necesario</td>\n",
              "      <td>30.0</td>\n",
              "      <td>MEDICO</td>\n",
              "      <td>27.0</td>\n",
              "      <td>AMA DE CASA</td>\n",
              "      <td>1998-11-14</td>\n",
              "      <td>PROFESIONAL</td>\n",
              "      <td>EMPLEADO</td>\n",
              "      <td>PREPARATORIA</td>\n",
              "      <td>NO TRABAJA</td>\n",
              "      <td>7.0</td>\n",
              "      <td>2.0</td>\n",
              "      <td>0</td>\n",
              "    </tr>\n",
              "  </tbody>\n",
              "</table>\n",
              "</div>"
            ],
            "text/plain": [
              "  fecha_divorcio tipo_divorcio  ...  numero_hijos viven_juntos\n",
              "0     2006-06-09     Necesario  ...           1.0            0\n",
              "1     2000-02-01    Voluntario  ...           NaN            1\n",
              "2     2005-02-01     Necesario  ...           NaN            1\n",
              "3     2006-02-01     Necesario  ...           2.0            0\n",
              "4     2006-02-01     Necesario  ...           2.0            0\n",
              "\n",
              "[5 rows x 14 columns]"
            ]
          },
          "metadata": {},
          "execution_count": 23
        }
      ],
      "source": [
        "divorcios.head()"
      ]
    },
    {
      "cell_type": "markdown",
      "id": "1755d6c3",
      "metadata": {
        "id": "1755d6c3"
      },
      "source": [
        "### Número de hijos\n",
        "Sin duda, en un matrimonio, la cantidad de hijos es una característica bastante importante. En nuestro set de datos, podemos obervar que hay aproximadamente la mitad de valores faltantes en esta característica. Vamos a asumir que cuando existe un valor faltante, se refiere a que el matrimonio tenía cero hijos, ya que el cero no se encuentra entre los valores únicos de esta columna y sería lógico pensar que el capturista decidió dejar vacía esta casilla cuando el matrimonio no reportaba ningun hijo."
      ]
    },
    {
      "cell_type": "code",
      "execution_count": 24,
      "id": "6a0c44bc",
      "metadata": {
        "id": "6a0c44bc"
      },
      "outputs": [],
      "source": [
        "divorcios[\"numero_hijos\"] = divorcios[\"numero_hijos\"].fillna(0)"
      ]
    },
    {
      "cell_type": "markdown",
      "id": "27f57078",
      "metadata": {
        "id": "27f57078"
      },
      "source": [
        "### Edad de la pareja\n",
        "Tenemos algunos valores faltantes en esta categoría. Deseamos obtener una nueva columna a partir de estas dos llamada \"diferencia_edad\" para condensar estas dos características en una.\n",
        "Para no afectar el cálculo de esta nueva columna, eliminaremos las muestras que tengan valores faltantes en las columnas:\n",
        "- Edad de la compañera\n",
        "- Edad del compañero"
      ]
    },
    {
      "cell_type": "code",
      "execution_count": 25,
      "id": "9cb08b92",
      "metadata": {
        "id": "9cb08b92"
      },
      "outputs": [],
      "source": [
        "divorcios = divorcios[divorcios[\"edad_m\"].notna()]\n",
        "divorcios = divorcios[divorcios[\"edad_h\"].notna()]"
      ]
    },
    {
      "cell_type": "code",
      "execution_count": 26,
      "id": "a41c1562",
      "metadata": {
        "colab": {
          "base_uri": "https://localhost:8080/",
          "height": 296
        },
        "id": "a41c1562",
        "outputId": "9b4ff591-15a8-4f50-f043-776172afb144"
      },
      "outputs": [
        {
          "output_type": "execute_result",
          "data": {
            "text/html": [
              "<div>\n",
              "<style scoped>\n",
              "    .dataframe tbody tr th:only-of-type {\n",
              "        vertical-align: middle;\n",
              "    }\n",
              "\n",
              "    .dataframe tbody tr th {\n",
              "        vertical-align: top;\n",
              "    }\n",
              "\n",
              "    .dataframe thead th {\n",
              "        text-align: right;\n",
              "    }\n",
              "</style>\n",
              "<table border=\"1\" class=\"dataframe\">\n",
              "  <thead>\n",
              "    <tr style=\"text-align: right;\">\n",
              "      <th></th>\n",
              "      <th>fecha_divorcio</th>\n",
              "      <th>tipo_divorcio</th>\n",
              "      <th>edad_h</th>\n",
              "      <th>ocupacion_h</th>\n",
              "      <th>edad_m</th>\n",
              "      <th>ocupacion_m</th>\n",
              "      <th>fecha_matrimonio</th>\n",
              "      <th>nivel_educacion_h</th>\n",
              "      <th>estatus_empleo_h</th>\n",
              "      <th>nivel_educacion_m</th>\n",
              "      <th>estatus_empleo_m</th>\n",
              "      <th>duracion_matrimonio</th>\n",
              "      <th>numero_hijos</th>\n",
              "      <th>viven_juntos</th>\n",
              "      <th>diferencia_edades</th>\n",
              "    </tr>\n",
              "  </thead>\n",
              "  <tbody>\n",
              "    <tr>\n",
              "      <th>0</th>\n",
              "      <td>2006-06-09</td>\n",
              "      <td>Necesario</td>\n",
              "      <td>30.0</td>\n",
              "      <td>PINTOR</td>\n",
              "      <td>22.0</td>\n",
              "      <td>EMPLEADA</td>\n",
              "      <td>2000-06-26</td>\n",
              "      <td>SECUNDARIA</td>\n",
              "      <td>OBRERO</td>\n",
              "      <td>SECUNDARIA</td>\n",
              "      <td>EMPLEADO</td>\n",
              "      <td>5.0</td>\n",
              "      <td>1.0</td>\n",
              "      <td>0</td>\n",
              "      <td>8.0</td>\n",
              "    </tr>\n",
              "    <tr>\n",
              "      <th>1</th>\n",
              "      <td>2000-02-01</td>\n",
              "      <td>Voluntario</td>\n",
              "      <td>47.0</td>\n",
              "      <td>NaN</td>\n",
              "      <td>41.0</td>\n",
              "      <td>NaN</td>\n",
              "      <td>1977-02-17</td>\n",
              "      <td>PREPARATORIA</td>\n",
              "      <td>ESTABLECIMIENTO</td>\n",
              "      <td>PREPARATORIA</td>\n",
              "      <td>EMPLEADO</td>\n",
              "      <td>22.0</td>\n",
              "      <td>0.0</td>\n",
              "      <td>1</td>\n",
              "      <td>6.0</td>\n",
              "    </tr>\n",
              "    <tr>\n",
              "      <th>2</th>\n",
              "      <td>2005-02-01</td>\n",
              "      <td>Necesario</td>\n",
              "      <td>49.0</td>\n",
              "      <td>MEDICO</td>\n",
              "      <td>57.0</td>\n",
              "      <td>JUBILADA</td>\n",
              "      <td>1975-12-18</td>\n",
              "      <td>PREPARATORIA</td>\n",
              "      <td>OBRERO</td>\n",
              "      <td>NaN</td>\n",
              "      <td>TRABAJADOR POR CUENTA PROPIA EN VIA PUBLICA</td>\n",
              "      <td>29.0</td>\n",
              "      <td>0.0</td>\n",
              "      <td>1</td>\n",
              "      <td>8.0</td>\n",
              "    </tr>\n",
              "    <tr>\n",
              "      <th>4</th>\n",
              "      <td>2006-02-01</td>\n",
              "      <td>Necesario</td>\n",
              "      <td>30.0</td>\n",
              "      <td>MEDICO</td>\n",
              "      <td>27.0</td>\n",
              "      <td>AMA DE CASA</td>\n",
              "      <td>1998-11-14</td>\n",
              "      <td>PROFESIONAL</td>\n",
              "      <td>EMPLEADO</td>\n",
              "      <td>PREPARATORIA</td>\n",
              "      <td>NO TRABAJA</td>\n",
              "      <td>7.0</td>\n",
              "      <td>2.0</td>\n",
              "      <td>0</td>\n",
              "      <td>3.0</td>\n",
              "    </tr>\n",
              "    <tr>\n",
              "      <th>5</th>\n",
              "      <td>2006-02-01</td>\n",
              "      <td>Necesario</td>\n",
              "      <td>32.0</td>\n",
              "      <td>EMPLEADO</td>\n",
              "      <td>29.0</td>\n",
              "      <td>NaN</td>\n",
              "      <td>1995-01-20</td>\n",
              "      <td>SECUNDARIA</td>\n",
              "      <td>EMPLEADO</td>\n",
              "      <td>SECUNDARIA</td>\n",
              "      <td>NO TRABAJA</td>\n",
              "      <td>11.0</td>\n",
              "      <td>2.0</td>\n",
              "      <td>0</td>\n",
              "      <td>3.0</td>\n",
              "    </tr>\n",
              "  </tbody>\n",
              "</table>\n",
              "</div>"
            ],
            "text/plain": [
              "  fecha_divorcio tipo_divorcio  ...  viven_juntos diferencia_edades\n",
              "0     2006-06-09     Necesario  ...             0               8.0\n",
              "1     2000-02-01    Voluntario  ...             1               6.0\n",
              "2     2005-02-01     Necesario  ...             1               8.0\n",
              "4     2006-02-01     Necesario  ...             0               3.0\n",
              "5     2006-02-01     Necesario  ...             0               3.0\n",
              "\n",
              "[5 rows x 15 columns]"
            ]
          },
          "metadata": {},
          "execution_count": 26
        }
      ],
      "source": [
        "divorcios[\"diferencia_edades\"] = abs(divorcios[\"edad_m\"] - divorcios[\"edad_h\"])\n",
        "divorcios.head()"
      ]
    },
    {
      "cell_type": "markdown",
      "id": "cb458fa4",
      "metadata": {
        "id": "cb458fa4"
      },
      "source": [
        "Por lo que ahora podemos eliminar las columnas referentes a las edades:"
      ]
    },
    {
      "cell_type": "code",
      "execution_count": 27,
      "id": "da2c865b",
      "metadata": {
        "id": "da2c865b"
      },
      "outputs": [],
      "source": [
        "# divorcios = divorcios.drop(columns=[\"edad_m\", \"edad_h\"], axis=1)"
      ]
    },
    {
      "cell_type": "markdown",
      "id": "cb32af45",
      "metadata": {
        "id": "cb32af45"
      },
      "source": [
        "### Podemos prescindir de las muestras que contienen valores faltantes en las categorias:\n",
        "- Nivel de educación de la compañera\n",
        "- Nivel de educación del compañero\n",
        "- Estados de empleo del compañero\n",
        "- Estatus de empleo de la compañera\n",
        "- Ocupacion del compañero\n",
        "- Ocupacion de la compañera\n",
        "\n",
        "Ya que estos tienen valores faltantes, y es una característica que nos gustaría analizar."
      ]
    },
    {
      "cell_type": "code",
      "execution_count": 28,
      "id": "9b3f9137",
      "metadata": {
        "id": "9b3f9137"
      },
      "outputs": [],
      "source": [
        "divorcios = divorcios.dropna(subset=[\"nivel_educacion_h\", \"nivel_educacion_m\",\n",
        "                                     \"estatus_empleo_h\", \"estatus_empleo_m\",\n",
        "                                     \"ocupacion_m\", \"ocupacion_h\"])"
      ]
    },
    {
      "cell_type": "markdown",
      "id": "520e3675",
      "metadata": {
        "id": "520e3675"
      },
      "source": [
        "# Ahora no tenemos valores faltantes, procedamos a explorar los datos"
      ]
    },
    {
      "cell_type": "markdown",
      "source": [
        "### Algunas métricas interesantes sobre los datos numéricos"
      ],
      "metadata": {
        "id": "PcEaux1E4tE4"
      },
      "id": "PcEaux1E4tE4"
    },
    {
      "cell_type": "code",
      "source": [
        "divorcios.describe()"
      ],
      "metadata": {
        "colab": {
          "base_uri": "https://localhost:8080/",
          "height": 300
        },
        "id": "ALhDarra4vwh",
        "outputId": "9b8f3d13-4404-463f-efda-8c8619323cd3"
      },
      "id": "ALhDarra4vwh",
      "execution_count": 29,
      "outputs": [
        {
          "output_type": "execute_result",
          "data": {
            "text/html": [
              "<div>\n",
              "<style scoped>\n",
              "    .dataframe tbody tr th:only-of-type {\n",
              "        vertical-align: middle;\n",
              "    }\n",
              "\n",
              "    .dataframe tbody tr th {\n",
              "        vertical-align: top;\n",
              "    }\n",
              "\n",
              "    .dataframe thead th {\n",
              "        text-align: right;\n",
              "    }\n",
              "</style>\n",
              "<table border=\"1\" class=\"dataframe\">\n",
              "  <thead>\n",
              "    <tr style=\"text-align: right;\">\n",
              "      <th></th>\n",
              "      <th>edad_h</th>\n",
              "      <th>edad_m</th>\n",
              "      <th>duracion_matrimonio</th>\n",
              "      <th>numero_hijos</th>\n",
              "      <th>viven_juntos</th>\n",
              "      <th>diferencia_edades</th>\n",
              "    </tr>\n",
              "  </thead>\n",
              "  <tbody>\n",
              "    <tr>\n",
              "      <th>count</th>\n",
              "      <td>3801.000000</td>\n",
              "      <td>3801.000000</td>\n",
              "      <td>3801.000000</td>\n",
              "      <td>3801.000000</td>\n",
              "      <td>3801.000000</td>\n",
              "      <td>3801.000000</td>\n",
              "    </tr>\n",
              "    <tr>\n",
              "      <th>mean</th>\n",
              "      <td>39.058669</td>\n",
              "      <td>36.683504</td>\n",
              "      <td>11.871613</td>\n",
              "      <td>1.126546</td>\n",
              "      <td>0.030781</td>\n",
              "      <td>4.004736</td>\n",
              "    </tr>\n",
              "    <tr>\n",
              "      <th>std</th>\n",
              "      <td>10.149902</td>\n",
              "      <td>9.684147</td>\n",
              "      <td>9.289458</td>\n",
              "      <td>1.123918</td>\n",
              "      <td>0.172748</td>\n",
              "      <td>4.066484</td>\n",
              "    </tr>\n",
              "    <tr>\n",
              "      <th>min</th>\n",
              "      <td>19.000000</td>\n",
              "      <td>18.000000</td>\n",
              "      <td>0.000000</td>\n",
              "      <td>0.000000</td>\n",
              "      <td>0.000000</td>\n",
              "      <td>0.000000</td>\n",
              "    </tr>\n",
              "    <tr>\n",
              "      <th>25%</th>\n",
              "      <td>31.000000</td>\n",
              "      <td>29.000000</td>\n",
              "      <td>5.000000</td>\n",
              "      <td>0.000000</td>\n",
              "      <td>0.000000</td>\n",
              "      <td>1.000000</td>\n",
              "    </tr>\n",
              "    <tr>\n",
              "      <th>50%</th>\n",
              "      <td>37.000000</td>\n",
              "      <td>35.000000</td>\n",
              "      <td>9.000000</td>\n",
              "      <td>1.000000</td>\n",
              "      <td>0.000000</td>\n",
              "      <td>3.000000</td>\n",
              "    </tr>\n",
              "    <tr>\n",
              "      <th>75%</th>\n",
              "      <td>45.000000</td>\n",
              "      <td>43.000000</td>\n",
              "      <td>17.000000</td>\n",
              "      <td>2.000000</td>\n",
              "      <td>0.000000</td>\n",
              "      <td>5.000000</td>\n",
              "    </tr>\n",
              "    <tr>\n",
              "      <th>max</th>\n",
              "      <td>83.000000</td>\n",
              "      <td>78.000000</td>\n",
              "      <td>69.000000</td>\n",
              "      <td>10.000000</td>\n",
              "      <td>1.000000</td>\n",
              "      <td>40.000000</td>\n",
              "    </tr>\n",
              "  </tbody>\n",
              "</table>\n",
              "</div>"
            ],
            "text/plain": [
              "            edad_h       edad_m  ...  viven_juntos  diferencia_edades\n",
              "count  3801.000000  3801.000000  ...   3801.000000        3801.000000\n",
              "mean     39.058669    36.683504  ...      0.030781           4.004736\n",
              "std      10.149902     9.684147  ...      0.172748           4.066484\n",
              "min      19.000000    18.000000  ...      0.000000           0.000000\n",
              "25%      31.000000    29.000000  ...      0.000000           1.000000\n",
              "50%      37.000000    35.000000  ...      0.000000           3.000000\n",
              "75%      45.000000    43.000000  ...      0.000000           5.000000\n",
              "max      83.000000    78.000000  ...      1.000000          40.000000\n",
              "\n",
              "[8 rows x 6 columns]"
            ]
          },
          "metadata": {},
          "execution_count": 29
        }
      ]
    },
    {
      "cell_type": "markdown",
      "source": [
        "### Menos divorcios en enero\n",
        "\n",
        "Podemos observar que en general, los meses tienen una cantidad de divorcios similar. Sin embargo, llama la atención notar que el mes de enero tiene menos ocurrencias."
      ],
      "metadata": {
        "id": "xkPI5I8hKRul"
      },
      "id": "xkPI5I8hKRul"
    },
    {
      "cell_type": "code",
      "execution_count": 30,
      "id": "34f0530e",
      "metadata": {
        "colab": {
          "base_uri": "https://localhost:8080/",
          "height": 295
        },
        "id": "34f0530e",
        "outputId": "67f3c08c-e73a-4ebf-a2d1-9cb207b88944"
      },
      "outputs": [
        {
          "output_type": "display_data",
          "data": {
            "image/png": "[encoded data removed]",
            "text/plain": [
              "<Figure size 432x288 with 1 Axes>"
            ]
          },
          "metadata": {
            "needs_background": "light"
          }
        }
      ],
      "source": [
        "meses_divorcios = divorcios['fecha_divorcio'].apply(lambda row: row.month).value_counts().sort_index()\n",
        "plt.bar(x=meses_divorcios.index, height=meses_divorcios.array)\n",
        "plt.xticks(meses_divorcios.index)\n",
        "plt.xlabel(\"Mes\")\n",
        "plt.ylabel(\"Cantidad de divorcios\")\n",
        "plt.title(\"Cantidad de divorcios por mes\")\n",
        "plt.show()"
      ]
    },
    {
      "cell_type": "code",
      "source": [
        "divorcios.head()"
      ],
      "metadata": {
        "colab": {
          "base_uri": "https://localhost:8080/",
          "height": 261
        },
        "id": "Z8kMiCzJN_EU",
        "outputId": "962268ee-6d43-41e4-d022-6a480d2c4fa0"
      },
      "id": "Z8kMiCzJN_EU",
      "execution_count": 31,
      "outputs": [
        {
          "output_type": "execute_result",
          "data": {
            "text/html": [
              "<div>\n",
              "<style scoped>\n",
              "    .dataframe tbody tr th:only-of-type {\n",
              "        vertical-align: middle;\n",
              "    }\n",
              "\n",
              "    .dataframe tbody tr th {\n",
              "        vertical-align: top;\n",
              "    }\n",
              "\n",
              "    .dataframe thead th {\n",
              "        text-align: right;\n",
              "    }\n",
              "</style>\n",
              "<table border=\"1\" class=\"dataframe\">\n",
              "  <thead>\n",
              "    <tr style=\"text-align: right;\">\n",
              "      <th></th>\n",
              "      <th>fecha_divorcio</th>\n",
              "      <th>tipo_divorcio</th>\n",
              "      <th>edad_h</th>\n",
              "      <th>ocupacion_h</th>\n",
              "      <th>edad_m</th>\n",
              "      <th>ocupacion_m</th>\n",
              "      <th>fecha_matrimonio</th>\n",
              "      <th>nivel_educacion_h</th>\n",
              "      <th>estatus_empleo_h</th>\n",
              "      <th>nivel_educacion_m</th>\n",
              "      <th>estatus_empleo_m</th>\n",
              "      <th>duracion_matrimonio</th>\n",
              "      <th>numero_hijos</th>\n",
              "      <th>viven_juntos</th>\n",
              "      <th>diferencia_edades</th>\n",
              "    </tr>\n",
              "  </thead>\n",
              "  <tbody>\n",
              "    <tr>\n",
              "      <th>0</th>\n",
              "      <td>2006-06-09</td>\n",
              "      <td>Necesario</td>\n",
              "      <td>30.0</td>\n",
              "      <td>PINTOR</td>\n",
              "      <td>22.0</td>\n",
              "      <td>EMPLEADA</td>\n",
              "      <td>2000-06-26</td>\n",
              "      <td>SECUNDARIA</td>\n",
              "      <td>OBRERO</td>\n",
              "      <td>SECUNDARIA</td>\n",
              "      <td>EMPLEADO</td>\n",
              "      <td>5.0</td>\n",
              "      <td>1.0</td>\n",
              "      <td>0</td>\n",
              "      <td>8.0</td>\n",
              "    </tr>\n",
              "    <tr>\n",
              "      <th>4</th>\n",
              "      <td>2006-02-01</td>\n",
              "      <td>Necesario</td>\n",
              "      <td>30.0</td>\n",
              "      <td>MEDICO</td>\n",
              "      <td>27.0</td>\n",
              "      <td>AMA DE CASA</td>\n",
              "      <td>1998-11-14</td>\n",
              "      <td>PROFESIONAL</td>\n",
              "      <td>EMPLEADO</td>\n",
              "      <td>PREPARATORIA</td>\n",
              "      <td>NO TRABAJA</td>\n",
              "      <td>7.0</td>\n",
              "      <td>2.0</td>\n",
              "      <td>0</td>\n",
              "      <td>3.0</td>\n",
              "    </tr>\n",
              "    <tr>\n",
              "      <th>6</th>\n",
              "      <td>2007-02-01</td>\n",
              "      <td>Necesario</td>\n",
              "      <td>36.0</td>\n",
              "      <td>EMPLEADO</td>\n",
              "      <td>35.0</td>\n",
              "      <td>LABORES DOMESTICAS</td>\n",
              "      <td>1991-08-16</td>\n",
              "      <td>PROFESIONAL</td>\n",
              "      <td>EMPLEADO</td>\n",
              "      <td>PROFESIONAL</td>\n",
              "      <td>NO TRABAJA</td>\n",
              "      <td>15.0</td>\n",
              "      <td>2.0</td>\n",
              "      <td>0</td>\n",
              "      <td>1.0</td>\n",
              "    </tr>\n",
              "    <tr>\n",
              "      <th>7</th>\n",
              "      <td>2007-02-01</td>\n",
              "      <td>Necesario</td>\n",
              "      <td>31.0</td>\n",
              "      <td>LICENCIADO</td>\n",
              "      <td>32.0</td>\n",
              "      <td>LICENCIADA</td>\n",
              "      <td>1999-09-17</td>\n",
              "      <td>PROFESIONAL</td>\n",
              "      <td>EMPLEADO</td>\n",
              "      <td>PROFESIONAL</td>\n",
              "      <td>EMPLEADO</td>\n",
              "      <td>7.0</td>\n",
              "      <td>1.0</td>\n",
              "      <td>0</td>\n",
              "      <td>1.0</td>\n",
              "    </tr>\n",
              "    <tr>\n",
              "      <th>8</th>\n",
              "      <td>2008-02-01</td>\n",
              "      <td>Voluntario</td>\n",
              "      <td>31.0</td>\n",
              "      <td>COMERCIANTE</td>\n",
              "      <td>28.0</td>\n",
              "      <td>EMPLEADA</td>\n",
              "      <td>2006-06-03</td>\n",
              "      <td>PROFESIONAL</td>\n",
              "      <td>EMPLEADO</td>\n",
              "      <td>PROFESIONAL</td>\n",
              "      <td>NO TRABAJA</td>\n",
              "      <td>1.0</td>\n",
              "      <td>0.0</td>\n",
              "      <td>0</td>\n",
              "      <td>3.0</td>\n",
              "    </tr>\n",
              "  </tbody>\n",
              "</table>\n",
              "</div>"
            ],
            "text/plain": [
              "  fecha_divorcio tipo_divorcio  ...  viven_juntos diferencia_edades\n",
              "0     2006-06-09     Necesario  ...             0               8.0\n",
              "4     2006-02-01     Necesario  ...             0               3.0\n",
              "6     2007-02-01     Necesario  ...             0               1.0\n",
              "7     2007-02-01     Necesario  ...             0               1.0\n",
              "8     2008-02-01    Voluntario  ...             0               3.0\n",
              "\n",
              "[5 rows x 15 columns]"
            ]
          },
          "metadata": {},
          "execution_count": 31
        }
      ]
    },
    {
      "cell_type": "markdown",
      "source": [
        "## ¿Que nivel de educación predomina en los divorciados?"
      ],
      "metadata": {
        "id": "oZ8pWQ43OUrx"
      },
      "id": "oZ8pWQ43OUrx"
    },
    {
      "cell_type": "code",
      "source": [
        "def horizontal_plot(column, title, y_label, x_label):\n",
        "    column_serie = column.value_counts()\n",
        "    categorias = column_serie.index\n",
        "    valores = column_serie.array\n",
        "\n",
        "    plt.figure(figsize=(12, 4))\n",
        "    plt.barh(categorias, valores, align='center')\n",
        "    plt.title(title, fontsize=16)\n",
        "    plt.ylabel(y_label, fontsize=14)\n",
        "    plt.xlabel(x_label, fontsize=14)\n",
        "    for index, data in enumerate(valores):\n",
        "        if data != 0:\n",
        "            plt.text(x = data+10, y = index-0.10, s=f'{data}')\n",
        "    plt.show()"
      ],
      "metadata": {
        "id": "qpDs-YNzOavJ"
      },
      "id": "qpDs-YNzOavJ",
      "execution_count": 32,
      "outputs": []
    },
    {
      "cell_type": "code",
      "source": [
        "horizontal_plot(divorcios[\"nivel_educacion_h\"], \"Nivel de educación en hombres\", \"Nivel\", \"Ocurrencias\")"
      ],
      "metadata": {
        "colab": {
          "base_uri": "https://localhost:8080/",
          "height": 301
        },
        "id": "WgSxjhWHO9xp",
        "outputId": "28c2a515-a459-4289-e4aa-9ceb347d5520"
      },
      "id": "WgSxjhWHO9xp",
      "execution_count": 33,
      "outputs": [
        {
          "output_type": "display_data",
          "data": {
            "image/png": "[encoded data removed]",
            "text/plain": [
              "<Figure size 864x288 with 1 Axes>"
            ]
          },
          "metadata": {
            "needs_background": "light"
          }
        }
      ]
    },
    {
      "cell_type": "code",
      "source": [
        "horizontal_plot(divorcios[\"nivel_educacion_m\"], \"Nivel de educación en mujeres\", \"Nivel\", \"Ocurrencias\")"
      ],
      "metadata": {
        "colab": {
          "base_uri": "https://localhost:8080/",
          "height": 302
        },
        "id": "D6mt_QwvPShP",
        "outputId": "726520bd-ff28-40e2-e55f-f1e66ed3a461"
      },
      "id": "D6mt_QwvPShP",
      "execution_count": 34,
      "outputs": [
        {
          "output_type": "display_data",
          "data": {
            "image/png": "[encoded data removed]",
            "text/plain": [
              "<Figure size 864x288 with 1 Axes>"
            ]
          },
          "metadata": {
            "needs_background": "light"
          }
        }
      ]
    },
    {
      "cell_type": "markdown",
      "source": [
        "## ¿En qué edades de la población se concentra la mayor cantidad de divorcios?"
      ],
      "metadata": {
        "id": "P0KmmXDkYFhT"
      },
      "id": "P0KmmXDkYFhT"
    },
    {
      "cell_type": "code",
      "source": [
        "edad_hombres = divorcios[\"edad_h\"].value_counts().sort_index()\n",
        "\n",
        "plt.figure(figsize=(25,10))\n",
        "plt.bar(x=edad_hombres.index, height=edad_hombres.array)\n",
        "plt.xticks(edad_hombres.index)\n",
        "plt.xlabel(\"Edad\")\n",
        "plt.ylabel(\"Cantidad de divorcios\")\n",
        "plt.title(\"Cantidad de divorcios por edad (hombres)\")\n",
        "plt.show()"
      ],
      "metadata": {
        "colab": {
          "base_uri": "https://localhost:8080/",
          "height": 621
        },
        "id": "HH6GSydlW_Ox",
        "outputId": "ed91c841-bbb5-479c-fef4-bf264dd532f3"
      },
      "id": "HH6GSydlW_Ox",
      "execution_count": 35,
      "outputs": [
        {
          "output_type": "display_data",
          "data": {
            "image/png": "[encoded data removed]",
            "text/plain": [
              "<Figure size 1800x720 with 1 Axes>"
            ]
          },
          "metadata": {
            "needs_background": "light"
          }
        }
      ]
    },
    {
      "cell_type": "code",
      "source": [
        "edad_mujeres = divorcios[\"edad_m\"].value_counts().sort_index()\n",
        "\n",
        "plt.figure(figsize=(25,10))\n",
        "plt.bar(x=edad_mujeres.index, height=edad_mujeres.array)\n",
        "plt.xticks(edad_mujeres.index)\n",
        "plt.xlabel(\"Edad\")\n",
        "plt.ylabel(\"Cantidad de divorcios\")\n",
        "plt.title(\"Cantidad de divorcios por edad (hombres)\")\n",
        "plt.show()"
      ],
      "metadata": {
        "colab": {
          "base_uri": "https://localhost:8080/",
          "height": 621
        },
        "id": "DeWqDxlaYYr0",
        "outputId": "7bf0db19-eb81-4290-8782-8478834203cd"
      },
      "id": "DeWqDxlaYYr0",
      "execution_count": 36,
      "outputs": [
        {
          "output_type": "display_data",
          "data": {
            "image/png": "[encoded data removed]",
            "text/plain": [
              "<Figure size 1800x720 with 1 Axes>"
            ]
          },
          "metadata": {
            "needs_background": "light"
          }
        }
      ]
    },
    {
      "cell_type": "markdown",
      "source": [
        "Observando la distribución de edades en los casos de divorcio, notamos que la mayoría se concentra alrededor de los 30-35 años."
      ],
      "metadata": {
        "id": "C3Bl4RApZGoc"
      },
      "id": "C3Bl4RApZGoc"
    },
    {
      "cell_type": "markdown",
      "source": [
        "## ¿Cómo influye la diferencia de edad en una pareja?"
      ],
      "metadata": {
        "id": "g4V57m1MZb1r"
      },
      "id": "g4V57m1MZb1r"
    },
    {
      "cell_type": "code",
      "source": [
        "diferencia_edades = divorcios[\"diferencia_edades\"].value_counts().sort_index()\n",
        "\n",
        "plt.figure(figsize=(20,7))\n",
        "plt.bar(x=diferencia_edades.index, height=diferencia_edades.array)\n",
        "plt.xticks(diferencia_edades.index)\n",
        "plt.xlabel(\"Diferencia en años\")\n",
        "plt.ylabel(\"Cantidad de divorcios\")\n",
        "plt.title(\"Cantidad de divorcios por diferencia de edad\")\n",
        "plt.show()"
      ],
      "metadata": {
        "colab": {
          "base_uri": "https://localhost:8080/",
          "height": 458
        },
        "id": "jBNjVzyrP9RA",
        "outputId": "2a2f3e23-3214-42de-ed5c-304965f4b01a"
      },
      "id": "jBNjVzyrP9RA",
      "execution_count": 197,
      "outputs": [
        {
          "output_type": "display_data",
          "data": {
            "image/png": "[encoded data removed]",
            "text/plain": [
              "<Figure size 1440x504 with 1 Axes>"
            ]
          },
          "metadata": {
            "needs_background": "light"
          }
        }
      ]
    },
    {
      "cell_type": "code",
      "source": [
        "divorcios[divorcios[\"diferencia_edades\"] == 1].shape[0] / divorcios.shape[0]"
      ],
      "metadata": {
        "colab": {
          "base_uri": "https://localhost:8080/"
        },
        "id": "xwMTAzAWb31L",
        "outputId": "4628039f-d46f-4785-b261-f59174f7f597"
      },
      "id": "xwMTAzAWb31L",
      "execution_count": 38,
      "outputs": [
        {
          "output_type": "execute_result",
          "data": {
            "text/plain": [
              "0.1907392791370692"
            ]
          },
          "metadata": {},
          "execution_count": 38
        }
      ]
    },
    {
      "cell_type": "markdown",
      "source": [
        "Según los datos, suele haber más divorcios de parejas que tienen una diferencia de edad más baja. Siendo La diferencia de edad de un año la que predomina más, con un 19%"
      ],
      "metadata": {
        "id": "2WDwSk-CbJ7k"
      },
      "id": "2WDwSk-CbJ7k"
    },
    {
      "cell_type": "markdown",
      "source": [
        "## Número de hijos"
      ],
      "metadata": {
        "id": "BV8tEJusd2ZQ"
      },
      "id": "BV8tEJusd2ZQ"
    },
    {
      "cell_type": "code",
      "source": [
        "divorcios[\"numero_hijos\"].value_counts()\n",
        "horizontal_plot(divorcios[\"numero_hijos\"], \"Cantidad de divorcios por número de hijos\", \"Cantidad\", \"Número de hijos\")"
      ],
      "metadata": {
        "colab": {
          "base_uri": "https://localhost:8080/",
          "height": 303
        },
        "id": "nqTYOIX_d8t1",
        "outputId": "b79528a6-6d51-45f5-acaf-f8c457169b2b"
      },
      "id": "nqTYOIX_d8t1",
      "execution_count": 39,
      "outputs": [
        {
          "output_type": "display_data",
          "data": {
            "image/png": "[encoded data removed]",
            "text/plain": [
              "<Figure size 864x288 with 1 Axes>"
            ]
          },
          "metadata": {
            "needs_background": "light"
          }
        }
      ]
    },
    {
      "cell_type": "markdown",
      "source": [
        "Según los datos, las parejas con un menor número de hijos podrían ser más propensas a divorciarse."
      ],
      "metadata": {
        "id": "N2pJHA8tjLu9"
      },
      "id": "N2pJHA8tjLu9"
    },
    {
      "cell_type": "markdown",
      "source": [
        "## ¿Viven juntos?"
      ],
      "metadata": {
        "id": "dI89-S5Wkavx"
      },
      "id": "dI89-S5Wkavx"
    },
    {
      "cell_type": "code",
      "source": [
        "cantidad_viven_juntos = divorcios[\"viven_juntos\"].value_counts()\n",
        "etiquetas = [\"No\", \"Si\"]\n",
        "plt.bar(etiquetas, cantidad_viven_juntos.values)\n",
        "plt.title(\"Cantidad de matrimonios que vivían juntos\")\n",
        "plt.show()"
      ],
      "metadata": {
        "colab": {
          "base_uri": "https://localhost:8080/",
          "height": 281
        },
        "id": "TMX1od5rkdTj",
        "outputId": "d8695a28-45dc-4efe-bc10-75755da311f9"
      },
      "id": "TMX1od5rkdTj",
      "execution_count": 40,
      "outputs": [
        {
          "output_type": "display_data",
          "data": {
            "image/png": "[encoded data removed]",
            "text/plain": [
              "<Figure size 432x288 with 1 Axes>"
            ]
          },
          "metadata": {
            "needs_background": "light"
          }
        }
      ]
    },
    {
      "cell_type": "markdown",
      "source": [
        "## Las 10 profesiones con más divorcios\n",
        "\n",
        "Exploremos un poco las profesiones que más ocurrencias tienen cuando de divorcios se trata."
      ],
      "metadata": {
        "id": "_7Uev7UgiXg3"
      },
      "id": "_7Uev7UgiXg3"
    },
    {
      "cell_type": "code",
      "source": [
        "# Algunas muestras en esta columna están etiquetadas como EMPLEADO y otras como EMPLEADA, asumiremos que estas se refieren a lo mismo\n",
        "divorcios[\"ocupacion_m\"] = divorcios[\"ocupacion_m\"].apply(lambda row: \"EMPLEADA\" if row == \"EMPLEADO\" else row)"
      ],
      "metadata": {
        "id": "2UJQgMjNkhVg"
      },
      "id": "2UJQgMjNkhVg",
      "execution_count": 41,
      "outputs": []
    },
    {
      "cell_type": "code",
      "source": [
        "prof_mas_divorcios_h = divorcios[\"ocupacion_h\"].value_counts()[1:10]\n",
        "prof_mas_divorcios_m = divorcios[\"ocupacion_m\"].value_counts()[1:10]"
      ],
      "metadata": {
        "id": "jae9bBwhi2b9"
      },
      "id": "jae9bBwhi2b9",
      "execution_count": 42,
      "outputs": []
    },
    {
      "cell_type": "code",
      "source": [
        "prof_mas_divorcios_m"
      ],
      "metadata": {
        "colab": {
          "base_uri": "https://localhost:8080/"
        },
        "id": "ZVPTItCPlwku",
        "outputId": "28242ce9-f591-408a-f45a-b94e0d285245"
      },
      "id": "ZVPTItCPlwku",
      "execution_count": 43,
      "outputs": [
        {
          "output_type": "execute_result",
          "data": {
            "text/plain": [
              "AMA DE CASA           459\n",
              "LABORES DOMESTICAS    286\n",
              "MAESTRA               191\n",
              "COMERCIANTE           152\n",
              "PROFESORA             125\n",
              "ESTUDIANTE            114\n",
              "EDUCADORA              58\n",
              "DOCENTE                49\n",
              "SECRETARIA             43\n",
              "Name: ocupacion_m, dtype: int64"
            ]
          },
          "metadata": {},
          "execution_count": 43
        }
      ]
    },
    {
      "cell_type": "code",
      "source": [
        "categorias = prof_mas_divorcios_h.index\n",
        "valores = prof_mas_divorcios_h.array\n",
        "\n",
        "plt.figure(figsize=(12, 4))\n",
        "plt.barh(categorias, valores, align='center')\n",
        "plt.title(\"Ocupaciones con más divorcios (hombres)\", fontsize=16)\n",
        "plt.ylabel(\"Ocupación\", fontsize=14)\n",
        "plt.xlabel(\"Cantidad divorcios\", fontsize=14)\n",
        "for index, data in enumerate(valores):\n",
        "    if data != 0:\n",
        "        plt.text(x = data+5, y = index-0.10, s=f'{data}')\n",
        "plt.show()"
      ],
      "metadata": {
        "colab": {
          "base_uri": "https://localhost:8080/",
          "height": 302
        },
        "id": "6DNPV9S_icGB",
        "outputId": "9a28d52f-527b-45df-8596-8f31ff90efc3"
      },
      "id": "6DNPV9S_icGB",
      "execution_count": 44,
      "outputs": [
        {
          "output_type": "display_data",
          "data": {
            "image/png": "[encoded data removed]",
            "text/plain": [
              "<Figure size 864x288 with 1 Axes>"
            ]
          },
          "metadata": {
            "needs_background": "light"
          }
        }
      ]
    },
    {
      "cell_type": "code",
      "source": [
        "categorias = prof_mas_divorcios_m.index\n",
        "valores = prof_mas_divorcios_m.array\n",
        "\n",
        "plt.figure(figsize=(12, 4))\n",
        "plt.barh(categorias, valores, align='center')\n",
        "plt.title(\"Ocupaciones con más divorcios (mujeres)\", fontsize=16)\n",
        "plt.ylabel(\"Ocupación\", fontsize=14)\n",
        "plt.xlabel(\"Cantidad divorcios\", fontsize=14)\n",
        "for index, data in enumerate(valores):\n",
        "    if data != 0:\n",
        "        plt.text(x = data+5, y = index-0.10, s=f'{data}')\n",
        "plt.show()"
      ],
      "metadata": {
        "colab": {
          "base_uri": "https://localhost:8080/",
          "height": 302
        },
        "id": "G7uROQdEmnH4",
        "outputId": "d8786856-0064-42ac-fc80-e55682cbaccb"
      },
      "id": "G7uROQdEmnH4",
      "execution_count": 45,
      "outputs": [
        {
          "output_type": "display_data",
          "data": {
            "image/png": "[encoded data removed]",
            "text/plain": [
              "<Figure size 864x288 with 1 Axes>"
            ]
          },
          "metadata": {
            "needs_background": "light"
          }
        }
      ]
    },
    {
      "cell_type": "code",
      "source": [
        "divorcios.head()"
      ],
      "metadata": {
        "colab": {
          "base_uri": "https://localhost:8080/",
          "height": 261
        },
        "id": "lOJlV386qDVV",
        "outputId": "b467a7ee-6e4f-4788-8082-cac20aa4d57d"
      },
      "id": "lOJlV386qDVV",
      "execution_count": 46,
      "outputs": [
        {
          "output_type": "execute_result",
          "data": {
            "text/html": [
              "<div>\n",
              "<style scoped>\n",
              "    .dataframe tbody tr th:only-of-type {\n",
              "        vertical-align: middle;\n",
              "    }\n",
              "\n",
              "    .dataframe tbody tr th {\n",
              "        vertical-align: top;\n",
              "    }\n",
              "\n",
              "    .dataframe thead th {\n",
              "        text-align: right;\n",
              "    }\n",
              "</style>\n",
              "<table border=\"1\" class=\"dataframe\">\n",
              "  <thead>\n",
              "    <tr style=\"text-align: right;\">\n",
              "      <th></th>\n",
              "      <th>fecha_divorcio</th>\n",
              "      <th>tipo_divorcio</th>\n",
              "      <th>edad_h</th>\n",
              "      <th>ocupacion_h</th>\n",
              "      <th>edad_m</th>\n",
              "      <th>ocupacion_m</th>\n",
              "      <th>fecha_matrimonio</th>\n",
              "      <th>nivel_educacion_h</th>\n",
              "      <th>estatus_empleo_h</th>\n",
              "      <th>nivel_educacion_m</th>\n",
              "      <th>estatus_empleo_m</th>\n",
              "      <th>duracion_matrimonio</th>\n",
              "      <th>numero_hijos</th>\n",
              "      <th>viven_juntos</th>\n",
              "      <th>diferencia_edades</th>\n",
              "    </tr>\n",
              "  </thead>\n",
              "  <tbody>\n",
              "    <tr>\n",
              "      <th>0</th>\n",
              "      <td>2006-06-09</td>\n",
              "      <td>Necesario</td>\n",
              "      <td>30.0</td>\n",
              "      <td>PINTOR</td>\n",
              "      <td>22.0</td>\n",
              "      <td>EMPLEADA</td>\n",
              "      <td>2000-06-26</td>\n",
              "      <td>SECUNDARIA</td>\n",
              "      <td>OBRERO</td>\n",
              "      <td>SECUNDARIA</td>\n",
              "      <td>EMPLEADO</td>\n",
              "      <td>5.0</td>\n",
              "      <td>1.0</td>\n",
              "      <td>0</td>\n",
              "      <td>8.0</td>\n",
              "    </tr>\n",
              "    <tr>\n",
              "      <th>4</th>\n",
              "      <td>2006-02-01</td>\n",
              "      <td>Necesario</td>\n",
              "      <td>30.0</td>\n",
              "      <td>MEDICO</td>\n",
              "      <td>27.0</td>\n",
              "      <td>AMA DE CASA</td>\n",
              "      <td>1998-11-14</td>\n",
              "      <td>PROFESIONAL</td>\n",
              "      <td>EMPLEADO</td>\n",
              "      <td>PREPARATORIA</td>\n",
              "      <td>NO TRABAJA</td>\n",
              "      <td>7.0</td>\n",
              "      <td>2.0</td>\n",
              "      <td>0</td>\n",
              "      <td>3.0</td>\n",
              "    </tr>\n",
              "    <tr>\n",
              "      <th>6</th>\n",
              "      <td>2007-02-01</td>\n",
              "      <td>Necesario</td>\n",
              "      <td>36.0</td>\n",
              "      <td>EMPLEADO</td>\n",
              "      <td>35.0</td>\n",
              "      <td>LABORES DOMESTICAS</td>\n",
              "      <td>1991-08-16</td>\n",
              "      <td>PROFESIONAL</td>\n",
              "      <td>EMPLEADO</td>\n",
              "      <td>PROFESIONAL</td>\n",
              "      <td>NO TRABAJA</td>\n",
              "      <td>15.0</td>\n",
              "      <td>2.0</td>\n",
              "      <td>0</td>\n",
              "      <td>1.0</td>\n",
              "    </tr>\n",
              "    <tr>\n",
              "      <th>7</th>\n",
              "      <td>2007-02-01</td>\n",
              "      <td>Necesario</td>\n",
              "      <td>31.0</td>\n",
              "      <td>LICENCIADO</td>\n",
              "      <td>32.0</td>\n",
              "      <td>LICENCIADA</td>\n",
              "      <td>1999-09-17</td>\n",
              "      <td>PROFESIONAL</td>\n",
              "      <td>EMPLEADO</td>\n",
              "      <td>PROFESIONAL</td>\n",
              "      <td>EMPLEADO</td>\n",
              "      <td>7.0</td>\n",
              "      <td>1.0</td>\n",
              "      <td>0</td>\n",
              "      <td>1.0</td>\n",
              "    </tr>\n",
              "    <tr>\n",
              "      <th>8</th>\n",
              "      <td>2008-02-01</td>\n",
              "      <td>Voluntario</td>\n",
              "      <td>31.0</td>\n",
              "      <td>COMERCIANTE</td>\n",
              "      <td>28.0</td>\n",
              "      <td>EMPLEADA</td>\n",
              "      <td>2006-06-03</td>\n",
              "      <td>PROFESIONAL</td>\n",
              "      <td>EMPLEADO</td>\n",
              "      <td>PROFESIONAL</td>\n",
              "      <td>NO TRABAJA</td>\n",
              "      <td>1.0</td>\n",
              "      <td>0.0</td>\n",
              "      <td>0</td>\n",
              "      <td>3.0</td>\n",
              "    </tr>\n",
              "  </tbody>\n",
              "</table>\n",
              "</div>"
            ],
            "text/plain": [
              "  fecha_divorcio tipo_divorcio  ...  viven_juntos diferencia_edades\n",
              "0     2006-06-09     Necesario  ...             0               8.0\n",
              "4     2006-02-01     Necesario  ...             0               3.0\n",
              "6     2007-02-01     Necesario  ...             0               1.0\n",
              "7     2007-02-01     Necesario  ...             0               1.0\n",
              "8     2008-02-01    Voluntario  ...             0               3.0\n",
              "\n",
              "[5 rows x 15 columns]"
            ]
          },
          "metadata": {},
          "execution_count": 46
        }
      ]
    },
    {
      "cell_type": "markdown",
      "id": "fa7d54ee",
      "metadata": {
        "id": "fa7d54ee"
      },
      "source": [
        "# Preprocesamiento de los datos para entrenar un modelo predictivo"
      ]
    },
    {
      "cell_type": "markdown",
      "id": "f9af4b87",
      "metadata": {
        "id": "f9af4b87"
      },
      "source": [
        "## Convirtiendo variables categóricas a numéricas\n",
        "Primero crearemos una copia del datframe para procesarla"
      ]
    },
    {
      "cell_type": "code",
      "execution_count": 47,
      "id": "894151a8",
      "metadata": {
        "id": "894151a8"
      },
      "outputs": [],
      "source": [
        "divorcios_procesada = divorcios.copy()"
      ]
    },
    {
      "cell_type": "markdown",
      "id": "36e764a8",
      "metadata": {
        "id": "36e764a8"
      },
      "source": [
        "### Variables binarias\n",
        "#### Tipo de divorcio"
      ]
    },
    {
      "cell_type": "code",
      "execution_count": 48,
      "id": "4ed4a1de",
      "metadata": {
        "colab": {
          "base_uri": "https://localhost:8080/"
        },
        "id": "4ed4a1de",
        "outputId": "056d97e9-7428-4c7d-9f58-d9a1db225a27"
      },
      "outputs": [
        {
          "output_type": "stream",
          "name": "stdout",
          "text": [
            "['Necesario' 'Voluntario']\n"
          ]
        }
      ],
      "source": [
        "print(divorcios['tipo_divorcio'].unique())"
      ]
    },
    {
      "cell_type": "code",
      "execution_count": 49,
      "id": "1260d26e",
      "metadata": {
        "id": "1260d26e"
      },
      "outputs": [],
      "source": [
        "le = LabelEncoder()\n",
        "divorcios_procesada['voluntario'] = le.fit_transform(divorcios_procesada['tipo_divorcio'])"
      ]
    },
    {
      "cell_type": "code",
      "source": [
        "# Ahora ya tenemos nuestra variable númerica y binaria\n",
        "divorcios_procesada[['tipo_divorcio', 'voluntario']].head()"
      ],
      "metadata": {
        "colab": {
          "base_uri": "https://localhost:8080/",
          "height": 206
        },
        "id": "xCr5JmPbsWNY",
        "outputId": "39cc7595-91bf-45bf-f6ff-a8b3898874c4"
      },
      "id": "xCr5JmPbsWNY",
      "execution_count": 50,
      "outputs": [
        {
          "output_type": "execute_result",
          "data": {
            "text/html": [
              "<div>\n",
              "<style scoped>\n",
              "    .dataframe tbody tr th:only-of-type {\n",
              "        vertical-align: middle;\n",
              "    }\n",
              "\n",
              "    .dataframe tbody tr th {\n",
              "        vertical-align: top;\n",
              "    }\n",
              "\n",
              "    .dataframe thead th {\n",
              "        text-align: right;\n",
              "    }\n",
              "</style>\n",
              "<table border=\"1\" class=\"dataframe\">\n",
              "  <thead>\n",
              "    <tr style=\"text-align: right;\">\n",
              "      <th></th>\n",
              "      <th>tipo_divorcio</th>\n",
              "      <th>voluntario</th>\n",
              "    </tr>\n",
              "  </thead>\n",
              "  <tbody>\n",
              "    <tr>\n",
              "      <th>0</th>\n",
              "      <td>Necesario</td>\n",
              "      <td>0</td>\n",
              "    </tr>\n",
              "    <tr>\n",
              "      <th>4</th>\n",
              "      <td>Necesario</td>\n",
              "      <td>0</td>\n",
              "    </tr>\n",
              "    <tr>\n",
              "      <th>6</th>\n",
              "      <td>Necesario</td>\n",
              "      <td>0</td>\n",
              "    </tr>\n",
              "    <tr>\n",
              "      <th>7</th>\n",
              "      <td>Necesario</td>\n",
              "      <td>0</td>\n",
              "    </tr>\n",
              "    <tr>\n",
              "      <th>8</th>\n",
              "      <td>Voluntario</td>\n",
              "      <td>1</td>\n",
              "    </tr>\n",
              "  </tbody>\n",
              "</table>\n",
              "</div>"
            ],
            "text/plain": [
              "  tipo_divorcio  voluntario\n",
              "0     Necesario           0\n",
              "4     Necesario           0\n",
              "6     Necesario           0\n",
              "7     Necesario           0\n",
              "8    Voluntario           1"
            ]
          },
          "metadata": {},
          "execution_count": 50
        }
      ]
    },
    {
      "cell_type": "code",
      "execution_count": 51,
      "id": "a1d8aa36",
      "metadata": {
        "colab": {
          "base_uri": "https://localhost:8080/",
          "height": 261
        },
        "id": "a1d8aa36",
        "outputId": "e78f9e52-ea4a-4f72-b1c1-70bb0f169f2f"
      },
      "outputs": [
        {
          "output_type": "execute_result",
          "data": {
            "text/html": [
              "<div>\n",
              "<style scoped>\n",
              "    .dataframe tbody tr th:only-of-type {\n",
              "        vertical-align: middle;\n",
              "    }\n",
              "\n",
              "    .dataframe tbody tr th {\n",
              "        vertical-align: top;\n",
              "    }\n",
              "\n",
              "    .dataframe thead th {\n",
              "        text-align: right;\n",
              "    }\n",
              "</style>\n",
              "<table border=\"1\" class=\"dataframe\">\n",
              "  <thead>\n",
              "    <tr style=\"text-align: right;\">\n",
              "      <th></th>\n",
              "      <th>fecha_divorcio</th>\n",
              "      <th>tipo_divorcio</th>\n",
              "      <th>edad_h</th>\n",
              "      <th>ocupacion_h</th>\n",
              "      <th>edad_m</th>\n",
              "      <th>ocupacion_m</th>\n",
              "      <th>fecha_matrimonio</th>\n",
              "      <th>nivel_educacion_h</th>\n",
              "      <th>estatus_empleo_h</th>\n",
              "      <th>nivel_educacion_m</th>\n",
              "      <th>estatus_empleo_m</th>\n",
              "      <th>duracion_matrimonio</th>\n",
              "      <th>numero_hijos</th>\n",
              "      <th>viven_juntos</th>\n",
              "      <th>diferencia_edades</th>\n",
              "      <th>voluntario</th>\n",
              "    </tr>\n",
              "  </thead>\n",
              "  <tbody>\n",
              "    <tr>\n",
              "      <th>0</th>\n",
              "      <td>2006-06-09</td>\n",
              "      <td>Necesario</td>\n",
              "      <td>30.0</td>\n",
              "      <td>PINTOR</td>\n",
              "      <td>22.0</td>\n",
              "      <td>EMPLEADA</td>\n",
              "      <td>2000-06-26</td>\n",
              "      <td>SECUNDARIA</td>\n",
              "      <td>OBRERO</td>\n",
              "      <td>SECUNDARIA</td>\n",
              "      <td>EMPLEADO</td>\n",
              "      <td>5.0</td>\n",
              "      <td>1.0</td>\n",
              "      <td>0</td>\n",
              "      <td>8.0</td>\n",
              "      <td>0</td>\n",
              "    </tr>\n",
              "    <tr>\n",
              "      <th>4</th>\n",
              "      <td>2006-02-01</td>\n",
              "      <td>Necesario</td>\n",
              "      <td>30.0</td>\n",
              "      <td>MEDICO</td>\n",
              "      <td>27.0</td>\n",
              "      <td>AMA DE CASA</td>\n",
              "      <td>1998-11-14</td>\n",
              "      <td>PROFESIONAL</td>\n",
              "      <td>EMPLEADO</td>\n",
              "      <td>PREPARATORIA</td>\n",
              "      <td>NO TRABAJA</td>\n",
              "      <td>7.0</td>\n",
              "      <td>2.0</td>\n",
              "      <td>0</td>\n",
              "      <td>3.0</td>\n",
              "      <td>0</td>\n",
              "    </tr>\n",
              "    <tr>\n",
              "      <th>6</th>\n",
              "      <td>2007-02-01</td>\n",
              "      <td>Necesario</td>\n",
              "      <td>36.0</td>\n",
              "      <td>EMPLEADO</td>\n",
              "      <td>35.0</td>\n",
              "      <td>LABORES DOMESTICAS</td>\n",
              "      <td>1991-08-16</td>\n",
              "      <td>PROFESIONAL</td>\n",
              "      <td>EMPLEADO</td>\n",
              "      <td>PROFESIONAL</td>\n",
              "      <td>NO TRABAJA</td>\n",
              "      <td>15.0</td>\n",
              "      <td>2.0</td>\n",
              "      <td>0</td>\n",
              "      <td>1.0</td>\n",
              "      <td>0</td>\n",
              "    </tr>\n",
              "    <tr>\n",
              "      <th>7</th>\n",
              "      <td>2007-02-01</td>\n",
              "      <td>Necesario</td>\n",
              "      <td>31.0</td>\n",
              "      <td>LICENCIADO</td>\n",
              "      <td>32.0</td>\n",
              "      <td>LICENCIADA</td>\n",
              "      <td>1999-09-17</td>\n",
              "      <td>PROFESIONAL</td>\n",
              "      <td>EMPLEADO</td>\n",
              "      <td>PROFESIONAL</td>\n",
              "      <td>EMPLEADO</td>\n",
              "      <td>7.0</td>\n",
              "      <td>1.0</td>\n",
              "      <td>0</td>\n",
              "      <td>1.0</td>\n",
              "      <td>0</td>\n",
              "    </tr>\n",
              "    <tr>\n",
              "      <th>8</th>\n",
              "      <td>2008-02-01</td>\n",
              "      <td>Voluntario</td>\n",
              "      <td>31.0</td>\n",
              "      <td>COMERCIANTE</td>\n",
              "      <td>28.0</td>\n",
              "      <td>EMPLEADA</td>\n",
              "      <td>2006-06-03</td>\n",
              "      <td>PROFESIONAL</td>\n",
              "      <td>EMPLEADO</td>\n",
              "      <td>PROFESIONAL</td>\n",
              "      <td>NO TRABAJA</td>\n",
              "      <td>1.0</td>\n",
              "      <td>0.0</td>\n",
              "      <td>0</td>\n",
              "      <td>3.0</td>\n",
              "      <td>1</td>\n",
              "    </tr>\n",
              "  </tbody>\n",
              "</table>\n",
              "</div>"
            ],
            "text/plain": [
              "  fecha_divorcio tipo_divorcio  ...  diferencia_edades voluntario\n",
              "0     2006-06-09     Necesario  ...                8.0          0\n",
              "4     2006-02-01     Necesario  ...                3.0          0\n",
              "6     2007-02-01     Necesario  ...                1.0          0\n",
              "7     2007-02-01     Necesario  ...                1.0          0\n",
              "8     2008-02-01    Voluntario  ...                3.0          1\n",
              "\n",
              "[5 rows x 16 columns]"
            ]
          },
          "metadata": {},
          "execution_count": 51
        }
      ],
      "source": [
        "divorcios_procesada.head()"
      ]
    },
    {
      "cell_type": "markdown",
      "id": "2fc0cc2d",
      "metadata": {
        "id": "2fc0cc2d"
      },
      "source": [
        "### Variables con más de dos categorías\n",
        "#### Nivel de educación"
      ]
    },
    {
      "cell_type": "code",
      "execution_count": 52,
      "id": "3c03218d",
      "metadata": {
        "colab": {
          "base_uri": "https://localhost:8080/"
        },
        "id": "3c03218d",
        "outputId": "d6d5d1ee-e0f2-4a75-a007-e40d2c204dae"
      },
      "outputs": [
        {
          "output_type": "stream",
          "name": "stdout",
          "text": [
            "['SECUNDARIA' 'PROFESIONAL' 'PREPARATORIA' 'PRIMARIA' 'OTRO'\n",
            " 'SIN ESCOLARIDAD']\n",
            "['SECUNDARIA' 'PREPARATORIA' 'PROFESIONAL' 'OTRO' 'PRIMARIA'\n",
            " 'SIN ESCOLARIDAD']\n"
          ]
        }
      ],
      "source": [
        "print(divorcios['nivel_educacion_h'].unique())\n",
        "print(divorcios['nivel_educacion_m'].unique())"
      ]
    },
    {
      "cell_type": "code",
      "execution_count": 53,
      "id": "8566b8e4",
      "metadata": {
        "id": "8566b8e4"
      },
      "outputs": [],
      "source": [
        "# Obtendremos nuevas columnas con ayuda de la función get_dummies\n",
        "NE_h_dummies = pd.get_dummies(divorcios_procesada['nivel_educacion_h'], prefix='NE_h')\n",
        "NE_m_dummies = pd.get_dummies(divorcios_procesada['nivel_educacion_m'], prefix='NE_m')"
      ]
    },
    {
      "cell_type": "code",
      "execution_count": 54,
      "id": "db416513",
      "metadata": {
        "colab": {
          "base_uri": "https://localhost:8080/",
          "height": 206
        },
        "id": "db416513",
        "outputId": "8bca76d5-b0b1-4922-9666-8a1298a088fb"
      },
      "outputs": [
        {
          "output_type": "execute_result",
          "data": {
            "text/html": [
              "<div>\n",
              "<style scoped>\n",
              "    .dataframe tbody tr th:only-of-type {\n",
              "        vertical-align: middle;\n",
              "    }\n",
              "\n",
              "    .dataframe tbody tr th {\n",
              "        vertical-align: top;\n",
              "    }\n",
              "\n",
              "    .dataframe thead th {\n",
              "        text-align: right;\n",
              "    }\n",
              "</style>\n",
              "<table border=\"1\" class=\"dataframe\">\n",
              "  <thead>\n",
              "    <tr style=\"text-align: right;\">\n",
              "      <th></th>\n",
              "      <th>NE_h_OTRO</th>\n",
              "      <th>NE_h_PREPARATORIA</th>\n",
              "      <th>NE_h_PRIMARIA</th>\n",
              "      <th>NE_h_PROFESIONAL</th>\n",
              "      <th>NE_h_SECUNDARIA</th>\n",
              "      <th>NE_h_SIN ESCOLARIDAD</th>\n",
              "    </tr>\n",
              "  </thead>\n",
              "  <tbody>\n",
              "    <tr>\n",
              "      <th>0</th>\n",
              "      <td>0</td>\n",
              "      <td>0</td>\n",
              "      <td>0</td>\n",
              "      <td>0</td>\n",
              "      <td>1</td>\n",
              "      <td>0</td>\n",
              "    </tr>\n",
              "    <tr>\n",
              "      <th>4</th>\n",
              "      <td>0</td>\n",
              "      <td>0</td>\n",
              "      <td>0</td>\n",
              "      <td>1</td>\n",
              "      <td>0</td>\n",
              "      <td>0</td>\n",
              "    </tr>\n",
              "    <tr>\n",
              "      <th>6</th>\n",
              "      <td>0</td>\n",
              "      <td>0</td>\n",
              "      <td>0</td>\n",
              "      <td>1</td>\n",
              "      <td>0</td>\n",
              "      <td>0</td>\n",
              "    </tr>\n",
              "    <tr>\n",
              "      <th>7</th>\n",
              "      <td>0</td>\n",
              "      <td>0</td>\n",
              "      <td>0</td>\n",
              "      <td>1</td>\n",
              "      <td>0</td>\n",
              "      <td>0</td>\n",
              "    </tr>\n",
              "    <tr>\n",
              "      <th>8</th>\n",
              "      <td>0</td>\n",
              "      <td>0</td>\n",
              "      <td>0</td>\n",
              "      <td>1</td>\n",
              "      <td>0</td>\n",
              "      <td>0</td>\n",
              "    </tr>\n",
              "  </tbody>\n",
              "</table>\n",
              "</div>"
            ],
            "text/plain": [
              "   NE_h_OTRO  NE_h_PREPARATORIA  ...  NE_h_SECUNDARIA  NE_h_SIN ESCOLARIDAD\n",
              "0          0                  0  ...                1                     0\n",
              "4          0                  0  ...                0                     0\n",
              "6          0                  0  ...                0                     0\n",
              "7          0                  0  ...                0                     0\n",
              "8          0                  0  ...                0                     0\n",
              "\n",
              "[5 rows x 6 columns]"
            ]
          },
          "metadata": {},
          "execution_count": 54
        }
      ],
      "source": [
        "NE_h_dummies.head()"
      ]
    },
    {
      "cell_type": "code",
      "execution_count": 55,
      "id": "658d911c",
      "metadata": {
        "id": "658d911c"
      },
      "outputs": [],
      "source": [
        "divorcios_procesada = pd.concat([divorcios_procesada, NE_h_dummies, NE_m_dummies], axis=1)"
      ]
    },
    {
      "cell_type": "code",
      "execution_count": 56,
      "id": "79c4b46c",
      "metadata": {
        "colab": {
          "base_uri": "https://localhost:8080/",
          "height": 278
        },
        "id": "79c4b46c",
        "outputId": "754b404b-1d7f-4fa6-aa10-06381f9e2329"
      },
      "outputs": [
        {
          "output_type": "execute_result",
          "data": {
            "text/html": [
              "<div>\n",
              "<style scoped>\n",
              "    .dataframe tbody tr th:only-of-type {\n",
              "        vertical-align: middle;\n",
              "    }\n",
              "\n",
              "    .dataframe tbody tr th {\n",
              "        vertical-align: top;\n",
              "    }\n",
              "\n",
              "    .dataframe thead th {\n",
              "        text-align: right;\n",
              "    }\n",
              "</style>\n",
              "<table border=\"1\" class=\"dataframe\">\n",
              "  <thead>\n",
              "    <tr style=\"text-align: right;\">\n",
              "      <th></th>\n",
              "      <th>fecha_divorcio</th>\n",
              "      <th>tipo_divorcio</th>\n",
              "      <th>edad_h</th>\n",
              "      <th>ocupacion_h</th>\n",
              "      <th>edad_m</th>\n",
              "      <th>ocupacion_m</th>\n",
              "      <th>fecha_matrimonio</th>\n",
              "      <th>nivel_educacion_h</th>\n",
              "      <th>estatus_empleo_h</th>\n",
              "      <th>nivel_educacion_m</th>\n",
              "      <th>estatus_empleo_m</th>\n",
              "      <th>duracion_matrimonio</th>\n",
              "      <th>numero_hijos</th>\n",
              "      <th>viven_juntos</th>\n",
              "      <th>diferencia_edades</th>\n",
              "      <th>voluntario</th>\n",
              "      <th>NE_h_OTRO</th>\n",
              "      <th>NE_h_PREPARATORIA</th>\n",
              "      <th>NE_h_PRIMARIA</th>\n",
              "      <th>NE_h_PROFESIONAL</th>\n",
              "      <th>NE_h_SECUNDARIA</th>\n",
              "      <th>NE_h_SIN ESCOLARIDAD</th>\n",
              "      <th>NE_m_OTRO</th>\n",
              "      <th>NE_m_PREPARATORIA</th>\n",
              "      <th>NE_m_PRIMARIA</th>\n",
              "      <th>NE_m_PROFESIONAL</th>\n",
              "      <th>NE_m_SECUNDARIA</th>\n",
              "      <th>NE_m_SIN ESCOLARIDAD</th>\n",
              "    </tr>\n",
              "  </thead>\n",
              "  <tbody>\n",
              "    <tr>\n",
              "      <th>0</th>\n",
              "      <td>2006-06-09</td>\n",
              "      <td>Necesario</td>\n",
              "      <td>30.0</td>\n",
              "      <td>PINTOR</td>\n",
              "      <td>22.0</td>\n",
              "      <td>EMPLEADA</td>\n",
              "      <td>2000-06-26</td>\n",
              "      <td>SECUNDARIA</td>\n",
              "      <td>OBRERO</td>\n",
              "      <td>SECUNDARIA</td>\n",
              "      <td>EMPLEADO</td>\n",
              "      <td>5.0</td>\n",
              "      <td>1.0</td>\n",
              "      <td>0</td>\n",
              "      <td>8.0</td>\n",
              "      <td>0</td>\n",
              "      <td>0</td>\n",
              "      <td>0</td>\n",
              "      <td>0</td>\n",
              "      <td>0</td>\n",
              "      <td>1</td>\n",
              "      <td>0</td>\n",
              "      <td>0</td>\n",
              "      <td>0</td>\n",
              "      <td>0</td>\n",
              "      <td>0</td>\n",
              "      <td>1</td>\n",
              "      <td>0</td>\n",
              "    </tr>\n",
              "    <tr>\n",
              "      <th>4</th>\n",
              "      <td>2006-02-01</td>\n",
              "      <td>Necesario</td>\n",
              "      <td>30.0</td>\n",
              "      <td>MEDICO</td>\n",
              "      <td>27.0</td>\n",
              "      <td>AMA DE CASA</td>\n",
              "      <td>1998-11-14</td>\n",
              "      <td>PROFESIONAL</td>\n",
              "      <td>EMPLEADO</td>\n",
              "      <td>PREPARATORIA</td>\n",
              "      <td>NO TRABAJA</td>\n",
              "      <td>7.0</td>\n",
              "      <td>2.0</td>\n",
              "      <td>0</td>\n",
              "      <td>3.0</td>\n",
              "      <td>0</td>\n",
              "      <td>0</td>\n",
              "      <td>0</td>\n",
              "      <td>0</td>\n",
              "      <td>1</td>\n",
              "      <td>0</td>\n",
              "      <td>0</td>\n",
              "      <td>0</td>\n",
              "      <td>1</td>\n",
              "      <td>0</td>\n",
              "      <td>0</td>\n",
              "      <td>0</td>\n",
              "      <td>0</td>\n",
              "    </tr>\n",
              "    <tr>\n",
              "      <th>6</th>\n",
              "      <td>2007-02-01</td>\n",
              "      <td>Necesario</td>\n",
              "      <td>36.0</td>\n",
              "      <td>EMPLEADO</td>\n",
              "      <td>35.0</td>\n",
              "      <td>LABORES DOMESTICAS</td>\n",
              "      <td>1991-08-16</td>\n",
              "      <td>PROFESIONAL</td>\n",
              "      <td>EMPLEADO</td>\n",
              "      <td>PROFESIONAL</td>\n",
              "      <td>NO TRABAJA</td>\n",
              "      <td>15.0</td>\n",
              "      <td>2.0</td>\n",
              "      <td>0</td>\n",
              "      <td>1.0</td>\n",
              "      <td>0</td>\n",
              "      <td>0</td>\n",
              "      <td>0</td>\n",
              "      <td>0</td>\n",
              "      <td>1</td>\n",
              "      <td>0</td>\n",
              "      <td>0</td>\n",
              "      <td>0</td>\n",
              "      <td>0</td>\n",
              "      <td>0</td>\n",
              "      <td>1</td>\n",
              "      <td>0</td>\n",
              "      <td>0</td>\n",
              "    </tr>\n",
              "    <tr>\n",
              "      <th>7</th>\n",
              "      <td>2007-02-01</td>\n",
              "      <td>Necesario</td>\n",
              "      <td>31.0</td>\n",
              "      <td>LICENCIADO</td>\n",
              "      <td>32.0</td>\n",
              "      <td>LICENCIADA</td>\n",
              "      <td>1999-09-17</td>\n",
              "      <td>PROFESIONAL</td>\n",
              "      <td>EMPLEADO</td>\n",
              "      <td>PROFESIONAL</td>\n",
              "      <td>EMPLEADO</td>\n",
              "      <td>7.0</td>\n",
              "      <td>1.0</td>\n",
              "      <td>0</td>\n",
              "      <td>1.0</td>\n",
              "      <td>0</td>\n",
              "      <td>0</td>\n",
              "      <td>0</td>\n",
              "      <td>0</td>\n",
              "      <td>1</td>\n",
              "      <td>0</td>\n",
              "      <td>0</td>\n",
              "      <td>0</td>\n",
              "      <td>0</td>\n",
              "      <td>0</td>\n",
              "      <td>1</td>\n",
              "      <td>0</td>\n",
              "      <td>0</td>\n",
              "    </tr>\n",
              "    <tr>\n",
              "      <th>8</th>\n",
              "      <td>2008-02-01</td>\n",
              "      <td>Voluntario</td>\n",
              "      <td>31.0</td>\n",
              "      <td>COMERCIANTE</td>\n",
              "      <td>28.0</td>\n",
              "      <td>EMPLEADA</td>\n",
              "      <td>2006-06-03</td>\n",
              "      <td>PROFESIONAL</td>\n",
              "      <td>EMPLEADO</td>\n",
              "      <td>PROFESIONAL</td>\n",
              "      <td>NO TRABAJA</td>\n",
              "      <td>1.0</td>\n",
              "      <td>0.0</td>\n",
              "      <td>0</td>\n",
              "      <td>3.0</td>\n",
              "      <td>1</td>\n",
              "      <td>0</td>\n",
              "      <td>0</td>\n",
              "      <td>0</td>\n",
              "      <td>1</td>\n",
              "      <td>0</td>\n",
              "      <td>0</td>\n",
              "      <td>0</td>\n",
              "      <td>0</td>\n",
              "      <td>0</td>\n",
              "      <td>1</td>\n",
              "      <td>0</td>\n",
              "      <td>0</td>\n",
              "    </tr>\n",
              "  </tbody>\n",
              "</table>\n",
              "</div>"
            ],
            "text/plain": [
              "  fecha_divorcio tipo_divorcio  ...  NE_m_SECUNDARIA NE_m_SIN ESCOLARIDAD\n",
              "0     2006-06-09     Necesario  ...                1                    0\n",
              "4     2006-02-01     Necesario  ...                0                    0\n",
              "6     2007-02-01     Necesario  ...                0                    0\n",
              "7     2007-02-01     Necesario  ...                0                    0\n",
              "8     2008-02-01    Voluntario  ...                0                    0\n",
              "\n",
              "[5 rows x 28 columns]"
            ]
          },
          "metadata": {},
          "execution_count": 56
        }
      ],
      "source": [
        "divorcios_procesada.head()"
      ]
    },
    {
      "cell_type": "markdown",
      "id": "e473dcfa",
      "metadata": {
        "id": "e473dcfa"
      },
      "source": [
        "#### Ocupación"
      ]
    },
    {
      "cell_type": "code",
      "execution_count": 57,
      "id": "1311b429",
      "metadata": {
        "colab": {
          "base_uri": "https://localhost:8080/"
        },
        "id": "1311b429",
        "outputId": "fabeb6e7-77a1-4a46-b1aa-67725951f2f8"
      },
      "outputs": [
        {
          "output_type": "stream",
          "name": "stdout",
          "text": [
            "Valores únicos para ocupaciones en hombres: 207\n",
            "Valores únicos para ocupaciones en mujeres: 143\n"
          ]
        }
      ],
      "source": [
        "print(\"Valores únicos para ocupaciones en hombres:\", len(divorcios['ocupacion_h'].unique()))\n",
        "print(\"Valores únicos para ocupaciones en mujeres:\", len(divorcios['ocupacion_m'].unique()))"
      ]
    },
    {
      "cell_type": "markdown",
      "source": [
        "No quisieramos aumentar tanto la dimensionalidad de nuestros datos, así que tomaremos otra medida para no incluir mas de 207 columnas.  \n",
        "Así que mejor tomaremos la columna estado_empleo, que es menos específica y brinda información similar."
      ],
      "metadata": {
        "id": "tdqvZnnKt7dp"
      },
      "id": "tdqvZnnKt7dp"
    },
    {
      "cell_type": "code",
      "source": [
        "print(\"Valores únicos para el estatus empleo en hombres:\", len(divorcios['estatus_empleo_h'].unique()))\n",
        "print(\"Valores únicos para el estatus empleo en mujeres:\", len(divorcios['estatus_empleo_m'].unique()))"
      ],
      "metadata": {
        "colab": {
          "base_uri": "https://localhost:8080/"
        },
        "id": "yI5RN_Vz1wvt",
        "outputId": "85beeb94-3f1e-413b-ec1d-609dde969670"
      },
      "id": "yI5RN_Vz1wvt",
      "execution_count": 58,
      "outputs": [
        {
          "output_type": "stream",
          "name": "stdout",
          "text": [
            "Valores únicos para el estatus empleo en hombres: 10\n",
            "Valores únicos para el estatus empleo en mujeres: 10\n"
          ]
        }
      ]
    },
    {
      "cell_type": "code",
      "execution_count": 59,
      "id": "e642d36a",
      "metadata": {
        "colab": {
          "base_uri": "https://localhost:8080/",
          "height": 241
        },
        "id": "e642d36a",
        "outputId": "403712d5-e271-4ec4-c058-3a1cddfd0c6b"
      },
      "outputs": [
        {
          "output_type": "execute_result",
          "data": {
            "text/html": [
              "<div>\n",
              "<style scoped>\n",
              "    .dataframe tbody tr th:only-of-type {\n",
              "        vertical-align: middle;\n",
              "    }\n",
              "\n",
              "    .dataframe tbody tr th {\n",
              "        vertical-align: top;\n",
              "    }\n",
              "\n",
              "    .dataframe thead th {\n",
              "        text-align: right;\n",
              "    }\n",
              "</style>\n",
              "<table border=\"1\" class=\"dataframe\">\n",
              "  <thead>\n",
              "    <tr style=\"text-align: right;\">\n",
              "      <th></th>\n",
              "      <th>empleo_h_EMPLEADO</th>\n",
              "      <th>empleo_h_ESTABLECIMIENTO</th>\n",
              "      <th>empleo_h_JORNALERO O PEON</th>\n",
              "      <th>empleo_h_MIEMBRO DE COOPERATIVA</th>\n",
              "      <th>empleo_h_NO TRABAJA</th>\n",
              "      <th>empleo_h_OBRERO</th>\n",
              "      <th>empleo_h_PATRON O EMPRESARIO</th>\n",
              "      <th>empleo_h_TRABAJA EN SU VIVIENDA</th>\n",
              "      <th>empleo_h_TRABAJADOR NO REMUNERADO</th>\n",
              "      <th>empleo_h_TRABAJADOR POR SU PROPIA CUENTA O EN VIA PUBLICA</th>\n",
              "    </tr>\n",
              "  </thead>\n",
              "  <tbody>\n",
              "    <tr>\n",
              "      <th>0</th>\n",
              "      <td>0</td>\n",
              "      <td>0</td>\n",
              "      <td>0</td>\n",
              "      <td>0</td>\n",
              "      <td>0</td>\n",
              "      <td>1</td>\n",
              "      <td>0</td>\n",
              "      <td>0</td>\n",
              "      <td>0</td>\n",
              "      <td>0</td>\n",
              "    </tr>\n",
              "    <tr>\n",
              "      <th>4</th>\n",
              "      <td>1</td>\n",
              "      <td>0</td>\n",
              "      <td>0</td>\n",
              "      <td>0</td>\n",
              "      <td>0</td>\n",
              "      <td>0</td>\n",
              "      <td>0</td>\n",
              "      <td>0</td>\n",
              "      <td>0</td>\n",
              "      <td>0</td>\n",
              "    </tr>\n",
              "    <tr>\n",
              "      <th>6</th>\n",
              "      <td>1</td>\n",
              "      <td>0</td>\n",
              "      <td>0</td>\n",
              "      <td>0</td>\n",
              "      <td>0</td>\n",
              "      <td>0</td>\n",
              "      <td>0</td>\n",
              "      <td>0</td>\n",
              "      <td>0</td>\n",
              "      <td>0</td>\n",
              "    </tr>\n",
              "    <tr>\n",
              "      <th>7</th>\n",
              "      <td>1</td>\n",
              "      <td>0</td>\n",
              "      <td>0</td>\n",
              "      <td>0</td>\n",
              "      <td>0</td>\n",
              "      <td>0</td>\n",
              "      <td>0</td>\n",
              "      <td>0</td>\n",
              "      <td>0</td>\n",
              "      <td>0</td>\n",
              "    </tr>\n",
              "    <tr>\n",
              "      <th>8</th>\n",
              "      <td>1</td>\n",
              "      <td>0</td>\n",
              "      <td>0</td>\n",
              "      <td>0</td>\n",
              "      <td>0</td>\n",
              "      <td>0</td>\n",
              "      <td>0</td>\n",
              "      <td>0</td>\n",
              "      <td>0</td>\n",
              "      <td>0</td>\n",
              "    </tr>\n",
              "  </tbody>\n",
              "</table>\n",
              "</div>"
            ],
            "text/plain": [
              "   empleo_h_EMPLEADO  ...  empleo_h_TRABAJADOR POR SU PROPIA CUENTA O EN VIA PUBLICA\n",
              "0                  0  ...                                                  0        \n",
              "4                  1  ...                                                  0        \n",
              "6                  1  ...                                                  0        \n",
              "7                  1  ...                                                  0        \n",
              "8                  1  ...                                                  0        \n",
              "\n",
              "[5 rows x 10 columns]"
            ]
          },
          "metadata": {},
          "execution_count": 59
        }
      ],
      "source": [
        "empleo_h_dummies = pd.get_dummies(divorcios_procesada['estatus_empleo_h'], prefix='empleo_h')\n",
        "empleo_m_dummies = pd.get_dummies(divorcios_procesada['estatus_empleo_m'], prefix='empleo_m')\n",
        "empleo_h_dummies.head()"
      ]
    },
    {
      "cell_type": "code",
      "execution_count": 60,
      "id": "4c48787b",
      "metadata": {
        "colab": {
          "base_uri": "https://localhost:8080/",
          "height": 313
        },
        "id": "4c48787b",
        "outputId": "7b0ab1d2-ad45-401b-e2d3-c8853a701c18"
      },
      "outputs": [
        {
          "output_type": "execute_result",
          "data": {
            "text/html": [
              "<div>\n",
              "<style scoped>\n",
              "    .dataframe tbody tr th:only-of-type {\n",
              "        vertical-align: middle;\n",
              "    }\n",
              "\n",
              "    .dataframe tbody tr th {\n",
              "        vertical-align: top;\n",
              "    }\n",
              "\n",
              "    .dataframe thead th {\n",
              "        text-align: right;\n",
              "    }\n",
              "</style>\n",
              "<table border=\"1\" class=\"dataframe\">\n",
              "  <thead>\n",
              "    <tr style=\"text-align: right;\">\n",
              "      <th></th>\n",
              "      <th>fecha_divorcio</th>\n",
              "      <th>tipo_divorcio</th>\n",
              "      <th>edad_h</th>\n",
              "      <th>ocupacion_h</th>\n",
              "      <th>edad_m</th>\n",
              "      <th>ocupacion_m</th>\n",
              "      <th>fecha_matrimonio</th>\n",
              "      <th>nivel_educacion_h</th>\n",
              "      <th>estatus_empleo_h</th>\n",
              "      <th>nivel_educacion_m</th>\n",
              "      <th>estatus_empleo_m</th>\n",
              "      <th>duracion_matrimonio</th>\n",
              "      <th>numero_hijos</th>\n",
              "      <th>viven_juntos</th>\n",
              "      <th>diferencia_edades</th>\n",
              "      <th>voluntario</th>\n",
              "      <th>NE_h_OTRO</th>\n",
              "      <th>NE_h_PREPARATORIA</th>\n",
              "      <th>NE_h_PRIMARIA</th>\n",
              "      <th>NE_h_PROFESIONAL</th>\n",
              "      <th>NE_h_SECUNDARIA</th>\n",
              "      <th>NE_h_SIN ESCOLARIDAD</th>\n",
              "      <th>NE_m_OTRO</th>\n",
              "      <th>NE_m_PREPARATORIA</th>\n",
              "      <th>NE_m_PRIMARIA</th>\n",
              "      <th>NE_m_PROFESIONAL</th>\n",
              "      <th>NE_m_SECUNDARIA</th>\n",
              "      <th>NE_m_SIN ESCOLARIDAD</th>\n",
              "      <th>empleo_h_EMPLEADO</th>\n",
              "      <th>empleo_h_ESTABLECIMIENTO</th>\n",
              "      <th>empleo_h_JORNALERO O PEON</th>\n",
              "      <th>empleo_h_MIEMBRO DE COOPERATIVA</th>\n",
              "      <th>empleo_h_NO TRABAJA</th>\n",
              "      <th>empleo_h_OBRERO</th>\n",
              "      <th>empleo_h_PATRON O EMPRESARIO</th>\n",
              "      <th>empleo_h_TRABAJA EN SU VIVIENDA</th>\n",
              "      <th>empleo_h_TRABAJADOR NO REMUNERADO</th>\n",
              "      <th>empleo_h_TRABAJADOR POR SU PROPIA CUENTA O EN VIA PUBLICA</th>\n",
              "      <th>empleo_m_EMPLEADO</th>\n",
              "      <th>empleo_m_ESTABLECIMIENTO</th>\n",
              "      <th>empleo_m_JORNALERO O PEON</th>\n",
              "      <th>empleo_m_MIEMBRO DE COOPERATIVA</th>\n",
              "      <th>empleo_m_NO TRABAJA</th>\n",
              "      <th>empleo_m_OBRERO</th>\n",
              "      <th>empleo_m_PATRON O EMPRESARIO</th>\n",
              "      <th>empleo_m_TRABAJA EN SU VIVIENDA</th>\n",
              "      <th>empleo_m_TRABAJADOR NO REMUNERADO</th>\n",
              "      <th>empleo_m_TRABAJADOR POR CUENTA PROPIA EN VIA PUBLICA</th>\n",
              "    </tr>\n",
              "  </thead>\n",
              "  <tbody>\n",
              "    <tr>\n",
              "      <th>0</th>\n",
              "      <td>2006-06-09</td>\n",
              "      <td>Necesario</td>\n",
              "      <td>30.0</td>\n",
              "      <td>PINTOR</td>\n",
              "      <td>22.0</td>\n",
              "      <td>EMPLEADA</td>\n",
              "      <td>2000-06-26</td>\n",
              "      <td>SECUNDARIA</td>\n",
              "      <td>OBRERO</td>\n",
              "      <td>SECUNDARIA</td>\n",
              "      <td>EMPLEADO</td>\n",
              "      <td>5.0</td>\n",
              "      <td>1.0</td>\n",
              "      <td>0</td>\n",
              "      <td>8.0</td>\n",
              "      <td>0</td>\n",
              "      <td>0</td>\n",
              "      <td>0</td>\n",
              "      <td>0</td>\n",
              "      <td>0</td>\n",
              "      <td>1</td>\n",
              "      <td>0</td>\n",
              "      <td>0</td>\n",
              "      <td>0</td>\n",
              "      <td>0</td>\n",
              "      <td>0</td>\n",
              "      <td>1</td>\n",
              "      <td>0</td>\n",
              "      <td>0</td>\n",
              "      <td>0</td>\n",
              "      <td>0</td>\n",
              "      <td>0</td>\n",
              "      <td>0</td>\n",
              "      <td>1</td>\n",
              "      <td>0</td>\n",
              "      <td>0</td>\n",
              "      <td>0</td>\n",
              "      <td>0</td>\n",
              "      <td>1</td>\n",
              "      <td>0</td>\n",
              "      <td>0</td>\n",
              "      <td>0</td>\n",
              "      <td>0</td>\n",
              "      <td>0</td>\n",
              "      <td>0</td>\n",
              "      <td>0</td>\n",
              "      <td>0</td>\n",
              "      <td>0</td>\n",
              "    </tr>\n",
              "    <tr>\n",
              "      <th>4</th>\n",
              "      <td>2006-02-01</td>\n",
              "      <td>Necesario</td>\n",
              "      <td>30.0</td>\n",
              "      <td>MEDICO</td>\n",
              "      <td>27.0</td>\n",
              "      <td>AMA DE CASA</td>\n",
              "      <td>1998-11-14</td>\n",
              "      <td>PROFESIONAL</td>\n",
              "      <td>EMPLEADO</td>\n",
              "      <td>PREPARATORIA</td>\n",
              "      <td>NO TRABAJA</td>\n",
              "      <td>7.0</td>\n",
              "      <td>2.0</td>\n",
              "      <td>0</td>\n",
              "      <td>3.0</td>\n",
              "      <td>0</td>\n",
              "      <td>0</td>\n",
              "      <td>0</td>\n",
              "      <td>0</td>\n",
              "      <td>1</td>\n",
              "      <td>0</td>\n",
              "      <td>0</td>\n",
              "      <td>0</td>\n",
              "      <td>1</td>\n",
              "      <td>0</td>\n",
              "      <td>0</td>\n",
              "      <td>0</td>\n",
              "      <td>0</td>\n",
              "      <td>1</td>\n",
              "      <td>0</td>\n",
              "      <td>0</td>\n",
              "      <td>0</td>\n",
              "      <td>0</td>\n",
              "      <td>0</td>\n",
              "      <td>0</td>\n",
              "      <td>0</td>\n",
              "      <td>0</td>\n",
              "      <td>0</td>\n",
              "      <td>0</td>\n",
              "      <td>0</td>\n",
              "      <td>0</td>\n",
              "      <td>0</td>\n",
              "      <td>1</td>\n",
              "      <td>0</td>\n",
              "      <td>0</td>\n",
              "      <td>0</td>\n",
              "      <td>0</td>\n",
              "      <td>0</td>\n",
              "    </tr>\n",
              "    <tr>\n",
              "      <th>6</th>\n",
              "      <td>2007-02-01</td>\n",
              "      <td>Necesario</td>\n",
              "      <td>36.0</td>\n",
              "      <td>EMPLEADO</td>\n",
              "      <td>35.0</td>\n",
              "      <td>LABORES DOMESTICAS</td>\n",
              "      <td>1991-08-16</td>\n",
              "      <td>PROFESIONAL</td>\n",
              "      <td>EMPLEADO</td>\n",
              "      <td>PROFESIONAL</td>\n",
              "      <td>NO TRABAJA</td>\n",
              "      <td>15.0</td>\n",
              "      <td>2.0</td>\n",
              "      <td>0</td>\n",
              "      <td>1.0</td>\n",
              "      <td>0</td>\n",
              "      <td>0</td>\n",
              "      <td>0</td>\n",
              "      <td>0</td>\n",
              "      <td>1</td>\n",
              "      <td>0</td>\n",
              "      <td>0</td>\n",
              "      <td>0</td>\n",
              "      <td>0</td>\n",
              "      <td>0</td>\n",
              "      <td>1</td>\n",
              "      <td>0</td>\n",
              "      <td>0</td>\n",
              "      <td>1</td>\n",
              "      <td>0</td>\n",
              "      <td>0</td>\n",
              "      <td>0</td>\n",
              "      <td>0</td>\n",
              "      <td>0</td>\n",
              "      <td>0</td>\n",
              "      <td>0</td>\n",
              "      <td>0</td>\n",
              "      <td>0</td>\n",
              "      <td>0</td>\n",
              "      <td>0</td>\n",
              "      <td>0</td>\n",
              "      <td>0</td>\n",
              "      <td>1</td>\n",
              "      <td>0</td>\n",
              "      <td>0</td>\n",
              "      <td>0</td>\n",
              "      <td>0</td>\n",
              "      <td>0</td>\n",
              "    </tr>\n",
              "    <tr>\n",
              "      <th>7</th>\n",
              "      <td>2007-02-01</td>\n",
              "      <td>Necesario</td>\n",
              "      <td>31.0</td>\n",
              "      <td>LICENCIADO</td>\n",
              "      <td>32.0</td>\n",
              "      <td>LICENCIADA</td>\n",
              "      <td>1999-09-17</td>\n",
              "      <td>PROFESIONAL</td>\n",
              "      <td>EMPLEADO</td>\n",
              "      <td>PROFESIONAL</td>\n",
              "      <td>EMPLEADO</td>\n",
              "      <td>7.0</td>\n",
              "      <td>1.0</td>\n",
              "      <td>0</td>\n",
              "      <td>1.0</td>\n",
              "      <td>0</td>\n",
              "      <td>0</td>\n",
              "      <td>0</td>\n",
              "      <td>0</td>\n",
              "      <td>1</td>\n",
              "      <td>0</td>\n",
              "      <td>0</td>\n",
              "      <td>0</td>\n",
              "      <td>0</td>\n",
              "      <td>0</td>\n",
              "      <td>1</td>\n",
              "      <td>0</td>\n",
              "      <td>0</td>\n",
              "      <td>1</td>\n",
              "      <td>0</td>\n",
              "      <td>0</td>\n",
              "      <td>0</td>\n",
              "      <td>0</td>\n",
              "      <td>0</td>\n",
              "      <td>0</td>\n",
              "      <td>0</td>\n",
              "      <td>0</td>\n",
              "      <td>0</td>\n",
              "      <td>1</td>\n",
              "      <td>0</td>\n",
              "      <td>0</td>\n",
              "      <td>0</td>\n",
              "      <td>0</td>\n",
              "      <td>0</td>\n",
              "      <td>0</td>\n",
              "      <td>0</td>\n",
              "      <td>0</td>\n",
              "      <td>0</td>\n",
              "    </tr>\n",
              "    <tr>\n",
              "      <th>8</th>\n",
              "      <td>2008-02-01</td>\n",
              "      <td>Voluntario</td>\n",
              "      <td>31.0</td>\n",
              "      <td>COMERCIANTE</td>\n",
              "      <td>28.0</td>\n",
              "      <td>EMPLEADA</td>\n",
              "      <td>2006-06-03</td>\n",
              "      <td>PROFESIONAL</td>\n",
              "      <td>EMPLEADO</td>\n",
              "      <td>PROFESIONAL</td>\n",
              "      <td>NO TRABAJA</td>\n",
              "      <td>1.0</td>\n",
              "      <td>0.0</td>\n",
              "      <td>0</td>\n",
              "      <td>3.0</td>\n",
              "      <td>1</td>\n",
              "      <td>0</td>\n",
              "      <td>0</td>\n",
              "      <td>0</td>\n",
              "      <td>1</td>\n",
              "      <td>0</td>\n",
              "      <td>0</td>\n",
              "      <td>0</td>\n",
              "      <td>0</td>\n",
              "      <td>0</td>\n",
              "      <td>1</td>\n",
              "      <td>0</td>\n",
              "      <td>0</td>\n",
              "      <td>1</td>\n",
              "      <td>0</td>\n",
              "      <td>0</td>\n",
              "      <td>0</td>\n",
              "      <td>0</td>\n",
              "      <td>0</td>\n",
              "      <td>0</td>\n",
              "      <td>0</td>\n",
              "      <td>0</td>\n",
              "      <td>0</td>\n",
              "      <td>0</td>\n",
              "      <td>0</td>\n",
              "      <td>0</td>\n",
              "      <td>0</td>\n",
              "      <td>1</td>\n",
              "      <td>0</td>\n",
              "      <td>0</td>\n",
              "      <td>0</td>\n",
              "      <td>0</td>\n",
              "      <td>0</td>\n",
              "    </tr>\n",
              "  </tbody>\n",
              "</table>\n",
              "</div>"
            ],
            "text/plain": [
              "  fecha_divorcio  ... empleo_m_TRABAJADOR POR CUENTA PROPIA EN VIA PUBLICA \n",
              "0     2006-06-09  ...                                                  0   \n",
              "4     2006-02-01  ...                                                  0   \n",
              "6     2007-02-01  ...                                                  0   \n",
              "7     2007-02-01  ...                                                  0   \n",
              "8     2008-02-01  ...                                                  0   \n",
              "\n",
              "[5 rows x 48 columns]"
            ]
          },
          "metadata": {},
          "execution_count": 60
        }
      ],
      "source": [
        "divorcios_procesada = pd.concat([divorcios_procesada, empleo_h_dummies, empleo_m_dummies], axis=1)\n",
        "divorcios_procesada.head()"
      ]
    },
    {
      "cell_type": "markdown",
      "id": "b9984e60",
      "metadata": {
        "id": "b9984e60"
      },
      "source": [
        "## Convirtiendo las variables de fecha a numéricas"
      ]
    },
    {
      "cell_type": "code",
      "execution_count": 61,
      "id": "267ac6e9",
      "metadata": {
        "id": "267ac6e9"
      },
      "outputs": [],
      "source": [
        "# Estas columnas se eliminarán después, ya que en un caso real, no podrás saber cual es la fecha de divorcio de una pareja\n",
        "# divorcios_procesada['anio_divorcio'] = divorcios_procesada['Divorce_date'].dt.year\n",
        "# divorcios_procesada['mes_divorcio'] = divorcios_procesada['Divorce_date'].dt.month\n",
        "\n",
        "divorcios_procesada['anio_matrimonio'] = divorcios_procesada['fecha_matrimonio'].dt.year\n",
        "divorcios_procesada['mes_matrimonio'] = divorcios_procesada['fecha_matrimonio'].dt.month"
      ]
    },
    {
      "cell_type": "markdown",
      "id": "5dc9c5e3",
      "metadata": {
        "id": "5dc9c5e3"
      },
      "source": [
        "## Eliminando las columnas que ahora resultan redundantes o que evitan tener escenarios realistas\n",
        "Como por ejemplo, las columnas referentes a la fecha del divorcio y al tipo de divorcio."
      ]
    },
    {
      "cell_type": "code",
      "execution_count": 62,
      "id": "b3c80a74",
      "metadata": {
        "colab": {
          "base_uri": "https://localhost:8080/"
        },
        "id": "b3c80a74",
        "outputId": "009869c0-6a95-4f66-a1fd-289ff980b033"
      },
      "outputs": [
        {
          "output_type": "stream",
          "name": "stdout",
          "text": [
            "Index(['edad_h', 'edad_m', 'duracion_matrimonio', 'numero_hijos',\n",
            "       'viven_juntos', 'diferencia_edades', 'NE_h_OTRO', 'NE_h_PREPARATORIA',\n",
            "       'NE_h_PRIMARIA', 'NE_h_PROFESIONAL', 'NE_h_SECUNDARIA',\n",
            "       'NE_h_SIN ESCOLARIDAD', 'NE_m_OTRO', 'NE_m_PREPARATORIA',\n",
            "       'NE_m_PRIMARIA', 'NE_m_PROFESIONAL', 'NE_m_SECUNDARIA',\n",
            "       'NE_m_SIN ESCOLARIDAD', 'empleo_h_EMPLEADO', 'empleo_h_ESTABLECIMIENTO',\n",
            "       'empleo_h_JORNALERO O PEON', 'empleo_h_MIEMBRO DE COOPERATIVA',\n",
            "       'empleo_h_NO TRABAJA', 'empleo_h_OBRERO',\n",
            "       'empleo_h_PATRON O EMPRESARIO', 'empleo_h_TRABAJA EN SU VIVIENDA',\n",
            "       'empleo_h_TRABAJADOR NO REMUNERADO',\n",
            "       'empleo_h_TRABAJADOR POR SU PROPIA CUENTA O EN VIA PUBLICA',\n",
            "       'empleo_m_EMPLEADO', 'empleo_m_ESTABLECIMIENTO',\n",
            "       'empleo_m_JORNALERO O PEON', 'empleo_m_MIEMBRO DE COOPERATIVA',\n",
            "       'empleo_m_NO TRABAJA', 'empleo_m_OBRERO',\n",
            "       'empleo_m_PATRON O EMPRESARIO', 'empleo_m_TRABAJA EN SU VIVIENDA',\n",
            "       'empleo_m_TRABAJADOR NO REMUNERADO',\n",
            "       'empleo_m_TRABAJADOR POR CUENTA PROPIA EN VIA PUBLICA ',\n",
            "       'anio_matrimonio', 'mes_matrimonio'],\n",
            "      dtype='object')\n"
          ]
        }
      ],
      "source": [
        "divorcios_procesada = divorcios_procesada.drop(columns=['fecha_divorcio', 'nivel_educacion_h', 'nivel_educacion_m',\n",
        "                                                        'estatus_empleo_h', 'estatus_empleo_m', 'ocupacion_h', 'ocupacion_m',\n",
        "                                                        'fecha_matrimonio', 'tipo_divorcio', 'voluntario'])\n",
        "print(divorcios_procesada.columns)"
      ]
    },
    {
      "cell_type": "markdown",
      "id": "b81f6590",
      "metadata": {
        "id": "b81f6590"
      },
      "source": [
        "## Así queda nuestro dataframe después de procesar las variables categóricas y de fechas"
      ]
    },
    {
      "cell_type": "code",
      "execution_count": 63,
      "id": "9b3853f7",
      "metadata": {
        "colab": {
          "base_uri": "https://localhost:8080/",
          "height": 261
        },
        "id": "9b3853f7",
        "outputId": "07cb5fc5-aa1c-4565-e176-8f1875798990"
      },
      "outputs": [
        {
          "output_type": "execute_result",
          "data": {
            "text/html": [
              "<div>\n",
              "<style scoped>\n",
              "    .dataframe tbody tr th:only-of-type {\n",
              "        vertical-align: middle;\n",
              "    }\n",
              "\n",
              "    .dataframe tbody tr th {\n",
              "        vertical-align: top;\n",
              "    }\n",
              "\n",
              "    .dataframe thead th {\n",
              "        text-align: right;\n",
              "    }\n",
              "</style>\n",
              "<table border=\"1\" class=\"dataframe\">\n",
              "  <thead>\n",
              "    <tr style=\"text-align: right;\">\n",
              "      <th></th>\n",
              "      <th>fecha_divorcio</th>\n",
              "      <th>tipo_divorcio</th>\n",
              "      <th>edad_h</th>\n",
              "      <th>ocupacion_h</th>\n",
              "      <th>edad_m</th>\n",
              "      <th>ocupacion_m</th>\n",
              "      <th>fecha_matrimonio</th>\n",
              "      <th>nivel_educacion_h</th>\n",
              "      <th>estatus_empleo_h</th>\n",
              "      <th>nivel_educacion_m</th>\n",
              "      <th>estatus_empleo_m</th>\n",
              "      <th>duracion_matrimonio</th>\n",
              "      <th>numero_hijos</th>\n",
              "      <th>viven_juntos</th>\n",
              "      <th>diferencia_edades</th>\n",
              "    </tr>\n",
              "  </thead>\n",
              "  <tbody>\n",
              "    <tr>\n",
              "      <th>0</th>\n",
              "      <td>2006-06-09</td>\n",
              "      <td>Necesario</td>\n",
              "      <td>30.0</td>\n",
              "      <td>PINTOR</td>\n",
              "      <td>22.0</td>\n",
              "      <td>EMPLEADA</td>\n",
              "      <td>2000-06-26</td>\n",
              "      <td>SECUNDARIA</td>\n",
              "      <td>OBRERO</td>\n",
              "      <td>SECUNDARIA</td>\n",
              "      <td>EMPLEADO</td>\n",
              "      <td>5.0</td>\n",
              "      <td>1.0</td>\n",
              "      <td>0</td>\n",
              "      <td>8.0</td>\n",
              "    </tr>\n",
              "    <tr>\n",
              "      <th>4</th>\n",
              "      <td>2006-02-01</td>\n",
              "      <td>Necesario</td>\n",
              "      <td>30.0</td>\n",
              "      <td>MEDICO</td>\n",
              "      <td>27.0</td>\n",
              "      <td>AMA DE CASA</td>\n",
              "      <td>1998-11-14</td>\n",
              "      <td>PROFESIONAL</td>\n",
              "      <td>EMPLEADO</td>\n",
              "      <td>PREPARATORIA</td>\n",
              "      <td>NO TRABAJA</td>\n",
              "      <td>7.0</td>\n",
              "      <td>2.0</td>\n",
              "      <td>0</td>\n",
              "      <td>3.0</td>\n",
              "    </tr>\n",
              "    <tr>\n",
              "      <th>6</th>\n",
              "      <td>2007-02-01</td>\n",
              "      <td>Necesario</td>\n",
              "      <td>36.0</td>\n",
              "      <td>EMPLEADO</td>\n",
              "      <td>35.0</td>\n",
              "      <td>LABORES DOMESTICAS</td>\n",
              "      <td>1991-08-16</td>\n",
              "      <td>PROFESIONAL</td>\n",
              "      <td>EMPLEADO</td>\n",
              "      <td>PROFESIONAL</td>\n",
              "      <td>NO TRABAJA</td>\n",
              "      <td>15.0</td>\n",
              "      <td>2.0</td>\n",
              "      <td>0</td>\n",
              "      <td>1.0</td>\n",
              "    </tr>\n",
              "    <tr>\n",
              "      <th>7</th>\n",
              "      <td>2007-02-01</td>\n",
              "      <td>Necesario</td>\n",
              "      <td>31.0</td>\n",
              "      <td>LICENCIADO</td>\n",
              "      <td>32.0</td>\n",
              "      <td>LICENCIADA</td>\n",
              "      <td>1999-09-17</td>\n",
              "      <td>PROFESIONAL</td>\n",
              "      <td>EMPLEADO</td>\n",
              "      <td>PROFESIONAL</td>\n",
              "      <td>EMPLEADO</td>\n",
              "      <td>7.0</td>\n",
              "      <td>1.0</td>\n",
              "      <td>0</td>\n",
              "      <td>1.0</td>\n",
              "    </tr>\n",
              "    <tr>\n",
              "      <th>8</th>\n",
              "      <td>2008-02-01</td>\n",
              "      <td>Voluntario</td>\n",
              "      <td>31.0</td>\n",
              "      <td>COMERCIANTE</td>\n",
              "      <td>28.0</td>\n",
              "      <td>EMPLEADA</td>\n",
              "      <td>2006-06-03</td>\n",
              "      <td>PROFESIONAL</td>\n",
              "      <td>EMPLEADO</td>\n",
              "      <td>PROFESIONAL</td>\n",
              "      <td>NO TRABAJA</td>\n",
              "      <td>1.0</td>\n",
              "      <td>0.0</td>\n",
              "      <td>0</td>\n",
              "      <td>3.0</td>\n",
              "    </tr>\n",
              "  </tbody>\n",
              "</table>\n",
              "</div>"
            ],
            "text/plain": [
              "  fecha_divorcio tipo_divorcio  ...  viven_juntos diferencia_edades\n",
              "0     2006-06-09     Necesario  ...             0               8.0\n",
              "4     2006-02-01     Necesario  ...             0               3.0\n",
              "6     2007-02-01     Necesario  ...             0               1.0\n",
              "7     2007-02-01     Necesario  ...             0               1.0\n",
              "8     2008-02-01    Voluntario  ...             0               3.0\n",
              "\n",
              "[5 rows x 15 columns]"
            ]
          },
          "metadata": {},
          "execution_count": 63
        }
      ],
      "source": [
        "# Antes\n",
        "divorcios.head()"
      ]
    },
    {
      "cell_type": "code",
      "execution_count": 64,
      "id": "3ce243ff",
      "metadata": {
        "colab": {
          "base_uri": "https://localhost:8080/",
          "height": 278
        },
        "id": "3ce243ff",
        "outputId": "d8b02f73-0f5b-4b5f-bf1b-62497fa3e982"
      },
      "outputs": [
        {
          "output_type": "execute_result",
          "data": {
            "text/html": [
              "<div>\n",
              "<style scoped>\n",
              "    .dataframe tbody tr th:only-of-type {\n",
              "        vertical-align: middle;\n",
              "    }\n",
              "\n",
              "    .dataframe tbody tr th {\n",
              "        vertical-align: top;\n",
              "    }\n",
              "\n",
              "    .dataframe thead th {\n",
              "        text-align: right;\n",
              "    }\n",
              "</style>\n",
              "<table border=\"1\" class=\"dataframe\">\n",
              "  <thead>\n",
              "    <tr style=\"text-align: right;\">\n",
              "      <th></th>\n",
              "      <th>edad_h</th>\n",
              "      <th>edad_m</th>\n",
              "      <th>duracion_matrimonio</th>\n",
              "      <th>numero_hijos</th>\n",
              "      <th>viven_juntos</th>\n",
              "      <th>diferencia_edades</th>\n",
              "      <th>NE_h_OTRO</th>\n",
              "      <th>NE_h_PREPARATORIA</th>\n",
              "      <th>NE_h_PRIMARIA</th>\n",
              "      <th>NE_h_PROFESIONAL</th>\n",
              "      <th>NE_h_SECUNDARIA</th>\n",
              "      <th>NE_h_SIN ESCOLARIDAD</th>\n",
              "      <th>NE_m_OTRO</th>\n",
              "      <th>NE_m_PREPARATORIA</th>\n",
              "      <th>NE_m_PRIMARIA</th>\n",
              "      <th>NE_m_PROFESIONAL</th>\n",
              "      <th>NE_m_SECUNDARIA</th>\n",
              "      <th>NE_m_SIN ESCOLARIDAD</th>\n",
              "      <th>empleo_h_EMPLEADO</th>\n",
              "      <th>empleo_h_ESTABLECIMIENTO</th>\n",
              "      <th>empleo_h_JORNALERO O PEON</th>\n",
              "      <th>empleo_h_MIEMBRO DE COOPERATIVA</th>\n",
              "      <th>empleo_h_NO TRABAJA</th>\n",
              "      <th>empleo_h_OBRERO</th>\n",
              "      <th>empleo_h_PATRON O EMPRESARIO</th>\n",
              "      <th>empleo_h_TRABAJA EN SU VIVIENDA</th>\n",
              "      <th>empleo_h_TRABAJADOR NO REMUNERADO</th>\n",
              "      <th>empleo_h_TRABAJADOR POR SU PROPIA CUENTA O EN VIA PUBLICA</th>\n",
              "      <th>empleo_m_EMPLEADO</th>\n",
              "      <th>empleo_m_ESTABLECIMIENTO</th>\n",
              "      <th>empleo_m_JORNALERO O PEON</th>\n",
              "      <th>empleo_m_MIEMBRO DE COOPERATIVA</th>\n",
              "      <th>empleo_m_NO TRABAJA</th>\n",
              "      <th>empleo_m_OBRERO</th>\n",
              "      <th>empleo_m_PATRON O EMPRESARIO</th>\n",
              "      <th>empleo_m_TRABAJA EN SU VIVIENDA</th>\n",
              "      <th>empleo_m_TRABAJADOR NO REMUNERADO</th>\n",
              "      <th>empleo_m_TRABAJADOR POR CUENTA PROPIA EN VIA PUBLICA</th>\n",
              "      <th>anio_matrimonio</th>\n",
              "      <th>mes_matrimonio</th>\n",
              "    </tr>\n",
              "  </thead>\n",
              "  <tbody>\n",
              "    <tr>\n",
              "      <th>0</th>\n",
              "      <td>30.0</td>\n",
              "      <td>22.0</td>\n",
              "      <td>5.0</td>\n",
              "      <td>1.0</td>\n",
              "      <td>0</td>\n",
              "      <td>8.0</td>\n",
              "      <td>0</td>\n",
              "      <td>0</td>\n",
              "      <td>0</td>\n",
              "      <td>0</td>\n",
              "      <td>1</td>\n",
              "      <td>0</td>\n",
              "      <td>0</td>\n",
              "      <td>0</td>\n",
              "      <td>0</td>\n",
              "      <td>0</td>\n",
              "      <td>1</td>\n",
              "      <td>0</td>\n",
              "      <td>0</td>\n",
              "      <td>0</td>\n",
              "      <td>0</td>\n",
              "      <td>0</td>\n",
              "      <td>0</td>\n",
              "      <td>1</td>\n",
              "      <td>0</td>\n",
              "      <td>0</td>\n",
              "      <td>0</td>\n",
              "      <td>0</td>\n",
              "      <td>1</td>\n",
              "      <td>0</td>\n",
              "      <td>0</td>\n",
              "      <td>0</td>\n",
              "      <td>0</td>\n",
              "      <td>0</td>\n",
              "      <td>0</td>\n",
              "      <td>0</td>\n",
              "      <td>0</td>\n",
              "      <td>0</td>\n",
              "      <td>2000</td>\n",
              "      <td>6</td>\n",
              "    </tr>\n",
              "    <tr>\n",
              "      <th>4</th>\n",
              "      <td>30.0</td>\n",
              "      <td>27.0</td>\n",
              "      <td>7.0</td>\n",
              "      <td>2.0</td>\n",
              "      <td>0</td>\n",
              "      <td>3.0</td>\n",
              "      <td>0</td>\n",
              "      <td>0</td>\n",
              "      <td>0</td>\n",
              "      <td>1</td>\n",
              "      <td>0</td>\n",
              "      <td>0</td>\n",
              "      <td>0</td>\n",
              "      <td>1</td>\n",
              "      <td>0</td>\n",
              "      <td>0</td>\n",
              "      <td>0</td>\n",
              "      <td>0</td>\n",
              "      <td>1</td>\n",
              "      <td>0</td>\n",
              "      <td>0</td>\n",
              "      <td>0</td>\n",
              "      <td>0</td>\n",
              "      <td>0</td>\n",
              "      <td>0</td>\n",
              "      <td>0</td>\n",
              "      <td>0</td>\n",
              "      <td>0</td>\n",
              "      <td>0</td>\n",
              "      <td>0</td>\n",
              "      <td>0</td>\n",
              "      <td>0</td>\n",
              "      <td>1</td>\n",
              "      <td>0</td>\n",
              "      <td>0</td>\n",
              "      <td>0</td>\n",
              "      <td>0</td>\n",
              "      <td>0</td>\n",
              "      <td>1998</td>\n",
              "      <td>11</td>\n",
              "    </tr>\n",
              "    <tr>\n",
              "      <th>6</th>\n",
              "      <td>36.0</td>\n",
              "      <td>35.0</td>\n",
              "      <td>15.0</td>\n",
              "      <td>2.0</td>\n",
              "      <td>0</td>\n",
              "      <td>1.0</td>\n",
              "      <td>0</td>\n",
              "      <td>0</td>\n",
              "      <td>0</td>\n",
              "      <td>1</td>\n",
              "      <td>0</td>\n",
              "      <td>0</td>\n",
              "      <td>0</td>\n",
              "      <td>0</td>\n",
              "      <td>0</td>\n",
              "      <td>1</td>\n",
              "      <td>0</td>\n",
              "      <td>0</td>\n",
              "      <td>1</td>\n",
              "      <td>0</td>\n",
              "      <td>0</td>\n",
              "      <td>0</td>\n",
              "      <td>0</td>\n",
              "      <td>0</td>\n",
              "      <td>0</td>\n",
              "      <td>0</td>\n",
              "      <td>0</td>\n",
              "      <td>0</td>\n",
              "      <td>0</td>\n",
              "      <td>0</td>\n",
              "      <td>0</td>\n",
              "      <td>0</td>\n",
              "      <td>1</td>\n",
              "      <td>0</td>\n",
              "      <td>0</td>\n",
              "      <td>0</td>\n",
              "      <td>0</td>\n",
              "      <td>0</td>\n",
              "      <td>1991</td>\n",
              "      <td>8</td>\n",
              "    </tr>\n",
              "    <tr>\n",
              "      <th>7</th>\n",
              "      <td>31.0</td>\n",
              "      <td>32.0</td>\n",
              "      <td>7.0</td>\n",
              "      <td>1.0</td>\n",
              "      <td>0</td>\n",
              "      <td>1.0</td>\n",
              "      <td>0</td>\n",
              "      <td>0</td>\n",
              "      <td>0</td>\n",
              "      <td>1</td>\n",
              "      <td>0</td>\n",
              "      <td>0</td>\n",
              "      <td>0</td>\n",
              "      <td>0</td>\n",
              "      <td>0</td>\n",
              "      <td>1</td>\n",
              "      <td>0</td>\n",
              "      <td>0</td>\n",
              "      <td>1</td>\n",
              "      <td>0</td>\n",
              "      <td>0</td>\n",
              "      <td>0</td>\n",
              "      <td>0</td>\n",
              "      <td>0</td>\n",
              "      <td>0</td>\n",
              "      <td>0</td>\n",
              "      <td>0</td>\n",
              "      <td>0</td>\n",
              "      <td>1</td>\n",
              "      <td>0</td>\n",
              "      <td>0</td>\n",
              "      <td>0</td>\n",
              "      <td>0</td>\n",
              "      <td>0</td>\n",
              "      <td>0</td>\n",
              "      <td>0</td>\n",
              "      <td>0</td>\n",
              "      <td>0</td>\n",
              "      <td>1999</td>\n",
              "      <td>9</td>\n",
              "    </tr>\n",
              "    <tr>\n",
              "      <th>8</th>\n",
              "      <td>31.0</td>\n",
              "      <td>28.0</td>\n",
              "      <td>1.0</td>\n",
              "      <td>0.0</td>\n",
              "      <td>0</td>\n",
              "      <td>3.0</td>\n",
              "      <td>0</td>\n",
              "      <td>0</td>\n",
              "      <td>0</td>\n",
              "      <td>1</td>\n",
              "      <td>0</td>\n",
              "      <td>0</td>\n",
              "      <td>0</td>\n",
              "      <td>0</td>\n",
              "      <td>0</td>\n",
              "      <td>1</td>\n",
              "      <td>0</td>\n",
              "      <td>0</td>\n",
              "      <td>1</td>\n",
              "      <td>0</td>\n",
              "      <td>0</td>\n",
              "      <td>0</td>\n",
              "      <td>0</td>\n",
              "      <td>0</td>\n",
              "      <td>0</td>\n",
              "      <td>0</td>\n",
              "      <td>0</td>\n",
              "      <td>0</td>\n",
              "      <td>0</td>\n",
              "      <td>0</td>\n",
              "      <td>0</td>\n",
              "      <td>0</td>\n",
              "      <td>1</td>\n",
              "      <td>0</td>\n",
              "      <td>0</td>\n",
              "      <td>0</td>\n",
              "      <td>0</td>\n",
              "      <td>0</td>\n",
              "      <td>2006</td>\n",
              "      <td>6</td>\n",
              "    </tr>\n",
              "  </tbody>\n",
              "</table>\n",
              "</div>"
            ],
            "text/plain": [
              "   edad_h  edad_m  ...  anio_matrimonio  mes_matrimonio\n",
              "0    30.0    22.0  ...             2000               6\n",
              "4    30.0    27.0  ...             1998              11\n",
              "6    36.0    35.0  ...             1991               8\n",
              "7    31.0    32.0  ...             1999               9\n",
              "8    31.0    28.0  ...             2006               6\n",
              "\n",
              "[5 rows x 40 columns]"
            ]
          },
          "metadata": {},
          "execution_count": 64
        }
      ],
      "source": [
        "# Después\n",
        "divorcios_procesada.head()"
      ]
    },
    {
      "cell_type": "code",
      "source": [
        "divorcios_procesada.columns"
      ],
      "metadata": {
        "colab": {
          "base_uri": "https://localhost:8080/"
        },
        "id": "FhttPyuS2F6b",
        "outputId": "a9c06bed-bd0c-4a8b-8606-04f5165d91df"
      },
      "id": "FhttPyuS2F6b",
      "execution_count": 65,
      "outputs": [
        {
          "output_type": "execute_result",
          "data": {
            "text/plain": [
              "Index(['edad_h', 'edad_m', 'duracion_matrimonio', 'numero_hijos',\n",
              "       'viven_juntos', 'diferencia_edades', 'NE_h_OTRO', 'NE_h_PREPARATORIA',\n",
              "       'NE_h_PRIMARIA', 'NE_h_PROFESIONAL', 'NE_h_SECUNDARIA',\n",
              "       'NE_h_SIN ESCOLARIDAD', 'NE_m_OTRO', 'NE_m_PREPARATORIA',\n",
              "       'NE_m_PRIMARIA', 'NE_m_PROFESIONAL', 'NE_m_SECUNDARIA',\n",
              "       'NE_m_SIN ESCOLARIDAD', 'empleo_h_EMPLEADO', 'empleo_h_ESTABLECIMIENTO',\n",
              "       'empleo_h_JORNALERO O PEON', 'empleo_h_MIEMBRO DE COOPERATIVA',\n",
              "       'empleo_h_NO TRABAJA', 'empleo_h_OBRERO',\n",
              "       'empleo_h_PATRON O EMPRESARIO', 'empleo_h_TRABAJA EN SU VIVIENDA',\n",
              "       'empleo_h_TRABAJADOR NO REMUNERADO',\n",
              "       'empleo_h_TRABAJADOR POR SU PROPIA CUENTA O EN VIA PUBLICA',\n",
              "       'empleo_m_EMPLEADO', 'empleo_m_ESTABLECIMIENTO',\n",
              "       'empleo_m_JORNALERO O PEON', 'empleo_m_MIEMBRO DE COOPERATIVA',\n",
              "       'empleo_m_NO TRABAJA', 'empleo_m_OBRERO',\n",
              "       'empleo_m_PATRON O EMPRESARIO', 'empleo_m_TRABAJA EN SU VIVIENDA',\n",
              "       'empleo_m_TRABAJADOR NO REMUNERADO',\n",
              "       'empleo_m_TRABAJADOR POR CUENTA PROPIA EN VIA PUBLICA ',\n",
              "       'anio_matrimonio', 'mes_matrimonio'],\n",
              "      dtype='object')"
            ]
          },
          "metadata": {},
          "execution_count": 65
        }
      ]
    },
    {
      "cell_type": "code",
      "execution_count": 66,
      "id": "1741f622",
      "metadata": {
        "colab": {
          "base_uri": "https://localhost:8080/"
        },
        "id": "1741f622",
        "outputId": "8321e942-c520-4cb5-999b-4fdb3b56ae71"
      },
      "outputs": [
        {
          "output_type": "stream",
          "name": "stdout",
          "text": [
            "(3801, 15)\n",
            "(3801, 40)\n"
          ]
        }
      ],
      "source": [
        "print(divorcios.shape)\n",
        "print(divorcios_procesada.shape)"
      ]
    },
    {
      "cell_type": "markdown",
      "id": "acbcd643",
      "metadata": {
        "id": "acbcd643"
      },
      "source": [
        "## Dividiendo los datos en set de entrenamiento y de prueba"
      ]
    },
    {
      "cell_type": "markdown",
      "id": "ef3c9742",
      "metadata": {
        "id": "ef3c9742"
      },
      "source": [
        "### Primero separamos nuestra variable objetivo de demás\n",
        "En este caso, la variable objetivo (y) será la duración de un matrimonio, considerando un conjunto de factores (X)."
      ]
    },
    {
      "cell_type": "code",
      "execution_count": 67,
      "id": "d8fbf860",
      "metadata": {
        "id": "d8fbf860"
      },
      "outputs": [],
      "source": [
        "X = divorcios_procesada.drop(columns=['duracion_matrimonio'])\n",
        "y = divorcios_procesada['duracion_matrimonio']"
      ]
    },
    {
      "cell_type": "code",
      "execution_count": 68,
      "id": "5a15c293",
      "metadata": {
        "colab": {
          "base_uri": "https://localhost:8080/"
        },
        "id": "5a15c293",
        "outputId": "57920369-101d-4a5e-ca25-0363fd14f352"
      },
      "outputs": [
        {
          "output_type": "stream",
          "name": "stdout",
          "text": [
            "(3040, 39)\n",
            "(761, 39)\n"
          ]
        }
      ],
      "source": [
        "from sklearn.model_selection import train_test_split\n",
        "\n",
        "X_train, X_test, y_train, y_test = train_test_split(X, y, test_size=0.20, random_state=11)\n",
        "\n",
        "print(X_train.shape)\n",
        "print(X_test.shape)"
      ]
    },
    {
      "cell_type": "markdown",
      "id": "e629f2ca",
      "metadata": {
        "id": "e629f2ca"
      },
      "source": [
        "Contamos con **3040** muestras de entrenamiento y **761** muestras para prueba (80% y 20% respectivamente)."
      ]
    },
    {
      "cell_type": "markdown",
      "id": "26154221",
      "metadata": {
        "id": "26154221"
      },
      "source": [
        "## Normalizando y escalando los datos"
      ]
    },
    {
      "cell_type": "code",
      "execution_count": 69,
      "id": "461e1b6f",
      "metadata": {
        "colab": {
          "base_uri": "https://localhost:8080/"
        },
        "id": "461e1b6f",
        "outputId": "4677f663-b459-4339-b0ec-0fcefcb152a8"
      },
      "outputs": [
        {
          "output_type": "execute_result",
          "data": {
            "text/plain": [
              "Pipeline(steps=[('normalizer', Normalizer()), ('scaler', MinMaxScaler())])"
            ]
          },
          "metadata": {},
          "execution_count": 69
        }
      ],
      "source": [
        "# from sklearn.preprocessing import Normalizer, MinMaxScaler\n",
        "# from sklearn.pipeline import Pipeline\n",
        "\n",
        "# # Crear el pipeline\n",
        "# pipeline = Pipeline( [('normalizer', Normalizer()), ('scaler', MinMaxScaler())] )\n",
        "\n",
        "# # Pasamos los datos por el pipeline para que ajuste sus parámetros\n",
        "# pipeline.fit(X_train)"
      ]
    },
    {
      "cell_type": "code",
      "execution_count": 70,
      "id": "92f587ac",
      "metadata": {
        "id": "92f587ac"
      },
      "outputs": [],
      "source": [
        "# Aplicamos una transformación a los datos con los parámetros ajustados por el pipeline\n",
        "# X_train_transformed = pipeline.transform(X_train)\n",
        "# X_test_transformed = pipeline.transform(X_test)"
      ]
    },
    {
      "cell_type": "markdown",
      "id": "199a281f",
      "metadata": {
        "id": "199a281f"
      },
      "source": [
        "## Entrenamiento"
      ]
    },
    {
      "cell_type": "markdown",
      "id": "3168c955",
      "metadata": {
        "id": "3168c955"
      },
      "source": [
        "Para el caso de este set de datos, más que intentar predecir variables, nos interesa analizar las características y los patrones que tienen las parejas que se divorcian. Pero para muestra de la calidad de los datos, intentaremos predecir la duración en años de un matrimonio que sabemos que se divorciará.\n",
        "Para ello utilizaremos un modelo ensemble, Random Forest Regressor, que utiliza varios árboles de decisión para hacer una predicción precisa."
      ]
    },
    {
      "cell_type": "code",
      "execution_count": 71,
      "id": "dc82da07",
      "metadata": {
        "id": "dc82da07"
      },
      "outputs": [],
      "source": [
        "from sklearn.metrics import accuracy_score\n",
        "from sklearn.metrics import mean_absolute_error as MAE\n",
        "from sklearn.metrics import mean_squared_error as MSE\n",
        "\n",
        "from sklearn.ensemble import RandomForestRegressor\n",
        "from sklearn.tree import DecisionTreeRegressor"
      ]
    },
    {
      "cell_type": "code",
      "execution_count": 137,
      "id": "ee6f48bc",
      "metadata": {
        "colab": {
          "base_uri": "https://localhost:8080/"
        },
        "id": "ee6f48bc",
        "outputId": "d31e2ee0-928e-4f99-8678-377a773eb9d9"
      },
      "outputs": [
        {
          "output_type": "execute_result",
          "data": {
            "text/plain": [
              "RandomForestRegressor(random_state=11)"
            ]
          },
          "metadata": {},
          "execution_count": 137
        }
      ],
      "source": [
        "rfr = RandomForestRegressor(random_state=11)\n",
        "rfr.fit(X_train, y_train)"
      ]
    },
    {
      "cell_type": "code",
      "execution_count": 138,
      "id": "314aba98",
      "metadata": {
        "colab": {
          "base_uri": "https://localhost:8080/"
        },
        "id": "314aba98",
        "outputId": "a1b54ccd-0fa0-4c14-8810-16f22a868c80"
      },
      "outputs": [
        {
          "output_type": "stream",
          "name": "stdout",
          "text": [
            "Random Forest Regressor score: 2.148740692071835\n"
          ]
        }
      ],
      "source": [
        "y_pred_rfr = rfr.predict(X_test)\n",
        "mae_rfr = MAE(y_test, y_pred_rfr)\n",
        "print(f'Random Forest Regressor score: {mae_rfr}')"
      ]
    },
    {
      "cell_type": "code",
      "execution_count": 139,
      "id": "29749847",
      "metadata": {
        "colab": {
          "base_uri": "https://localhost:8080/"
        },
        "id": "29749847",
        "outputId": "b80b4b3c-4d21-4ecf-856a-54c8b8f3340e"
      },
      "outputs": [
        {
          "output_type": "stream",
          "name": "stdout",
          "text": [
            "[ 6.51 14.41  3.49 35.51 24.29  4.55 35.58  2.23 15.51 10.39]\n",
            "[8.0, 21.0, 4.0, 37.0, 21.0, 4.0, 36.0, 2.0, 27.0, 17.0]\n"
          ]
        }
      ],
      "source": [
        "num_muestras = 10\n",
        "print(y_pred_rfr[:num_muestras])\n",
        "print(list(y_test.iloc[:num_muestras].array))"
      ]
    },
    {
      "cell_type": "markdown",
      "source": [
        "## Resultados de las predicciones\n",
        "Nuestro modelo es capaz de predecir la duración de un matrimonio con un error absoluto de 2 años. Lo que es bastante aceptable."
      ],
      "metadata": {
        "id": "zqUjQvNc_xAZ"
      },
      "id": "zqUjQvNc_xAZ"
    },
    {
      "cell_type": "markdown",
      "source": [
        "## Guardando y probando nuestro modelo"
      ],
      "metadata": {
        "id": "wxIYnTblP4HD"
      },
      "id": "wxIYnTblP4HD"
    },
    {
      "cell_type": "code",
      "source": [
        "import pickle\n",
        "\n",
        "# Guardando el modelo al disco\n",
        "filename = 'divorcios_modelo.sav'\n",
        "pickle.dump(rfr, open(filename, 'wb'))\n",
        "\n",
        "# load the model from disk\n",
        "loaded_model = pickle.load(open(filename, 'rb'))\n",
        "result = loaded_model.score(X_test, y_test)\n",
        "print(result)"
      ],
      "metadata": {
        "colab": {
          "base_uri": "https://localhost:8080/"
        },
        "id": "shRTY4oNP7qi",
        "outputId": "db1620f0-3a2c-4538-ecc4-25e8b43fbd6e"
      },
      "id": "shRTY4oNP7qi",
      "execution_count": 187,
      "outputs": [
        {
          "output_type": "stream",
          "name": "stdout",
          "text": [
            "0.9184505207722536\n"
          ]
        }
      ]
    },
    {
      "cell_type": "code",
      "source": [
        "divorcios_procesada.head(2)"
      ],
      "metadata": {
        "colab": {
          "base_uri": "https://localhost:8080/",
          "height": 184
        },
        "id": "8gm3J-00BXFz",
        "outputId": "84644e3a-cae1-4c1b-f189-c0ea9e50c102"
      },
      "id": "8gm3J-00BXFz",
      "execution_count": 93,
      "outputs": [
        {
          "output_type": "execute_result",
          "data": {
            "text/html": [
              "<div>\n",
              "<style scoped>\n",
              "    .dataframe tbody tr th:only-of-type {\n",
              "        vertical-align: middle;\n",
              "    }\n",
              "\n",
              "    .dataframe tbody tr th {\n",
              "        vertical-align: top;\n",
              "    }\n",
              "\n",
              "    .dataframe thead th {\n",
              "        text-align: right;\n",
              "    }\n",
              "</style>\n",
              "<table border=\"1\" class=\"dataframe\">\n",
              "  <thead>\n",
              "    <tr style=\"text-align: right;\">\n",
              "      <th></th>\n",
              "      <th>edad_h</th>\n",
              "      <th>edad_m</th>\n",
              "      <th>duracion_matrimonio</th>\n",
              "      <th>numero_hijos</th>\n",
              "      <th>viven_juntos</th>\n",
              "      <th>diferencia_edades</th>\n",
              "      <th>NE_h_OTRO</th>\n",
              "      <th>NE_h_PREPARATORIA</th>\n",
              "      <th>NE_h_PRIMARIA</th>\n",
              "      <th>NE_h_PROFESIONAL</th>\n",
              "      <th>NE_h_SECUNDARIA</th>\n",
              "      <th>NE_h_SIN ESCOLARIDAD</th>\n",
              "      <th>NE_m_OTRO</th>\n",
              "      <th>NE_m_PREPARATORIA</th>\n",
              "      <th>NE_m_PRIMARIA</th>\n",
              "      <th>NE_m_PROFESIONAL</th>\n",
              "      <th>NE_m_SECUNDARIA</th>\n",
              "      <th>NE_m_SIN ESCOLARIDAD</th>\n",
              "      <th>empleo_h_EMPLEADO</th>\n",
              "      <th>empleo_h_ESTABLECIMIENTO</th>\n",
              "      <th>empleo_h_JORNALERO O PEON</th>\n",
              "      <th>empleo_h_MIEMBRO DE COOPERATIVA</th>\n",
              "      <th>empleo_h_NO TRABAJA</th>\n",
              "      <th>empleo_h_OBRERO</th>\n",
              "      <th>empleo_h_PATRON O EMPRESARIO</th>\n",
              "      <th>empleo_h_TRABAJA EN SU VIVIENDA</th>\n",
              "      <th>empleo_h_TRABAJADOR NO REMUNERADO</th>\n",
              "      <th>empleo_h_TRABAJADOR POR SU PROPIA CUENTA O EN VIA PUBLICA</th>\n",
              "      <th>empleo_m_EMPLEADO</th>\n",
              "      <th>empleo_m_ESTABLECIMIENTO</th>\n",
              "      <th>empleo_m_JORNALERO O PEON</th>\n",
              "      <th>empleo_m_MIEMBRO DE COOPERATIVA</th>\n",
              "      <th>empleo_m_NO TRABAJA</th>\n",
              "      <th>empleo_m_OBRERO</th>\n",
              "      <th>empleo_m_PATRON O EMPRESARIO</th>\n",
              "      <th>empleo_m_TRABAJA EN SU VIVIENDA</th>\n",
              "      <th>empleo_m_TRABAJADOR NO REMUNERADO</th>\n",
              "      <th>empleo_m_TRABAJADOR POR CUENTA PROPIA EN VIA PUBLICA</th>\n",
              "      <th>anio_matrimonio</th>\n",
              "      <th>mes_matrimonio</th>\n",
              "    </tr>\n",
              "  </thead>\n",
              "  <tbody>\n",
              "    <tr>\n",
              "      <th>0</th>\n",
              "      <td>30.0</td>\n",
              "      <td>22.0</td>\n",
              "      <td>5.0</td>\n",
              "      <td>1.0</td>\n",
              "      <td>0</td>\n",
              "      <td>8.0</td>\n",
              "      <td>0</td>\n",
              "      <td>0</td>\n",
              "      <td>0</td>\n",
              "      <td>0</td>\n",
              "      <td>1</td>\n",
              "      <td>0</td>\n",
              "      <td>0</td>\n",
              "      <td>0</td>\n",
              "      <td>0</td>\n",
              "      <td>0</td>\n",
              "      <td>1</td>\n",
              "      <td>0</td>\n",
              "      <td>0</td>\n",
              "      <td>0</td>\n",
              "      <td>0</td>\n",
              "      <td>0</td>\n",
              "      <td>0</td>\n",
              "      <td>1</td>\n",
              "      <td>0</td>\n",
              "      <td>0</td>\n",
              "      <td>0</td>\n",
              "      <td>0</td>\n",
              "      <td>1</td>\n",
              "      <td>0</td>\n",
              "      <td>0</td>\n",
              "      <td>0</td>\n",
              "      <td>0</td>\n",
              "      <td>0</td>\n",
              "      <td>0</td>\n",
              "      <td>0</td>\n",
              "      <td>0</td>\n",
              "      <td>0</td>\n",
              "      <td>2000</td>\n",
              "      <td>6</td>\n",
              "    </tr>\n",
              "    <tr>\n",
              "      <th>4</th>\n",
              "      <td>30.0</td>\n",
              "      <td>27.0</td>\n",
              "      <td>7.0</td>\n",
              "      <td>2.0</td>\n",
              "      <td>0</td>\n",
              "      <td>3.0</td>\n",
              "      <td>0</td>\n",
              "      <td>0</td>\n",
              "      <td>0</td>\n",
              "      <td>1</td>\n",
              "      <td>0</td>\n",
              "      <td>0</td>\n",
              "      <td>0</td>\n",
              "      <td>1</td>\n",
              "      <td>0</td>\n",
              "      <td>0</td>\n",
              "      <td>0</td>\n",
              "      <td>0</td>\n",
              "      <td>1</td>\n",
              "      <td>0</td>\n",
              "      <td>0</td>\n",
              "      <td>0</td>\n",
              "      <td>0</td>\n",
              "      <td>0</td>\n",
              "      <td>0</td>\n",
              "      <td>0</td>\n",
              "      <td>0</td>\n",
              "      <td>0</td>\n",
              "      <td>0</td>\n",
              "      <td>0</td>\n",
              "      <td>0</td>\n",
              "      <td>0</td>\n",
              "      <td>1</td>\n",
              "      <td>0</td>\n",
              "      <td>0</td>\n",
              "      <td>0</td>\n",
              "      <td>0</td>\n",
              "      <td>0</td>\n",
              "      <td>1998</td>\n",
              "      <td>11</td>\n",
              "    </tr>\n",
              "  </tbody>\n",
              "</table>\n",
              "</div>"
            ],
            "text/plain": [
              "   edad_h  edad_m  ...  anio_matrimonio  mes_matrimonio\n",
              "0    30.0    22.0  ...             2000               6\n",
              "4    30.0    27.0  ...             1998              11\n",
              "\n",
              "[2 rows x 40 columns]"
            ]
          },
          "metadata": {},
          "execution_count": 93
        }
      ]
    },
    {
      "cell_type": "code",
      "source": [
        "divorcios_procesada.columns"
      ],
      "metadata": {
        "colab": {
          "base_uri": "https://localhost:8080/"
        },
        "id": "5010XIsSBTHW",
        "outputId": "6e8d2a88-bbf8-43bf-9c6a-868e1d1650d6"
      },
      "id": "5010XIsSBTHW",
      "execution_count": 92,
      "outputs": [
        {
          "output_type": "execute_result",
          "data": {
            "text/plain": [
              "Index(['edad_h', 'edad_m', 'duracion_matrimonio', 'numero_hijos',\n",
              "       'viven_juntos', 'diferencia_edades', 'NE_h_OTRO', 'NE_h_PREPARATORIA',\n",
              "       'NE_h_PRIMARIA', 'NE_h_PROFESIONAL', 'NE_h_SECUNDARIA',\n",
              "       'NE_h_SIN ESCOLARIDAD', 'NE_m_OTRO', 'NE_m_PREPARATORIA',\n",
              "       'NE_m_PRIMARIA', 'NE_m_PROFESIONAL', 'NE_m_SECUNDARIA',\n",
              "       'NE_m_SIN ESCOLARIDAD', 'empleo_h_EMPLEADO', 'empleo_h_ESTABLECIMIENTO',\n",
              "       'empleo_h_JORNALERO O PEON', 'empleo_h_MIEMBRO DE COOPERATIVA',\n",
              "       'empleo_h_NO TRABAJA', 'empleo_h_OBRERO',\n",
              "       'empleo_h_PATRON O EMPRESARIO', 'empleo_h_TRABAJA EN SU VIVIENDA',\n",
              "       'empleo_h_TRABAJADOR NO REMUNERADO',\n",
              "       'empleo_h_TRABAJADOR POR SU PROPIA CUENTA O EN VIA PUBLICA',\n",
              "       'empleo_m_EMPLEADO', 'empleo_m_ESTABLECIMIENTO',\n",
              "       'empleo_m_JORNALERO O PEON', 'empleo_m_MIEMBRO DE COOPERATIVA',\n",
              "       'empleo_m_NO TRABAJA', 'empleo_m_OBRERO',\n",
              "       'empleo_m_PATRON O EMPRESARIO', 'empleo_m_TRABAJA EN SU VIVIENDA',\n",
              "       'empleo_m_TRABAJADOR NO REMUNERADO',\n",
              "       'empleo_m_TRABAJADOR POR CUENTA PROPIA EN VIA PUBLICA ',\n",
              "       'anio_matrimonio', 'mes_matrimonio'],\n",
              "      dtype='object')"
            ]
          },
          "metadata": {},
          "execution_count": 92
        }
      ]
    },
    {
      "cell_type": "code",
      "source": [
        "edad_h = 35\n",
        "edad_m = 30\n",
        "numero_hijos = 3\n",
        "viven_juntos = 1\n",
        "nivel_educ_h = \"PROFESIONAL\"\n",
        "nivel_educ_m = \"PROFESIONAL\"\n",
        "estatus_empleo_h = \"PATRON O EMPRESARIO\"\n",
        "estatus_empleo_m = \"EMPLEADO\"\n",
        "anio_matrimonio = 1998\n",
        "mes_matrimonio = 10\n",
        "\n",
        "lista_datos = [edad_h, edad_m, numero_hijos, viven_juntos, nivel_educ_h, nivel_educ_m, estatus_empleo_h, estatus_empleo_m, anio_matrimonio, mes_matrimonio]"
      ],
      "metadata": {
        "id": "8OsD98-XASng"
      },
      "id": "8OsD98-XASng",
      "execution_count": 176,
      "outputs": []
    },
    {
      "cell_type": "code",
      "source": [
        "def predecir_anios(modelo, edad_h, edad_m, numero_hijos, viven_juntos, nivel_educ_h, nivel_educ_m, estatus_empleo_h, estatus_empleo_m, anio_matrimonio, mes_matrimonio):\n",
        "    data = {\n",
        "        \"edad_h\" : edad_h,\n",
        "        \"edad_m\" : edad_m,\n",
        "        \"numero_hijos\" : numero_hijos,\n",
        "        \"viven_juntos\" : viven_juntos,\n",
        "        \"diferencia_edades\" : abs(edad_h - edad_m) ,\n",
        "\n",
        "        \"NE_h_OTRO\" : 1 if nivel_educ_h.upper() == \"OTRO\" else 0 ,\n",
        "        \"NE_h_PREPARATORIA\" : 1 if nivel_educ_h.upper() == \"PREPARATORIA\" else 0 ,\n",
        "        \"NE_h_PRIMARIA\" : 1 if nivel_educ_h.upper() == \"PRIMARIA\" else 0 ,\n",
        "        \"NE_h_PROFESIONAL\" : 1 if nivel_educ_h.upper() == \"PROFESIONAL\" else 0 ,\n",
        "        \"NE_h_SECUNDARIA\" : 1 if nivel_educ_h.upper() == \"SECUNDARIA\" else 0 ,\n",
        "        \"NE_h_SIN ESCOLARIDAD\" : 1 if nivel_educ_h.upper() == \"SIN ESCOLARIDAD\" else 0 ,\n",
        "\n",
        "        \"NE_m_OTRO\" : 1 if nivel_educ_m.upper() == \"OTRO\" else 0 ,\n",
        "        \"NE_m_PREPARATORIA\" : 1 if nivel_educ_m.upper() == \"PREPARATORIA\" else 0 ,\n",
        "        \"NE_m_PRIMARIA\" : 1 if nivel_educ_m.upper() == \"PRIMARIA\" else 0 ,\n",
        "        \"NE_m_PROFESIONAL\" : 1 if nivel_educ_m.upper() == \"PROFESIONAL\" else 0 ,\n",
        "        \"NE_m_SECUNDARIA\" : 1 if nivel_educ_m.upper() == \"SECUNDARIA\" else 0 ,\n",
        "        \"NE_m_SIN ESCOLARIDAD\" : 1 if nivel_educ_m.upper() == \"SIN ESCOLARIDAD\" else 0 ,\n",
        "\n",
        "        \"empleo_h_EMPLEADO\" : 1 if estatus_empleo_h.upper() == \"EMPLEADO\" else 0 ,\n",
        "        \"empleo_h_ESTABLECIMIENTO\" : 1 if estatus_empleo_h.upper() == \"ESTABLECIMIENTO\" else 0 ,\n",
        "        \"empleo_h_JORNALERO O PEON\" : 1 if estatus_empleo_h.upper() == \"JORNALERO O PEON\" else 0 ,\n",
        "        \"empleo_h_MIEMBRO DE COOPERATIVA\" : 1 if estatus_empleo_h.upper() == \"MIEMBRO DE COOPERATIVA\" else 0 ,\n",
        "        \"empleo_h_NO TRABAJA\" : 1 if estatus_empleo_h.upper() == \"NO TRABAJA\" else 0 ,\n",
        "        \"empleo_h_OBRERO\" : 1 if estatus_empleo_h.upper() == \"OBRERO\" else 0 ,\n",
        "        \"empleo_h_PATRON O EMPRESARIO\" : 1 if estatus_empleo_h.upper() == \"PATRON O EMPRESARIO\" else 0 ,\n",
        "        \"empleo_h_TRABAJA EN SU VIVIENDA\" : 1 if estatus_empleo_h.upper() == \"TRABAJA EN SU VIVIENDA\" else 0 ,\n",
        "        \"empleo_h_TRABAJADOR NO REMUNERADO\" : 1 if estatus_empleo_h.upper() == \"TRABAJADOR NO REMUNERADO\" else 0 ,\n",
        "        \"empleo_h_TRABAJADOR POR SU PROPIA CUENTA O EN VIA PUBLICA\" : 1 if estatus_empleo_h.upper() == \"TRABAJADOR POR SU PROPIA CUENTA O EN VIA PUBLICA\" else 0 ,\n",
        "\n",
        "        \"empleo_m_EMPLEADO\" : 1 if estatus_empleo_m.upper() == \"EMPLEADO\" else 0 ,\n",
        "        \"empleo_m_ESTABLECIMIENTO\" : 1 if  estatus_empleo_m.upper() == \"ESTABLECIMIENTO\" else 0 ,\n",
        "        \"empleo_m_JORNALERO O PEON\" : 1 if  estatus_empleo_m.upper() == \"JORNALERO O PEON\" else 0 ,\n",
        "        \"empleo_m_MIEMBRO DE COOPERATIVA\" : 1 if  estatus_empleo_m.upper() == \"MIEMBRO DE COOPERATIVA\" else 0 ,\n",
        "        \"empleo_m_NO TRABAJA\" : 1 if  estatus_empleo_m.upper() == \"NO TRABAJA\" else 0 ,\n",
        "        \"empleo_m_OBRERO\" : 1 if  estatus_empleo_m.upper() == \"OBRERO\" else 0 ,\n",
        "        \"empleo_m_PATRON O EMPRESARIO\" : 1 if  estatus_empleo_m.upper() == \"PATRON O EMPRESARIO\" else 0 ,\n",
        "        \"empleo_m_TRABAJA EN SU VIVIENDA\" : 1 if  estatus_empleo_m.upper() == \"TRABAJA EN SU VIVIENDA\" else 0 ,\n",
        "        \"empleo_m_TRABAJADOR NO REMUNERADO\" : 1 if  estatus_empleo_m.upper() == \"TRABAJADOR NO REMUNERADO\" else 0 ,\n",
        "        \"empleo_m_TRABAJADOR POR CUENTA PROPIA EN VIA PUBLICA \" : 1 if  estatus_empleo_m.upper() == \"TRABAJADOR POR SU PROPIA CUENTA O EN VIA PUBLICA\" else 0 ,\n",
        "\n",
        "        \"anio_matrimonio\" : anio_matrimonio ,\n",
        "        \"mes_matrimonio\" : mes_matrimonio\n",
        "    }\n",
        "    \n",
        "    muestra = pd.DataFrame(data, index=[0])\n",
        "\n",
        "    return int(modelo.predict(muestra)[0])"
      ],
      "metadata": {
        "id": "ywv_7hWnPEnq"
      },
      "id": "ywv_7hWnPEnq",
      "execution_count": 188,
      "outputs": []
    },
    {
      "cell_type": "code",
      "source": [
        "predecir_anios(rfr, edad_h, edad_m, numero_hijos, viven_juntos, nivel_educ_h, nivel_educ_m, estatus_empleo_h, estatus_empleo_m, anio_matrimonio, mes_matrimonio)"
      ],
      "metadata": {
        "colab": {
          "base_uri": "https://localhost:8080/"
        },
        "id": "EudJoZjFPd-v",
        "outputId": "3e0953be-cd8e-48a8-e3bd-082a9f868c38"
      },
      "id": "EudJoZjFPd-v",
      "execution_count": 189,
      "outputs": [
        {
          "output_type": "execute_result",
          "data": {
            "text/plain": [
              "9"
            ]
          },
          "metadata": {},
          "execution_count": 189
        }
      ]
    }
  ],
  "metadata": {
    "interpreter": {
      "hash": "5c39a5a47bd966395772bf05276f48d3808ff3fa6ae75335751af4a0705a8d2d"
    },
    "kernelspec": {
      "display_name": "venv1kernel",
      "language": "python",
      "name": "venv1kernel"
    },
    "language_info": {
      "codemirror_mode": {
        "name": "ipython",
        "version": 3
      },
      "file_extension": ".py",
      "mimetype": "text/x-python",
      "name": "python",
      "nbconvert_exporter": "python",
      "pygments_lexer": "ipython3",
      "version": "3.6.2"
    },
    "colab": {
      "name": "Divorcios_Analisis_Predictivo.ipynb",
      "provenance": [],
      "collapsed_sections": []
    }
  },
  "nbformat": 4,
  "nbformat_minor": 5
}